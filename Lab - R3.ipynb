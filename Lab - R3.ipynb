{
 "cells": [
  {
   "cell_type": "markdown",
   "id": "de16ac05-1760-49ad-b40c-327a96a8e846",
   "metadata": {},
   "source": [
    "# Laboratorio de regresión - 3"
   ]
  },
  {
   "cell_type": "markdown",
   "id": "1db0fb70-ca43-47f7-bbfd-fd06ca0e25f2",
   "metadata": {},
   "source": [
    "## Significancia de factores"
   ]
  },
  {
   "cell_type": "markdown",
   "id": "6043c593-39d1-405c-b92e-487314170cf6",
   "metadata": {},
   "source": [
    "|                |   |\r\n",
    ":----------------|---|\r\n",
    "| **Nombre**     |   Isabela Torres - Septien Uribe |\r\n",
    "| **Fecha**      |   25/08/2025  |\r\n",
    "| **Expediente** |  730667   |"
   ]
  },
  {
   "cell_type": "markdown",
   "id": "2cfabde4-866e-4f00-8a37-9d57f2bebbb6",
   "metadata": {},
   "source": [
    "Descarga el archivo de publicidad y carga los datos (Advertising.csv)."
   ]
  },
  {
   "cell_type": "code",
   "execution_count": 15,
   "id": "07527ab6-7c18-48b5-9779-d5e6e5da289b",
   "metadata": {},
   "outputs": [],
   "source": [
    "import pandas as pd\n",
    "import numpy as np\n",
    "import matplotlib.pyplot as plt\n",
    "from sklearn.linear_model import LinearRegression"
   ]
  },
  {
   "cell_type": "code",
   "execution_count": 21,
   "id": "f76bcb16-5b02-42aa-846f-fb890b34af26",
   "metadata": {},
   "outputs": [
    {
     "data": {
      "text/html": [
       "<div>\n",
       "<style scoped>\n",
       "    .dataframe tbody tr th:only-of-type {\n",
       "        vertical-align: middle;\n",
       "    }\n",
       "\n",
       "    .dataframe tbody tr th {\n",
       "        vertical-align: top;\n",
       "    }\n",
       "\n",
       "    .dataframe thead th {\n",
       "        text-align: right;\n",
       "    }\n",
       "</style>\n",
       "<table border=\"1\" class=\"dataframe\">\n",
       "  <thead>\n",
       "    <tr style=\"text-align: right;\">\n",
       "      <th></th>\n",
       "      <th>Unnamed: 0</th>\n",
       "      <th>TV</th>\n",
       "      <th>radio</th>\n",
       "      <th>newspaper</th>\n",
       "      <th>sales</th>\n",
       "    </tr>\n",
       "  </thead>\n",
       "  <tbody>\n",
       "    <tr>\n",
       "      <th>0</th>\n",
       "      <td>1</td>\n",
       "      <td>230.1</td>\n",
       "      <td>37.8</td>\n",
       "      <td>69.2</td>\n",
       "      <td>22.1</td>\n",
       "    </tr>\n",
       "    <tr>\n",
       "      <th>1</th>\n",
       "      <td>2</td>\n",
       "      <td>44.5</td>\n",
       "      <td>39.3</td>\n",
       "      <td>45.1</td>\n",
       "      <td>10.4</td>\n",
       "    </tr>\n",
       "    <tr>\n",
       "      <th>2</th>\n",
       "      <td>3</td>\n",
       "      <td>17.2</td>\n",
       "      <td>45.9</td>\n",
       "      <td>69.3</td>\n",
       "      <td>9.3</td>\n",
       "    </tr>\n",
       "    <tr>\n",
       "      <th>3</th>\n",
       "      <td>4</td>\n",
       "      <td>151.5</td>\n",
       "      <td>41.3</td>\n",
       "      <td>58.5</td>\n",
       "      <td>18.5</td>\n",
       "    </tr>\n",
       "    <tr>\n",
       "      <th>4</th>\n",
       "      <td>5</td>\n",
       "      <td>180.8</td>\n",
       "      <td>10.8</td>\n",
       "      <td>58.4</td>\n",
       "      <td>12.9</td>\n",
       "    </tr>\n",
       "    <tr>\n",
       "      <th>...</th>\n",
       "      <td>...</td>\n",
       "      <td>...</td>\n",
       "      <td>...</td>\n",
       "      <td>...</td>\n",
       "      <td>...</td>\n",
       "    </tr>\n",
       "    <tr>\n",
       "      <th>195</th>\n",
       "      <td>196</td>\n",
       "      <td>38.2</td>\n",
       "      <td>3.7</td>\n",
       "      <td>13.8</td>\n",
       "      <td>7.6</td>\n",
       "    </tr>\n",
       "    <tr>\n",
       "      <th>196</th>\n",
       "      <td>197</td>\n",
       "      <td>94.2</td>\n",
       "      <td>4.9</td>\n",
       "      <td>8.1</td>\n",
       "      <td>9.7</td>\n",
       "    </tr>\n",
       "    <tr>\n",
       "      <th>197</th>\n",
       "      <td>198</td>\n",
       "      <td>177.0</td>\n",
       "      <td>9.3</td>\n",
       "      <td>6.4</td>\n",
       "      <td>12.8</td>\n",
       "    </tr>\n",
       "    <tr>\n",
       "      <th>198</th>\n",
       "      <td>199</td>\n",
       "      <td>283.6</td>\n",
       "      <td>42.0</td>\n",
       "      <td>66.2</td>\n",
       "      <td>25.5</td>\n",
       "    </tr>\n",
       "    <tr>\n",
       "      <th>199</th>\n",
       "      <td>200</td>\n",
       "      <td>232.1</td>\n",
       "      <td>8.6</td>\n",
       "      <td>8.7</td>\n",
       "      <td>13.4</td>\n",
       "    </tr>\n",
       "  </tbody>\n",
       "</table>\n",
       "<p>200 rows × 5 columns</p>\n",
       "</div>"
      ],
      "text/plain": [
       "     Unnamed: 0     TV  radio  newspaper  sales\n",
       "0             1  230.1   37.8       69.2   22.1\n",
       "1             2   44.5   39.3       45.1   10.4\n",
       "2             3   17.2   45.9       69.3    9.3\n",
       "3             4  151.5   41.3       58.5   18.5\n",
       "4             5  180.8   10.8       58.4   12.9\n",
       "..          ...    ...    ...        ...    ...\n",
       "195         196   38.2    3.7       13.8    7.6\n",
       "196         197   94.2    4.9        8.1    9.7\n",
       "197         198  177.0    9.3        6.4   12.8\n",
       "198         199  283.6   42.0       66.2   25.5\n",
       "199         200  232.1    8.6        8.7   13.4\n",
       "\n",
       "[200 rows x 5 columns]"
      ]
     },
     "execution_count": 21,
     "metadata": {},
     "output_type": "execute_result"
    }
   ],
   "source": [
    "df = pd.read_csv(\"Advertising.csv\")\n",
    "df"
   ]
  },
  {
   "cell_type": "code",
   "execution_count": 23,
   "id": "de0acff4-1597-4bd1-bee9-fdad89e1fb8b",
   "metadata": {},
   "outputs": [],
   "source": [
    "X = df[\"TV\"].values.reshape(-1,1)\n",
    "y = df[\"sales\"].values.reshape(-1,1)"
   ]
  },
  {
   "cell_type": "code",
   "execution_count": 25,
   "id": "0769d0e1-47cc-4ccc-9066-3f3a06dbe283",
   "metadata": {},
   "outputs": [],
   "source": [
    "matriz = df.to_numpy()"
   ]
  },
  {
   "cell_type": "markdown",
   "id": "f81535ac-87ca-490e-89e7-0564c31f73f0",
   "metadata": {},
   "source": [
    "**¿Hay alguna relación entre el presupuesto para publicidad y las ventas?**\n",
    "\n",
    "Nuestra primera meta debe ser determinar si hay evidencia en los datos de que haya una asociación entre estas variables.\n",
    "\n",
    "- ¿Por qué? ¿Qué resultaría si nos diéramos cuenta de la falta de relación entre el presupuesto de publicidad y las ventas?"
   ]
  },
  {
   "cell_type": "markdown",
   "id": "e5ed6dff-daa6-4680-ae46-1892fbe61743",
   "metadata": {},
   "source": [
    "Si hay relacio entre el presupuesto y la pubilicidad esto nos ayuda a optimizar nuestras ventas\n"
   ]
  },
  {
   "cell_type": "markdown",
   "id": "9bc7813f-d560-4e8a-bf91-3523bf0c01b6",
   "metadata": {},
   "source": [
    "Podemos determinar la mejor estrategia a utilizar y en base a eso decidir en donde invertir nuestro dinero "
   ]
  },
  {
   "cell_type": "markdown",
   "id": "3ff47351-fa8b-4c19-93ce-d68dce869913",
   "metadata": {},
   "source": [
    "**¿Qué tan fuerte es esta relación?**\n",
    "Asumiendo que existe esta relación, ¿nos sirve conocer el impacto que tiene invertir en publicidad en las ventas?"
   ]
  },
  {
   "cell_type": "markdown",
   "id": "f4f729ab-b3c5-45f2-be4d-679b009f3d98",
   "metadata": {},
   "source": [
    "Si nos sirve para ver si realmente vale le pena el dinero invertido, además de determinar si nos conviene gastar mas o menos"
   ]
  },
  {
   "cell_type": "markdown",
   "id": "4cd03e68-778f-49cc-9161-a2fff241af56",
   "metadata": {},
   "source": [
    "**¿Cuáles medios están asociados con las ventas? ¿Qué tan grande es la asociación entre un medio específico y las ventas?**\n",
    "\n",
    "Hay 3 medios distintos en los datos. ¿Sirve invertir en los 3? ¿Conviene más invertir sólo en uno?\n",
    "\n",
    "**¿Qué tan seguros estamos de que podríamos predecir ventas futuras?**\n",
    "\n",
    "**¿La relación es lineal?**\n",
    "\n",
    "**¿Hay sinergia entre estos medios?**\n",
    "\n",
    "Puede ser que gastar \\\\$50,000 en publicidad y otros \\\\$50,000 en radio es mejor opción que gastar \\\\$100,000 en televisión. A esto le llamamos efecto de interacción.\n",
    "\n",
    "Podemos usar regresión lineal para responder todas estas preguntas."
   ]
  },
  {
   "cell_type": "markdown",
   "id": "cb3f1c79-027e-4af9-b61b-82e4a45df0bb",
   "metadata": {},
   "source": [
    "Realiza una regresión lineal:\n",
    "\n",
    "$$ \\text{ventas} \\approx \\beta_0 + (\\beta_1)(\\text{TV})$$"
   ]
  },
  {
   "cell_type": "code",
   "execution_count": 27,
   "id": "5c5d518d-a3da-4b63-acd9-0481b231408d",
   "metadata": {},
   "outputs": [
    {
     "data": {
      "text/html": [
       "<style>#sk-container-id-1 {\n",
       "  /* Definition of color scheme common for light and dark mode */\n",
       "  --sklearn-color-text: black;\n",
       "  --sklearn-color-line: gray;\n",
       "  /* Definition of color scheme for unfitted estimators */\n",
       "  --sklearn-color-unfitted-level-0: #fff5e6;\n",
       "  --sklearn-color-unfitted-level-1: #f6e4d2;\n",
       "  --sklearn-color-unfitted-level-2: #ffe0b3;\n",
       "  --sklearn-color-unfitted-level-3: chocolate;\n",
       "  /* Definition of color scheme for fitted estimators */\n",
       "  --sklearn-color-fitted-level-0: #f0f8ff;\n",
       "  --sklearn-color-fitted-level-1: #d4ebff;\n",
       "  --sklearn-color-fitted-level-2: #b3dbfd;\n",
       "  --sklearn-color-fitted-level-3: cornflowerblue;\n",
       "\n",
       "  /* Specific color for light theme */\n",
       "  --sklearn-color-text-on-default-background: var(--sg-text-color, var(--theme-code-foreground, var(--jp-content-font-color1, black)));\n",
       "  --sklearn-color-background: var(--sg-background-color, var(--theme-background, var(--jp-layout-color0, white)));\n",
       "  --sklearn-color-border-box: var(--sg-text-color, var(--theme-code-foreground, var(--jp-content-font-color1, black)));\n",
       "  --sklearn-color-icon: #696969;\n",
       "\n",
       "  @media (prefers-color-scheme: dark) {\n",
       "    /* Redefinition of color scheme for dark theme */\n",
       "    --sklearn-color-text-on-default-background: var(--sg-text-color, var(--theme-code-foreground, var(--jp-content-font-color1, white)));\n",
       "    --sklearn-color-background: var(--sg-background-color, var(--theme-background, var(--jp-layout-color0, #111)));\n",
       "    --sklearn-color-border-box: var(--sg-text-color, var(--theme-code-foreground, var(--jp-content-font-color1, white)));\n",
       "    --sklearn-color-icon: #878787;\n",
       "  }\n",
       "}\n",
       "\n",
       "#sk-container-id-1 {\n",
       "  color: var(--sklearn-color-text);\n",
       "}\n",
       "\n",
       "#sk-container-id-1 pre {\n",
       "  padding: 0;\n",
       "}\n",
       "\n",
       "#sk-container-id-1 input.sk-hidden--visually {\n",
       "  border: 0;\n",
       "  clip: rect(1px 1px 1px 1px);\n",
       "  clip: rect(1px, 1px, 1px, 1px);\n",
       "  height: 1px;\n",
       "  margin: -1px;\n",
       "  overflow: hidden;\n",
       "  padding: 0;\n",
       "  position: absolute;\n",
       "  width: 1px;\n",
       "}\n",
       "\n",
       "#sk-container-id-1 div.sk-dashed-wrapped {\n",
       "  border: 1px dashed var(--sklearn-color-line);\n",
       "  margin: 0 0.4em 0.5em 0.4em;\n",
       "  box-sizing: border-box;\n",
       "  padding-bottom: 0.4em;\n",
       "  background-color: var(--sklearn-color-background);\n",
       "}\n",
       "\n",
       "#sk-container-id-1 div.sk-container {\n",
       "  /* jupyter's `normalize.less` sets `[hidden] { display: none; }`\n",
       "     but bootstrap.min.css set `[hidden] { display: none !important; }`\n",
       "     so we also need the `!important` here to be able to override the\n",
       "     default hidden behavior on the sphinx rendered scikit-learn.org.\n",
       "     See: https://github.com/scikit-learn/scikit-learn/issues/21755 */\n",
       "  display: inline-block !important;\n",
       "  position: relative;\n",
       "}\n",
       "\n",
       "#sk-container-id-1 div.sk-text-repr-fallback {\n",
       "  display: none;\n",
       "}\n",
       "\n",
       "div.sk-parallel-item,\n",
       "div.sk-serial,\n",
       "div.sk-item {\n",
       "  /* draw centered vertical line to link estimators */\n",
       "  background-image: linear-gradient(var(--sklearn-color-text-on-default-background), var(--sklearn-color-text-on-default-background));\n",
       "  background-size: 2px 100%;\n",
       "  background-repeat: no-repeat;\n",
       "  background-position: center center;\n",
       "}\n",
       "\n",
       "/* Parallel-specific style estimator block */\n",
       "\n",
       "#sk-container-id-1 div.sk-parallel-item::after {\n",
       "  content: \"\";\n",
       "  width: 100%;\n",
       "  border-bottom: 2px solid var(--sklearn-color-text-on-default-background);\n",
       "  flex-grow: 1;\n",
       "}\n",
       "\n",
       "#sk-container-id-1 div.sk-parallel {\n",
       "  display: flex;\n",
       "  align-items: stretch;\n",
       "  justify-content: center;\n",
       "  background-color: var(--sklearn-color-background);\n",
       "  position: relative;\n",
       "}\n",
       "\n",
       "#sk-container-id-1 div.sk-parallel-item {\n",
       "  display: flex;\n",
       "  flex-direction: column;\n",
       "}\n",
       "\n",
       "#sk-container-id-1 div.sk-parallel-item:first-child::after {\n",
       "  align-self: flex-end;\n",
       "  width: 50%;\n",
       "}\n",
       "\n",
       "#sk-container-id-1 div.sk-parallel-item:last-child::after {\n",
       "  align-self: flex-start;\n",
       "  width: 50%;\n",
       "}\n",
       "\n",
       "#sk-container-id-1 div.sk-parallel-item:only-child::after {\n",
       "  width: 0;\n",
       "}\n",
       "\n",
       "/* Serial-specific style estimator block */\n",
       "\n",
       "#sk-container-id-1 div.sk-serial {\n",
       "  display: flex;\n",
       "  flex-direction: column;\n",
       "  align-items: center;\n",
       "  background-color: var(--sklearn-color-background);\n",
       "  padding-right: 1em;\n",
       "  padding-left: 1em;\n",
       "}\n",
       "\n",
       "\n",
       "/* Toggleable style: style used for estimator/Pipeline/ColumnTransformer box that is\n",
       "clickable and can be expanded/collapsed.\n",
       "- Pipeline and ColumnTransformer use this feature and define the default style\n",
       "- Estimators will overwrite some part of the style using the `sk-estimator` class\n",
       "*/\n",
       "\n",
       "/* Pipeline and ColumnTransformer style (default) */\n",
       "\n",
       "#sk-container-id-1 div.sk-toggleable {\n",
       "  /* Default theme specific background. It is overwritten whether we have a\n",
       "  specific estimator or a Pipeline/ColumnTransformer */\n",
       "  background-color: var(--sklearn-color-background);\n",
       "}\n",
       "\n",
       "/* Toggleable label */\n",
       "#sk-container-id-1 label.sk-toggleable__label {\n",
       "  cursor: pointer;\n",
       "  display: block;\n",
       "  width: 100%;\n",
       "  margin-bottom: 0;\n",
       "  padding: 0.5em;\n",
       "  box-sizing: border-box;\n",
       "  text-align: center;\n",
       "}\n",
       "\n",
       "#sk-container-id-1 label.sk-toggleable__label-arrow:before {\n",
       "  /* Arrow on the left of the label */\n",
       "  content: \"▸\";\n",
       "  float: left;\n",
       "  margin-right: 0.25em;\n",
       "  color: var(--sklearn-color-icon);\n",
       "}\n",
       "\n",
       "#sk-container-id-1 label.sk-toggleable__label-arrow:hover:before {\n",
       "  color: var(--sklearn-color-text);\n",
       "}\n",
       "\n",
       "/* Toggleable content - dropdown */\n",
       "\n",
       "#sk-container-id-1 div.sk-toggleable__content {\n",
       "  max-height: 0;\n",
       "  max-width: 0;\n",
       "  overflow: hidden;\n",
       "  text-align: left;\n",
       "  /* unfitted */\n",
       "  background-color: var(--sklearn-color-unfitted-level-0);\n",
       "}\n",
       "\n",
       "#sk-container-id-1 div.sk-toggleable__content.fitted {\n",
       "  /* fitted */\n",
       "  background-color: var(--sklearn-color-fitted-level-0);\n",
       "}\n",
       "\n",
       "#sk-container-id-1 div.sk-toggleable__content pre {\n",
       "  margin: 0.2em;\n",
       "  border-radius: 0.25em;\n",
       "  color: var(--sklearn-color-text);\n",
       "  /* unfitted */\n",
       "  background-color: var(--sklearn-color-unfitted-level-0);\n",
       "}\n",
       "\n",
       "#sk-container-id-1 div.sk-toggleable__content.fitted pre {\n",
       "  /* unfitted */\n",
       "  background-color: var(--sklearn-color-fitted-level-0);\n",
       "}\n",
       "\n",
       "#sk-container-id-1 input.sk-toggleable__control:checked~div.sk-toggleable__content {\n",
       "  /* Expand drop-down */\n",
       "  max-height: 200px;\n",
       "  max-width: 100%;\n",
       "  overflow: auto;\n",
       "}\n",
       "\n",
       "#sk-container-id-1 input.sk-toggleable__control:checked~label.sk-toggleable__label-arrow:before {\n",
       "  content: \"▾\";\n",
       "}\n",
       "\n",
       "/* Pipeline/ColumnTransformer-specific style */\n",
       "\n",
       "#sk-container-id-1 div.sk-label input.sk-toggleable__control:checked~label.sk-toggleable__label {\n",
       "  color: var(--sklearn-color-text);\n",
       "  background-color: var(--sklearn-color-unfitted-level-2);\n",
       "}\n",
       "\n",
       "#sk-container-id-1 div.sk-label.fitted input.sk-toggleable__control:checked~label.sk-toggleable__label {\n",
       "  background-color: var(--sklearn-color-fitted-level-2);\n",
       "}\n",
       "\n",
       "/* Estimator-specific style */\n",
       "\n",
       "/* Colorize estimator box */\n",
       "#sk-container-id-1 div.sk-estimator input.sk-toggleable__control:checked~label.sk-toggleable__label {\n",
       "  /* unfitted */\n",
       "  background-color: var(--sklearn-color-unfitted-level-2);\n",
       "}\n",
       "\n",
       "#sk-container-id-1 div.sk-estimator.fitted input.sk-toggleable__control:checked~label.sk-toggleable__label {\n",
       "  /* fitted */\n",
       "  background-color: var(--sklearn-color-fitted-level-2);\n",
       "}\n",
       "\n",
       "#sk-container-id-1 div.sk-label label.sk-toggleable__label,\n",
       "#sk-container-id-1 div.sk-label label {\n",
       "  /* The background is the default theme color */\n",
       "  color: var(--sklearn-color-text-on-default-background);\n",
       "}\n",
       "\n",
       "/* On hover, darken the color of the background */\n",
       "#sk-container-id-1 div.sk-label:hover label.sk-toggleable__label {\n",
       "  color: var(--sklearn-color-text);\n",
       "  background-color: var(--sklearn-color-unfitted-level-2);\n",
       "}\n",
       "\n",
       "/* Label box, darken color on hover, fitted */\n",
       "#sk-container-id-1 div.sk-label.fitted:hover label.sk-toggleable__label.fitted {\n",
       "  color: var(--sklearn-color-text);\n",
       "  background-color: var(--sklearn-color-fitted-level-2);\n",
       "}\n",
       "\n",
       "/* Estimator label */\n",
       "\n",
       "#sk-container-id-1 div.sk-label label {\n",
       "  font-family: monospace;\n",
       "  font-weight: bold;\n",
       "  display: inline-block;\n",
       "  line-height: 1.2em;\n",
       "}\n",
       "\n",
       "#sk-container-id-1 div.sk-label-container {\n",
       "  text-align: center;\n",
       "}\n",
       "\n",
       "/* Estimator-specific */\n",
       "#sk-container-id-1 div.sk-estimator {\n",
       "  font-family: monospace;\n",
       "  border: 1px dotted var(--sklearn-color-border-box);\n",
       "  border-radius: 0.25em;\n",
       "  box-sizing: border-box;\n",
       "  margin-bottom: 0.5em;\n",
       "  /* unfitted */\n",
       "  background-color: var(--sklearn-color-unfitted-level-0);\n",
       "}\n",
       "\n",
       "#sk-container-id-1 div.sk-estimator.fitted {\n",
       "  /* fitted */\n",
       "  background-color: var(--sklearn-color-fitted-level-0);\n",
       "}\n",
       "\n",
       "/* on hover */\n",
       "#sk-container-id-1 div.sk-estimator:hover {\n",
       "  /* unfitted */\n",
       "  background-color: var(--sklearn-color-unfitted-level-2);\n",
       "}\n",
       "\n",
       "#sk-container-id-1 div.sk-estimator.fitted:hover {\n",
       "  /* fitted */\n",
       "  background-color: var(--sklearn-color-fitted-level-2);\n",
       "}\n",
       "\n",
       "/* Specification for estimator info (e.g. \"i\" and \"?\") */\n",
       "\n",
       "/* Common style for \"i\" and \"?\" */\n",
       "\n",
       ".sk-estimator-doc-link,\n",
       "a:link.sk-estimator-doc-link,\n",
       "a:visited.sk-estimator-doc-link {\n",
       "  float: right;\n",
       "  font-size: smaller;\n",
       "  line-height: 1em;\n",
       "  font-family: monospace;\n",
       "  background-color: var(--sklearn-color-background);\n",
       "  border-radius: 1em;\n",
       "  height: 1em;\n",
       "  width: 1em;\n",
       "  text-decoration: none !important;\n",
       "  margin-left: 1ex;\n",
       "  /* unfitted */\n",
       "  border: var(--sklearn-color-unfitted-level-1) 1pt solid;\n",
       "  color: var(--sklearn-color-unfitted-level-1);\n",
       "}\n",
       "\n",
       ".sk-estimator-doc-link.fitted,\n",
       "a:link.sk-estimator-doc-link.fitted,\n",
       "a:visited.sk-estimator-doc-link.fitted {\n",
       "  /* fitted */\n",
       "  border: var(--sklearn-color-fitted-level-1) 1pt solid;\n",
       "  color: var(--sklearn-color-fitted-level-1);\n",
       "}\n",
       "\n",
       "/* On hover */\n",
       "div.sk-estimator:hover .sk-estimator-doc-link:hover,\n",
       ".sk-estimator-doc-link:hover,\n",
       "div.sk-label-container:hover .sk-estimator-doc-link:hover,\n",
       ".sk-estimator-doc-link:hover {\n",
       "  /* unfitted */\n",
       "  background-color: var(--sklearn-color-unfitted-level-3);\n",
       "  color: var(--sklearn-color-background);\n",
       "  text-decoration: none;\n",
       "}\n",
       "\n",
       "div.sk-estimator.fitted:hover .sk-estimator-doc-link.fitted:hover,\n",
       ".sk-estimator-doc-link.fitted:hover,\n",
       "div.sk-label-container:hover .sk-estimator-doc-link.fitted:hover,\n",
       ".sk-estimator-doc-link.fitted:hover {\n",
       "  /* fitted */\n",
       "  background-color: var(--sklearn-color-fitted-level-3);\n",
       "  color: var(--sklearn-color-background);\n",
       "  text-decoration: none;\n",
       "}\n",
       "\n",
       "/* Span, style for the box shown on hovering the info icon */\n",
       ".sk-estimator-doc-link span {\n",
       "  display: none;\n",
       "  z-index: 9999;\n",
       "  position: relative;\n",
       "  font-weight: normal;\n",
       "  right: .2ex;\n",
       "  padding: .5ex;\n",
       "  margin: .5ex;\n",
       "  width: min-content;\n",
       "  min-width: 20ex;\n",
       "  max-width: 50ex;\n",
       "  color: var(--sklearn-color-text);\n",
       "  box-shadow: 2pt 2pt 4pt #999;\n",
       "  /* unfitted */\n",
       "  background: var(--sklearn-color-unfitted-level-0);\n",
       "  border: .5pt solid var(--sklearn-color-unfitted-level-3);\n",
       "}\n",
       "\n",
       ".sk-estimator-doc-link.fitted span {\n",
       "  /* fitted */\n",
       "  background: var(--sklearn-color-fitted-level-0);\n",
       "  border: var(--sklearn-color-fitted-level-3);\n",
       "}\n",
       "\n",
       ".sk-estimator-doc-link:hover span {\n",
       "  display: block;\n",
       "}\n",
       "\n",
       "/* \"?\"-specific style due to the `<a>` HTML tag */\n",
       "\n",
       "#sk-container-id-1 a.estimator_doc_link {\n",
       "  float: right;\n",
       "  font-size: 1rem;\n",
       "  line-height: 1em;\n",
       "  font-family: monospace;\n",
       "  background-color: var(--sklearn-color-background);\n",
       "  border-radius: 1rem;\n",
       "  height: 1rem;\n",
       "  width: 1rem;\n",
       "  text-decoration: none;\n",
       "  /* unfitted */\n",
       "  color: var(--sklearn-color-unfitted-level-1);\n",
       "  border: var(--sklearn-color-unfitted-level-1) 1pt solid;\n",
       "}\n",
       "\n",
       "#sk-container-id-1 a.estimator_doc_link.fitted {\n",
       "  /* fitted */\n",
       "  border: var(--sklearn-color-fitted-level-1) 1pt solid;\n",
       "  color: var(--sklearn-color-fitted-level-1);\n",
       "}\n",
       "\n",
       "/* On hover */\n",
       "#sk-container-id-1 a.estimator_doc_link:hover {\n",
       "  /* unfitted */\n",
       "  background-color: var(--sklearn-color-unfitted-level-3);\n",
       "  color: var(--sklearn-color-background);\n",
       "  text-decoration: none;\n",
       "}\n",
       "\n",
       "#sk-container-id-1 a.estimator_doc_link.fitted:hover {\n",
       "  /* fitted */\n",
       "  background-color: var(--sklearn-color-fitted-level-3);\n",
       "}\n",
       "</style><div id=\"sk-container-id-1\" class=\"sk-top-container\"><div class=\"sk-text-repr-fallback\"><pre>LinearRegression()</pre><b>In a Jupyter environment, please rerun this cell to show the HTML representation or trust the notebook. <br />On GitHub, the HTML representation is unable to render, please try loading this page with nbviewer.org.</b></div><div class=\"sk-container\" hidden><div class=\"sk-item\"><div class=\"sk-estimator fitted sk-toggleable\"><input class=\"sk-toggleable__control sk-hidden--visually\" id=\"sk-estimator-id-1\" type=\"checkbox\" checked><label for=\"sk-estimator-id-1\" class=\"sk-toggleable__label fitted sk-toggleable__label-arrow fitted\">&nbsp;&nbsp;LinearRegression<a class=\"sk-estimator-doc-link fitted\" rel=\"noreferrer\" target=\"_blank\" href=\"https://scikit-learn.org/1.4/modules/generated/sklearn.linear_model.LinearRegression.html\">?<span>Documentation for LinearRegression</span></a><span class=\"sk-estimator-doc-link fitted\">i<span>Fitted</span></span></label><div class=\"sk-toggleable__content fitted\"><pre>LinearRegression()</pre></div> </div></div></div></div>"
      ],
      "text/plain": [
       "LinearRegression()"
      ]
     },
     "execution_count": 27,
     "metadata": {},
     "output_type": "execute_result"
    }
   ],
   "source": [
    "lr = LinearRegression()\n",
    "lr.fit(X,y)"
   ]
  },
  {
   "cell_type": "code",
   "execution_count": 29,
   "id": "b7f11512-1a7e-4cda-869d-c6eb6847564c",
   "metadata": {},
   "outputs": [
    {
     "data": {
      "text/plain": [
       "array([7.03259355])"
      ]
     },
     "execution_count": 29,
     "metadata": {},
     "output_type": "execute_result"
    }
   ],
   "source": [
    "b0 = lr.intercept_\n",
    "b0"
   ]
  },
  {
   "cell_type": "code",
   "execution_count": 31,
   "id": "600e4dad-2db6-4376-8779-71b11185ebba",
   "metadata": {},
   "outputs": [],
   "source": [
    "b1 = lr.coef_"
   ]
  },
  {
   "cell_type": "code",
   "execution_count": 33,
   "id": "a1334b5c-b650-4923-a809-79eca7677b5a",
   "metadata": {},
   "outputs": [
    {
     "data": {
      "text/plain": [
       "(array([7.03259355]), array([[0.04753664]]))"
      ]
     },
     "execution_count": 33,
     "metadata": {},
     "output_type": "execute_result"
    }
   ],
   "source": [
    "b0,b1"
   ]
  },
  {
   "cell_type": "code",
   "execution_count": 35,
   "id": "8b6eb633-f62d-41b3-9f07-6df94c532808",
   "metadata": {},
   "outputs": [
    {
     "data": {
      "image/png": "[encoded data removed]",
      "text/plain": [
       "<Figure size 640x480 with 1 Axes>"
      ]
     },
     "metadata": {},
     "output_type": "display_data"
    }
   ],
   "source": [
    "plt.scatter(X, y, label='Datos originales')\n",
    "plt.plot(X, lr.predict(X), label='Modelo grado 1')\n",
    "plt.legend()\n",
    "plt.grid()"
   ]
  },
  {
   "cell_type": "markdown",
   "id": "a84ba655-7b09-482a-992f-02380dd54209",
   "metadata": {},
   "source": [
    "### Verificando la precisión de nuestros coeficientes estimados"
   ]
  },
  {
   "cell_type": "markdown",
   "id": "30733e87-7be2-477f-84c2-d430ad1a2a5d",
   "metadata": {},
   "source": [
    "Recuerda que en el mundo real hay ruidos y errores de medición. Siempre se asume que la verdadera relación entre $X$ y $Y$ es $$Y = \\beta_0 + \\beta_1 X + \\epsilon$$"
   ]
  },
  {
   "cell_type": "markdown",
   "id": "af33c415-790e-4e28-bcd5-8f94ac545822",
   "metadata": {},
   "source": [
    "Se asume que el término de error es independiente de $X$ (el error siempre es el mismo sin importar el valor de $X$). Este modelo describe a la *línea de regresión de la población*, que es la mejor aproximación de la verdadera relación entre $X$ y $Y$. Cuando usamos mínimos cuadrados encontramos la *línea de mínimos cuadrados*."
   ]
  },
  {
   "cell_type": "markdown",
   "id": "86d80b2d-2c96-4fa7-8348-29e8215e4e2e",
   "metadata": {},
   "source": [
    "¿Cuál es la diferencia entre población y muestra?"
   ]
  },
  {
   "cell_type": "markdown",
   "id": "ec345b97-255d-45a2-95ea-487212a02644",
   "metadata": {},
   "source": [
    "La diferencia es que poblacion es el total de individuos, mientras la muestra es un grupo seleccionado con el que hacemos la prueba para analizar y hacer nuestas pruebas estadisticas y de probabilidad"
   ]
  },
  {
   "cell_type": "markdown",
   "id": "ea74ba36-845f-44fe-89e4-442b66f44d9d",
   "metadata": {},
   "source": [
    "¿Cuál crees que sea la diferencia entre hacer una regresión con todos los datos de la población y una muestra de ella?"
   ]
  },
  {
   "cell_type": "markdown",
   "id": "1563051a-01a3-4a4e-bff2-f12c7d113b15",
   "metadata": {},
   "source": [
    "La principal diferencia es que si hicieramos los datos con toda la población en primer estancia no habría mucho que sacarle la probabilidad, siendo esta más precisa, sin embargo, esto es inatenible porque costaria demasiado dinero y no siempre se dan los datos o las condiciones para sacar a toda una poblacion. \n",
    "Por otro lado cuando de trabaja con una muestra representativa podemos hacerla para determinar que vamos a aplicar en una población. Además de ser más facil de manejar los datos, es mucho más eficiente y en la mayoria de los casos con una muestra es suficiente para tener una gran precision"
   ]
  },
  {
   "cell_type": "markdown",
   "id": "cfea860e-24bb-4e94-b93a-a86c8c1dca8a",
   "metadata": {},
   "source": [
    "Si lo hacemos con toda la población esto puede ser impractico,aunque en las estimaciones elimines el error de incertidumbre ya no tendrias que interferir porque ya no habría pruebas de significancia. "
   ]
  },
  {
   "cell_type": "markdown",
   "id": "c123335b-5299-4f2e-ac8e-4b1e40754221",
   "metadata": {},
   "source": [
    "La línea de regresión de la población no se puede observar. El concepto de comparar estas líneas es una extensión natural del acercamiento estadístico estándar de usar información de una muestra para estimar características de una población grande."
   ]
  },
  {
   "cell_type": "markdown",
   "id": "5b0d26b9-18de-4467-a836-3f75b228a363",
   "metadata": {},
   "source": [
    "Imagina que quieres encontrar la altura promedio de un mexicano $\\mu$. Medir a todos y cada uno de los mexicanos en situaciones similares, con la misma regla, mismo operador, y otras incontables formas de minimizar la variación de la medida es una tarea imposible. Lo que podemos asumir es que $\\hat{\\mu} = \\bar{y}$. La media poblacional y la media muestral son diferentes, pero la media muestral es usualmente un buen estimado.\n",
    "\n",
    "De la misma manera, como no contamos con el 100% de la información para hacer una regresión, los coeficientes $\\beta_0$ y $\\beta_1$ son desconocidos. Podemos estimarlos usando mínimos cuadrados, encontrando $\\hat{\\beta_0}$ y $\\hat{\\beta_1}$. Puede que las muestras que tengamos en ese momento estén un poco por encima de la media, pero otras muestras en otro momento puede que estén debajo de la media. En general, esperamos que el promedio de las aproximaciones $\\hat{\\mu}$ aproxime a $\\mu$."
   ]
  },
  {
   "cell_type": "markdown",
   "id": "7fff6312-57a0-4c9f-aaa9-f22f6294c71c",
   "metadata": {},
   "source": [
    "Esto lleva a la pregunta: ¿qué tan cercanos son nuestros coeficientes estimados a los verdaderos coeficientes? Utilizamos el concepto de error estándar para evaluar esto.\n",
    "\n",
    "$$ \\text{Var}(\\hat{\\mu})=\\text{SE}(\\hat{\\mu})^2 = \\frac{\\sigma^2}{n} $$\n",
    "\n",
    "Donde $\\sigma$ es la desviación estándar de cada una de las observaciones $y_i$ de $Y$. El error estándar nos dice la cantidad promedio que el estimado difiere del valor verdadero. Podemos ver en la fórmula que entre más observaciones tengamos el error se hace más pequeño. Las fórmulas para errores estándar de $\\hat{\\beta_0}$ y $\\hat{\\beta_1}$ son:\n",
    "\n",
    "$$ \\text{SE}(\\hat{\\beta_0})^2 = \\sigma^2 [\\frac{1}{n} + \\frac{\\bar{x}^2}{\\sum_{i=1}^n (x_i - \\bar{x})^2}]$$\n",
    "\n",
    "$$ \\text{SE}(\\hat{\\beta_1})^2 = \\frac{\\sigma^2}{\\sum_{i=1}^n (x_i - \\bar{x})^2}$$\n",
    "\n",
    "$$ \\sigma^2 = \\text{Var}(\\epsilon) = \\text{RSE}^2 = \\frac{\\text{RSS}}{n-p}$$"
   ]
  },
  {
   "cell_type": "markdown",
   "id": "661b6d7c-2274-462f-92ff-0e7be8ca742d",
   "metadata": {},
   "source": [
    "Para que estas fórmulas sean validas asumimos que los errores $\\epsilon_i$ tienen varianza común $\\sigma^2$ y que no están correlacionados.\n",
    "\n",
    "Calcula los errores estándar de los coeficientes"
   ]
  },
  {
   "cell_type": "code",
   "execution_count": 37,
   "id": "155725d3-c2bc-4c7c-bfc9-d366b8eae220",
   "metadata": {},
   "outputs": [
    {
     "data": {
      "text/plain": [
       "200"
      ]
     },
     "execution_count": 37,
     "metadata": {},
     "output_type": "execute_result"
    }
   ],
   "source": [
    "x_bar = np.mean(X)\n",
    "y_bar = np.mean(y)\n",
    "n = len(X)\n",
    "n"
   ]
  },
  {
   "cell_type": "code",
   "execution_count": 39,
   "id": "765ce85d-5e62-45f9-a0b2-bdc275dfe825",
   "metadata": {},
   "outputs": [
    {
     "data": {
      "text/plain": [
       "147.0425"
      ]
     },
     "execution_count": 39,
     "metadata": {},
     "output_type": "execute_result"
    }
   ],
   "source": [
    "x_bar"
   ]
  },
  {
   "cell_type": "code",
   "execution_count": 41,
   "id": "40eaec6f-4c6c-4341-91e7-4944fdc5632d",
   "metadata": {},
   "outputs": [
    {
     "data": {
      "text/plain": [
       "array([[17.97077451],\n",
       "       [ 9.14797405],\n",
       "       [ 7.85022376],\n",
       "       [14.23439457],\n",
       "       [15.62721814],\n",
       "       [ 7.44616232],\n",
       "       [ 9.76595037],\n",
       "       [12.74649773],\n",
       "       [ 7.44140866],\n",
       "       [16.53041431],\n",
       "       [10.17476548],\n",
       "       [17.23871025],\n",
       "       [ 8.16396559],\n",
       "       [11.66741599],\n",
       "       [16.73482186],\n",
       "       [16.32125309],\n",
       "       [10.25557777],\n",
       "       [20.40940417],\n",
       "       [10.32212907],\n",
       "       [14.03474068],\n",
       "       [17.41459582],\n",
       "       [18.31779199],\n",
       "       [ 7.6600772 ],\n",
       "       [17.88520856],\n",
       "       [ 9.99412625],\n",
       "       [19.52997632],\n",
       "       [13.82557947],\n",
       "       [18.44614092],\n",
       "       [18.85970969],\n",
       "       [10.38868036],\n",
       "       [20.95607553],\n",
       "       [12.39948025],\n",
       "       [11.653155  ],\n",
       "       [19.65832525],\n",
       "       [11.58185004],\n",
       "       [20.85149492],\n",
       "       [19.72012288],\n",
       "       [10.58358059],\n",
       "       [ 9.08142275],\n",
       "       [17.87094757],\n",
       "       [16.65876324],\n",
       "       [15.44657891],\n",
       "       [20.98935118],\n",
       "       [16.86792445],\n",
       "       [ 8.22576322],\n",
       "       [15.35625929],\n",
       "       [11.2966302 ],\n",
       "       [18.43663359],\n",
       "       [17.83291826],\n",
       "       [10.21279479],\n",
       "       [16.53041431],\n",
       "       [11.80527225],\n",
       "       [17.31952254],\n",
       "       [15.71278409],\n",
       "       [19.52046899],\n",
       "       [16.48763133],\n",
       "       [ 7.37961102],\n",
       "       [13.50708398],\n",
       "       [17.05331735],\n",
       "       [17.04856369],\n",
       "       [ 9.57580381],\n",
       "       [19.45391769],\n",
       "       [18.4081116 ],\n",
       "       [11.91460652],\n",
       "       [13.26464711],\n",
       "       [10.31262174],\n",
       "       [ 8.52999772],\n",
       "       [13.65444756],\n",
       "       [18.31779199],\n",
       "       [17.3385372 ],\n",
       "       [16.49713866],\n",
       "       [12.25211667],\n",
       "       [ 8.30657551],\n",
       "       [13.18383482],\n",
       "       [17.17691262],\n",
       "       [ 7.83596277],\n",
       "       [ 8.33985116],\n",
       "       [12.76075872],\n",
       "       [ 7.28929141],\n",
       "       [12.54684384],\n",
       "       [10.66439288],\n",
       "       [18.43187992],\n",
       "       [10.61210257],\n",
       "       [10.28409975],\n",
       "       [17.18166628],\n",
       "       [16.21667248],\n",
       "       [10.65963921],\n",
       "       [12.29489965],\n",
       "       [11.2300789 ],\n",
       "       [12.25211667],\n",
       "       [13.41676436],\n",
       "       [ 8.39214147],\n",
       "       [17.38132017],\n",
       "       [18.95953663],\n",
       "       [12.13802873],\n",
       "       [14.79532693],\n",
       "       [16.4258337 ],\n",
       "       [15.82211837],\n",
       "       [20.80395828],\n",
       "       [13.45954734],\n",
       "       [17.60474238],\n",
       "       [21.12245377],\n",
       "       [20.3523602 ],\n",
       "       [15.96472829],\n",
       "       [18.3558213 ],\n",
       "       [13.58789626],\n",
       "       [ 8.22100956],\n",
       "       [11.32990584],\n",
       "       [ 7.65532354],\n",
       "       [19.17345152],\n",
       "       [17.76636696],\n",
       "       [18.52219954],\n",
       "       [15.38478127],\n",
       "       [16.99627338],\n",
       "       [10.74995883],\n",
       "       [10.60259525],\n",
       "       [13.6496939 ],\n",
       "       [10.66439288],\n",
       "       [13.00794925],\n",
       "       [ 7.95480437],\n",
       "       [13.74952084],\n",
       "       [ 7.92628239],\n",
       "       [17.68080101],\n",
       "       [12.88435399],\n",
       "       [17.94225253],\n",
       "       [11.17778859],\n",
       "       [ 7.40337934],\n",
       "       [10.84503211],\n",
       "       [17.50491544],\n",
       "       [ 9.86577732],\n",
       "       [ 7.0658692 ],\n",
       "       [19.63931059],\n",
       "       [ 7.43190133],\n",
       "       [17.48114712],\n",
       "       [ 8.78669558],\n",
       "       [ 9.32861328],\n",
       "       [ 8.24953154],\n",
       "       [20.04337204],\n",
       "       [ 9.07666909],\n",
       "       [15.82211837],\n",
       "       [10.52178296],\n",
       "       [16.2404408 ],\n",
       "       [17.51442276],\n",
       "       [12.00492614],\n",
       "       [11.60561836],\n",
       "       [13.7019842 ],\n",
       "       [18.44614092],\n",
       "       [18.5935045 ],\n",
       "       [ 8.83898589],\n",
       "       [ 9.15748138],\n",
       "       [20.37612852],\n",
       "       [12.78452704],\n",
       "       [16.4258337 ],\n",
       "       [15.17562006],\n",
       "       [15.95997462],\n",
       "       [ 7.22749377],\n",
       "       [11.49628409],\n",
       "       [14.15358229],\n",
       "       [ 7.58877224],\n",
       "       [13.29316909],\n",
       "       [15.23266402],\n",
       "       [11.10648363],\n",
       "       [15.98849661],\n",
       "       [14.80483426],\n",
       "       [12.60388781],\n",
       "       [18.17993573],\n",
       "       [ 7.88349941],\n",
       "       [16.86317079],\n",
       "       [17.2719859 ],\n",
       "       [20.54726042],\n",
       "       [ 9.40942557],\n",
       "       [14.8523709 ],\n",
       "       [ 7.9643117 ],\n",
       "       [15.0377638 ],\n",
       "       [17.60474238],\n",
       "       [20.19548929],\n",
       "       [18.84069503],\n",
       "       [15.12332975],\n",
       "       [20.18598196],\n",
       "       [14.9046612 ],\n",
       "       [14.47683144],\n",
       "       [17.41934948],\n",
       "       [ 9.70415274],\n",
       "       [20.70413134],\n",
       "       [19.09739289],\n",
       "       [16.77760484],\n",
       "       [13.66395489],\n",
       "       [16.11684554],\n",
       "       [20.62807271],\n",
       "       [ 7.92152873],\n",
       "       [ 8.91029085],\n",
       "       [10.6216099 ],\n",
       "       [ 7.85022376],\n",
       "       [14.96170517],\n",
       "       [14.14882862],\n",
       "       [ 8.84849321],\n",
       "       [11.51054508],\n",
       "       [15.44657891],\n",
       "       [20.51398478],\n",
       "       [18.06584779]])"
      ]
     },
     "execution_count": 41,
     "metadata": {},
     "output_type": "execute_result"
    }
   ],
   "source": [
    "y_hat = lr.predict(X)\n",
    "y_hat"
   ]
  },
  {
   "cell_type": "code",
   "execution_count": 45,
   "id": "c8960721-6c01-4fdf-8c2f-465da7ac13d6",
   "metadata": {},
   "outputs": [
    {
     "data": {
      "text/plain": [
       "2102.5305831313512"
      ]
     },
     "execution_count": 45,
     "metadata": {},
     "output_type": "execute_result"
    }
   ],
   "source": [
    "RSS = np.sum((y_hat - y)**2)\n",
    "RSS"
   ]
  },
  {
   "cell_type": "code",
   "execution_count": 47,
   "id": "d76711d1-58ce-41a1-8395-ed68368e181c",
   "metadata": {},
   "outputs": [
    {
     "data": {
      "text/plain": [
       "10.618841328946218"
      ]
     },
     "execution_count": 47,
     "metadata": {},
     "output_type": "execute_result"
    }
   ],
   "source": [
    "sigma_cuad = RSS/(n-2)\n",
    "sigma_cuad"
   ]
  },
  {
   "cell_type": "code",
   "execution_count": 49,
   "id": "77f01e11-0b08-430d-9c48-dec4f25d9bc9",
   "metadata": {},
   "outputs": [
    {
     "data": {
      "text/plain": [
       "0.0026906071877968707"
      ]
     },
     "execution_count": 49,
     "metadata": {},
     "output_type": "execute_result"
    }
   ],
   "source": [
    "beta_1 = np.sqrt(sigma_cuad/(((X - x_bar)**2).sum()))\n",
    "beta_1"
   ]
  },
  {
   "cell_type": "code",
   "execution_count": 51,
   "id": "cf04c304-afea-4912-944f-71ce91a0d486",
   "metadata": {},
   "outputs": [
    {
     "data": {
      "text/plain": [
       "0.4578429402734785"
      ]
     },
     "execution_count": 51,
     "metadata": {},
     "output_type": "execute_result"
    }
   ],
   "source": [
    "beta_0 = np.sqrt(sigma_cuad * (1/n + (x_bar**2/(((X - x_bar)**2).sum()))))\n",
    "beta_0"
   ]
  },
  {
   "cell_type": "markdown",
   "id": "9c2711ec-2380-4bce-ac68-007378e7b76c",
   "metadata": {},
   "source": [
    "Estos errores se pueden usar para calcular intervalos de confianza. Un intervalo de confianza del $95\\%$ se define como un rango de valores en el cuál se encuentra el desconocido valor verdadero con un $95\\%$ de probabilidad.\n",
    "\n",
    "Otra forma de verlo es que si tomamos muestras repetidas y construimos un intervalo de confianza para cada una, el $95\\%$ de los intervalos creados van a contener el valor verdadero. Para la regresión el intervalo de confianza del $95\\%$ toma la forma:\n",
    "\n",
    "$$ \\hat{\\beta_j} \\pm 2\\text{SE}(\\hat{\\beta_j})$$"
   ]
  },
  {
   "cell_type": "markdown",
   "id": "a71aed31-b058-4217-8d45-9686b9611511",
   "metadata": {},
   "source": [
    "Calcula los intervalos de confianza para los coeficientes estimados:"
   ]
  },
  {
   "cell_type": "code",
   "execution_count": 53,
   "id": "8b725487-4e48-471d-9c5a-547e7e176334",
   "metadata": {},
   "outputs": [
    {
     "data": {
      "text/plain": [
       "array([7.94827943])"
      ]
     },
     "execution_count": 53,
     "metadata": {},
     "output_type": "execute_result"
    }
   ],
   "source": [
    "#intervalo de b0\n",
    "masb0 = b0 + (2*beta_0)\n",
    "masb0"
   ]
  },
  {
   "cell_type": "code",
   "execution_count": 55,
   "id": "b8173bfb-0766-4888-8c4b-2367cafde0c9",
   "metadata": {},
   "outputs": [
    {
     "data": {
      "text/plain": [
       "array([6.11690767])"
      ]
     },
     "execution_count": 55,
     "metadata": {},
     "output_type": "execute_result"
    }
   ],
   "source": [
    "menosb0 = b0 - (2*beta_0)\n",
    "menosb0"
   ]
  },
  {
   "cell_type": "code",
   "execution_count": 57,
   "id": "e2681447-fa5c-4057-90c2-a32faa1d7277",
   "metadata": {},
   "outputs": [
    {
     "data": {
      "text/plain": [
       "array([[0.05291785]])"
      ]
     },
     "execution_count": 57,
     "metadata": {},
     "output_type": "execute_result"
    }
   ],
   "source": [
    "masb1 = b1 + (2*beta_1)\n",
    "masb1"
   ]
  },
  {
   "cell_type": "code",
   "execution_count": 59,
   "id": "410f278c-fda3-480e-a151-b8024a8df81d",
   "metadata": {},
   "outputs": [
    {
     "data": {
      "text/plain": [
       "array([[0.05291785]])"
      ]
     },
     "execution_count": 59,
     "metadata": {},
     "output_type": "execute_result"
    }
   ],
   "source": [
    "menosb1 = b1 + (2*beta_1)\n",
    "menosb1"
   ]
  },
  {
   "cell_type": "markdown",
   "id": "da3b3100-fb87-42de-9e74-75c72464bb7b",
   "metadata": {},
   "source": [
    "Los errores estándar también se usan para realizar pruebas de hipótesis. La prueba de hipótesis más común es probar la hipótesis nula de:\n",
    "\n",
    "$$ H_0: \\text{No hay relación entre } X \\text{ y } Y \\ \\ \\ \\ (\\beta_1=0)$$"
   ]
  },
  {
   "cell_type": "markdown",
   "id": "a1ef288e-55fe-45fb-bb86-4bef282b5947",
   "metadata": {},
   "source": [
    "contra la hipótesis alternativa:\n",
    "$$ H_0: \\text{Hay alguna relación entre } X \\text{ y } Y \\ \\ \\ (\\beta_1 \\neq 0)$$"
   ]
  },
  {
   "cell_type": "markdown",
   "id": "eaf0c27a-4a67-450c-b2ce-a65958938c25",
   "metadata": {},
   "source": [
    "Explica con tus palabras el significado de la hipótesis nula y la hipótesis alternativa."
   ]
  },
  {
   "cell_type": "markdown",
   "id": "5a6caaa7-464c-4e10-903d-0f8404945ad4",
   "metadata": {},
   "source": [
    "La hipotesis nula es aquella que no pasa nada con el modelo(eso y nada es lo mismo), la hipotesos alternativa es aquella en la que vez un cambio reflejado"
   ]
  },
  {
   "cell_type": "markdown",
   "id": "a2e36b97-9347-4b49-a7f2-e02448dfe25d",
   "metadata": {},
   "source": []
  },
  {
   "cell_type": "markdown",
   "id": "5d602628-5c24-4898-a743-d84fb854474d",
   "metadata": {},
   "source": []
  },
  {
   "cell_type": "markdown",
   "id": "cc6404ea-89ae-45f0-9935-67dbd53b78c6",
   "metadata": {},
   "source": [
    "Para probal la hipótesis nula debemos determinar si nuestro estimado $\\hat{\\beta_1}$ de $\\beta_1$ está lo suficientemente alejado de cero para que podamos decir con confianza que este valor no es cero. \n",
    "\n",
    "¿Qué tan lejos? Depende de qué tanta confianza tengamos en el estimado encontrado. Si nuestro error estándar es pequeño y nuestro estimado está alejado de cero podríamos decir que hay muy poca probabilidad de que el valor verdadero sea 0. En cambio, si nuestro error estándar es grande y nuestro estimado está muy cerca de cero, entonces podrías ser que el valor verdadero sea cero y que no haya relación entre las variables."
   ]
  },
  {
   "cell_type": "markdown",
   "id": "96161b14-6a16-41ea-aec8-0394f729447d",
   "metadata": {},
   "source": [
    "Se calcula un *estadístico t* dado por\n",
    "$$ t = \\frac{\\hat{\\beta_j} - \\mu}{\\text{SE}(\\hat{\\beta_j})} $$"
   ]
  },
  {
   "cell_type": "markdown",
   "id": "4f04296d-854b-4fcb-9c79-6b23b516f2f3",
   "metadata": {},
   "source": [
    "donde $\\mu$ es el valor contra el que queremos probar.\n",
    "\n",
    "Calcula el estadístico t para tus coeficientes estimados, usando como referencia la prueba de hipótesis."
   ]
  },
  {
   "cell_type": "code",
   "execution_count": 93,
   "id": "ce33e59d-7670-4abd-bce5-71b0365daf6d",
   "metadata": {},
   "outputs": [],
   "source": [
    "p=2"
   ]
  },
  {
   "cell_type": "code",
   "execution_count": 95,
   "id": "68f15e0c-6c64-4ff5-a03c-8d72b639db7f",
   "metadata": {},
   "outputs": [
    {
     "data": {
      "text/plain": [
       "array([[17.6676256]])"
      ]
     },
     "execution_count": 95,
     "metadata": {},
     "output_type": "execute_result"
    }
   ],
   "source": [
    "T1 = (b1-0)/beta_1\n",
    "T1"
   ]
  },
  {
   "cell_type": "code",
   "execution_count": 97,
   "id": "3b101c1c-0570-4b3b-bb87-eb7b53e6ec51",
   "metadata": {},
   "outputs": [
    {
     "data": {
      "text/plain": [
       "array([15.36027517])"
      ]
     },
     "execution_count": 97,
     "metadata": {},
     "output_type": "execute_result"
    }
   ],
   "source": [
    "T0 = (b0/beta_0)\n",
    "T0"
   ]
  },
  {
   "cell_type": "markdown",
   "id": "7737b123-f4c5-403c-92f2-4800c79107d9",
   "metadata": {},
   "source": [
    "La distribución t tiene forma de campana y se parece bastante a la distribución normal cuando $n > 30$. Ya sólo es cuestión de calcular la probabilidad de observar cualquier número tal que su valor absoluto sea igual o mayor que el valor absoluto del estadístico t calculado. En otras palabras:\n",
    "$$ P(|x| \\geq |t|) $$"
   ]
  },
  {
   "cell_type": "markdown",
   "id": "6bb2ccf1-b4b1-4c0c-a15b-d4fdd2f4552a",
   "metadata": {},
   "source": [
    "A esta probabilidad la llamamos *p-value*. Un *p-value* pequeño indica que es poco probable que exista por puro azar una relación significativa entre predictor y respuesta, en caso de que no haya una asociación real entre predictor y respuesta. En otras palabras, el *p-value* te dice la probabilidad de que parezca que hay relación cuando no la hay.\n",
    "\n",
    "Si el *p-value* es pequeño, inferimos que sí hay una asociación entre el predictor y la respuesta, y **rechazamos la hipótesis nula**.\n",
    "  "
   ]
  },
  {
   "cell_type": "markdown",
   "id": "c7f17065-a71d-4322-8782-3e805df65d29",
   "metadata": {},
   "source": [
    "¿Qué tan pequeño? Depende de la aplicación. Un valor muy común es del $5\\%$.\n",
    "\n",
    "Utiliza el siguiente código para calcular el *p-value* para tus coeficientes\n",
    "\n",
    "`from scipy import stats`\n",
    "\n",
    "`p_bj = 2*(1 - stats.t.cdf(np.abs(t_bj), n-p))`"
   ]
  },
  {
   "cell_type": "code",
   "execution_count": 99,
   "id": "7a542d04-f9cb-4ea2-9af1-ca79d1539860",
   "metadata": {},
   "outputs": [],
   "source": [
    "from scipy import stats"
   ]
  },
  {
   "cell_type": "code",
   "execution_count": 109,
   "id": "18100af3-810f-4bce-8e9c-85e3aeda8b53",
   "metadata": {},
   "outputs": [],
   "source": [
    "p_bj0 = 2*(1 - stats.t.cdf(np.abs(T0), n-p))"
   ]
  },
  {
   "cell_type": "code",
   "execution_count": 107,
   "id": "3f85649a-4e68-4902-bc28-90722b192c9f",
   "metadata": {},
   "outputs": [],
   "source": [
    "p_bj1 = 2*(1 - stats.t.cdf(np.abs(T1), n-p))"
   ]
  },
  {
   "cell_type": "code",
   "execution_count": 111,
   "id": "9c75e3e4-7aeb-4ee7-9059-ff7c1dc45699",
   "metadata": {},
   "outputs": [
    {
     "data": {
      "text/plain": [
       "(array([0.]), array([[0.]]))"
      ]
     },
     "execution_count": 111,
     "metadata": {},
     "output_type": "execute_result"
    }
   ],
   "source": [
    "p_bj0,p_bj1"
   ]
  },
  {
   "cell_type": "markdown",
   "id": "2be9ad17-db40-405e-b88a-d0af8a05aacf",
   "metadata": {},
   "source": [
    "¿Se rechaza la hipótesis nula? ¿Qué significa?"
   ]
  },
  {
   "cell_type": "markdown",
   "id": "261f861e-f191-47f8-9510-7444ab416756",
   "metadata": {},
   "source": [
    "Se rechaza la hipotesis nula, Significa que el p value, es 0 por lo tanto la hipotesis nula es etadisticamente insignificante, mostrando una relacion x,y"
   ]
  },
  {
   "cell_type": "markdown",
   "id": "3a994d1a-6187-491c-a518-7971cebe3c0a",
   "metadata": {},
   "source": [
    "Realiza otras dos regresiones. Ya tienes hecha la regresión de ventas dado el gasto en publicidad de TV. Realiza la regresión para gastos en radio y gastos en periódico. Organiza las respuestas para que debajo de esta celda se tenga:\n",
    "- Título de regresión\n",
    "- Coeficientes estimados\n",
    "- Errores estándar de los coeficientes\n",
    "- Intervalos de confianza\n",
    "- Estadísticos t\n",
    "- p-values\n",
    "- Observaciones"
   ]
  },
  {
   "cell_type": "code",
   "execution_count": 151,
   "id": "166901b6-333e-49f2-bd64-52f13d866e1e",
   "metadata": {},
   "outputs": [
    {
     "data": {
      "text/plain": [
       "(array([0.]), array([[0.]]))"
      ]
     },
     "execution_count": 151,
     "metadata": {},
     "output_type": "execute_result"
    }
   ],
   "source": [
    "#regresion lineal Radio\n",
    "X = df[\"radio\"].values.reshape(-1,1)\n",
    "y = df[\"sales\"].values.reshape(-1,1)\n",
    "\n",
    "lr = LinearRegression()\n",
    "lr.fit(X,y)\n",
    "\n",
    "b0 = lr.intercept_\n",
    "b1 = lr.coef_\n",
    "b0,b1\n",
    "\n",
    "x_bar = np.mean(X)\n",
    "y_bar = np.mean(y)\n",
    "n = len(X)\n",
    "\n",
    "y_hat = lr.predict(X)\n",
    "y_hat\n",
    "\n",
    "RSS = np.sum((y_hat - y)**2)\n",
    "\n",
    "sigma_cuad = RSS/(n-2)\n",
    "\n",
    "beta_1 = np.sqrt(sigma_cuad/(((X - x_bar)**2).sum()))\n",
    "beta_0 = np.sqrt(sigma_cuad * (1/n + (x_bar**2/(((X - x_bar)**2).sum()))))\n",
    "\n",
    "TR1 = (b1-0)/beta_1\n",
    "TR0 = (b0/beta_0)\n",
    "\n",
    "pr_bj0 = 2*(1 - stats.t.cdf(np.abs(TR0), n-p))\n",
    "pr_bj1 = 2*(1 - stats.t.cdf(np.abs(TR1), n-p))\n",
    "\n",
    "pr_bj0,pr_bj1"
   ]
  },
  {
   "cell_type": "markdown",
   "id": "2863f32e-f9be-4fb9-b752-177a9421300b",
   "metadata": {},
   "source": [
    "Se rechaza la hipotesis nula, Significa que el p value, es 0 por lo tanto la hipotesis nula es etadisticamente insignificante, mostrando una relacion x,y"
   ]
  },
  {
   "cell_type": "code",
   "execution_count": 153,
   "id": "cbfaed5f-f044-43e4-90b7-29144d8b8f0f",
   "metadata": {},
   "outputs": [
    {
     "data": {
      "text/plain": [
       "(array([0.]), array([[0.0011482]]))"
      ]
     },
     "execution_count": 153,
     "metadata": {},
     "output_type": "execute_result"
    }
   ],
   "source": [
    "#regresion lineal Newspaper\n",
    "X = df[\"newspaper\"].values.reshape(-1,1)\n",
    "y = df[\"sales\"].values.reshape(-1,1)\n",
    "\n",
    "lr = LinearRegression()\n",
    "lr.fit(X,y)\n",
    "\n",
    "b0 = lr.intercept_\n",
    "b1 = lr.coef_\n",
    "b0,b1\n",
    "\n",
    "x_bar = np.mean(X)\n",
    "y_bar = np.mean(y)\n",
    "n = len(X)\n",
    "\n",
    "y_hat = lr.predict(X)\n",
    "y_hat\n",
    "\n",
    "RSS = np.sum((y_hat - y)**2)\n",
    "\n",
    "sigma_cuad = RSS/(n-2)\n",
    "\n",
    "beta_1 = np.sqrt(sigma_cuad/(((X - x_bar)**2).sum()))\n",
    "beta_0 = np.sqrt(sigma_cuad * (1/n + (x_bar**2/(((X - x_bar)**2).sum()))))\n",
    "\n",
    "TR1 = (b1-0)/beta_1\n",
    "TR0 = (b0/beta_0)\n",
    "\n",
    "pn_bj0 = 2*(1 - stats.t.cdf(np.abs(TR0), n-p))\n",
    "pn_bj1 = 2*(1 - stats.t.cdf(np.abs(TR1), n-p))\n",
    "\n",
    "pn_bj0,pn_bj1"
   ]
  },
  {
   "cell_type": "markdown",
   "id": "c31f380e-1223-477b-82c4-075aa8b1e22c",
   "metadata": {},
   "source": [
    "Se rechaza la hipotesis nula, Significa que el p value, es 0 por lo tanto la hipotesis nula es etadisticamente insignificante, mostrando una relacion x,y"
   ]
  },
  {
   "cell_type": "markdown",
   "id": "556988ae-3656-428d-817b-76f9e1534f46",
   "metadata": {},
   "source": [
    "## Regresión lineal múltiple"
   ]
  },
  {
   "cell_type": "markdown",
   "id": "943698d8-7f84-4245-8be3-e4c8f34be5da",
   "metadata": {},
   "source": [
    "En lugar de hacer una regresión para cada factor independiente, quizás se puede extender el modelo para que tenga varios factores dentro:\n",
    "\n",
    "$$ Y = \\beta_0 + \\beta_1 X_1 + \\beta_2 X_2 + ... + \\beta_p X_p + \\epsilon $$\n",
    "\n",
    "Para nuestro ejemplo de publicidad:\n",
    "\n",
    "$$ \\text{sales} = \\beta_0 + \\beta_1 (\\text{TV}) + \\beta_2 (\\text{radio}) + \\beta_3 (\\text{newspaper}) + \\epsilon $$"
   ]
  },
  {
   "cell_type": "markdown",
   "id": "df8cd89a-0c25-4e1d-9213-292807e17ccf",
   "metadata": {},
   "source": [
    "Utiliza la librería `statsmodels` para realizar la regresión. Por defecto la librería statsmodels no toma en cuenta el intercepto ($\\beta_0$), por lo que se tendrá que agregar una columna de unos de tamaño *n* a la matriz X.\n",
    "\n",
    "`import statsmodels.api as sm`\n",
    "\n",
    "`ols = sm.OLS(Y, X)`\n",
    "\n",
    "`results = ols.fit()`\n",
    "\n",
    "`results.summary()`"
   ]
  },
  {
   "cell_type": "code",
   "execution_count": 113,
   "id": "022522eb-2c18-435e-b51b-4ed5a5c54669",
   "metadata": {},
   "outputs": [],
   "source": [
    "import statsmodels.api as sm"
   ]
  },
  {
   "cell_type": "code",
   "execution_count": 115,
   "id": "df3fb74f-25a2-4e8c-9b96-dfcc9ab390b0",
   "metadata": {},
   "outputs": [],
   "source": [
    "unos = np.ones([200, 1])"
   ]
  },
  {
   "cell_type": "code",
   "execution_count": 121,
   "id": "d4834796-e672-4313-b545-9b8cbb5be97b",
   "metadata": {},
   "outputs": [],
   "source": [
    "x_tv = df['TV'].values.reshape(-1,1)"
   ]
  },
  {
   "cell_type": "code",
   "execution_count": 122,
   "id": "40c5d139-188c-4356-8dee-39c97a9e9db5",
   "metadata": {},
   "outputs": [],
   "source": [
    "x_radio = df['radio'].values.reshape(-1,1)"
   ]
  },
  {
   "cell_type": "code",
   "execution_count": 123,
   "id": "0c5779f9-4e5b-4256-8a67-e30ef50426a4",
   "metadata": {},
   "outputs": [],
   "source": [
    "x_newspaper = df['newspaper'].values.reshape(-1,1)"
   ]
  },
  {
   "cell_type": "code",
   "execution_count": 124,
   "id": "7450433b-6c38-4de0-83cb-b293908a08c6",
   "metadata": {},
   "outputs": [],
   "source": [
    "X2 = np.hstack([unos, x_tv, x_radio, x_newspaper])"
   ]
  },
  {
   "cell_type": "code",
   "execution_count": 125,
   "id": "1b9948da-a192-47e6-8c37-5062bd885404",
   "metadata": {},
   "outputs": [
    {
     "data": {
      "text/plain": [
       "array([[  1. , 230.1,  37.8,  69.2],\n",
       "       [  1. ,  44.5,  39.3,  45.1],\n",
       "       [  1. ,  17.2,  45.9,  69.3],\n",
       "       [  1. , 151.5,  41.3,  58.5],\n",
       "       [  1. , 180.8,  10.8,  58.4],\n",
       "       [  1. ,   8.7,  48.9,  75. ],\n",
       "       [  1. ,  57.5,  32.8,  23.5],\n",
       "       [  1. , 120.2,  19.6,  11.6],\n",
       "       [  1. ,   8.6,   2.1,   1. ],\n",
       "       [  1. , 199.8,   2.6,  21.2],\n",
       "       [  1. ,  66.1,   5.8,  24.2],\n",
       "       [  1. , 214.7,  24. ,   4. ],\n",
       "       [  1. ,  23.8,  35.1,  65.9],\n",
       "       [  1. ,  97.5,   7.6,   7.2],\n",
       "       [  1. , 204.1,  32.9,  46. ],\n",
       "       [  1. , 195.4,  47.7,  52.9],\n",
       "       [  1. ,  67.8,  36.6, 114. ],\n",
       "       [  1. , 281.4,  39.6,  55.8],\n",
       "       [  1. ,  69.2,  20.5,  18.3],\n",
       "       [  1. , 147.3,  23.9,  19.1],\n",
       "       [  1. , 218.4,  27.7,  53.4],\n",
       "       [  1. , 237.4,   5.1,  23.5],\n",
       "       [  1. ,  13.2,  15.9,  49.6],\n",
       "       [  1. , 228.3,  16.9,  26.2],\n",
       "       [  1. ,  62.3,  12.6,  18.3],\n",
       "       [  1. , 262.9,   3.5,  19.5],\n",
       "       [  1. , 142.9,  29.3,  12.6],\n",
       "       [  1. , 240.1,  16.7,  22.9],\n",
       "       [  1. , 248.8,  27.1,  22.9],\n",
       "       [  1. ,  70.6,  16. ,  40.8],\n",
       "       [  1. , 292.9,  28.3,  43.2],\n",
       "       [  1. , 112.9,  17.4,  38.6],\n",
       "       [  1. ,  97.2,   1.5,  30. ],\n",
       "       [  1. , 265.6,  20. ,   0.3],\n",
       "       [  1. ,  95.7,   1.4,   7.4],\n",
       "       [  1. , 290.7,   4.1,   8.5],\n",
       "       [  1. , 266.9,  43.8,   5. ],\n",
       "       [  1. ,  74.7,  49.4,  45.7],\n",
       "       [  1. ,  43.1,  26.7,  35.1],\n",
       "       [  1. , 228. ,  37.7,  32. ],\n",
       "       [  1. , 202.5,  22.3,  31.6],\n",
       "       [  1. , 177. ,  33.4,  38.7],\n",
       "       [  1. , 293.6,  27.7,   1.8],\n",
       "       [  1. , 206.9,   8.4,  26.4],\n",
       "       [  1. ,  25.1,  25.7,  43.3],\n",
       "       [  1. , 175.1,  22.5,  31.5],\n",
       "       [  1. ,  89.7,   9.9,  35.7],\n",
       "       [  1. , 239.9,  41.5,  18.5],\n",
       "       [  1. , 227.2,  15.8,  49.9],\n",
       "       [  1. ,  66.9,  11.7,  36.8],\n",
       "       [  1. , 199.8,   3.1,  34.6],\n",
       "       [  1. , 100.4,   9.6,   3.6],\n",
       "       [  1. , 216.4,  41.7,  39.6],\n",
       "       [  1. , 182.6,  46.2,  58.7],\n",
       "       [  1. , 262.7,  28.8,  15.9],\n",
       "       [  1. , 198.9,  49.4,  60. ],\n",
       "       [  1. ,   7.3,  28.1,  41.4],\n",
       "       [  1. , 136.2,  19.2,  16.6],\n",
       "       [  1. , 210.8,  49.6,  37.7],\n",
       "       [  1. , 210.7,  29.5,   9.3],\n",
       "       [  1. ,  53.5,   2. ,  21.4],\n",
       "       [  1. , 261.3,  42.7,  54.7],\n",
       "       [  1. , 239.3,  15.5,  27.3],\n",
       "       [  1. , 102.7,  29.6,   8.4],\n",
       "       [  1. , 131.1,  42.8,  28.9],\n",
       "       [  1. ,  69. ,   9.3,   0.9],\n",
       "       [  1. ,  31.5,  24.6,   2.2],\n",
       "       [  1. , 139.3,  14.5,  10.2],\n",
       "       [  1. , 237.4,  27.5,  11. ],\n",
       "       [  1. , 216.8,  43.9,  27.2],\n",
       "       [  1. , 199.1,  30.6,  38.7],\n",
       "       [  1. , 109.8,  14.3,  31.7],\n",
       "       [  1. ,  26.8,  33. ,  19.3],\n",
       "       [  1. , 129.4,   5.7,  31.3],\n",
       "       [  1. , 213.4,  24.6,  13.1],\n",
       "       [  1. ,  16.9,  43.7,  89.4],\n",
       "       [  1. ,  27.5,   1.6,  20.7],\n",
       "       [  1. , 120.5,  28.5,  14.2],\n",
       "       [  1. ,   5.4,  29.9,   9.4],\n",
       "       [  1. , 116. ,   7.7,  23.1],\n",
       "       [  1. ,  76.4,  26.7,  22.3],\n",
       "       [  1. , 239.8,   4.1,  36.9],\n",
       "       [  1. ,  75.3,  20.3,  32.5],\n",
       "       [  1. ,  68.4,  44.5,  35.6],\n",
       "       [  1. , 213.5,  43. ,  33.8],\n",
       "       [  1. , 193.2,  18.4,  65.7],\n",
       "       [  1. ,  76.3,  27.5,  16. ],\n",
       "       [  1. , 110.7,  40.6,  63.2],\n",
       "       [  1. ,  88.3,  25.5,  73.4],\n",
       "       [  1. , 109.8,  47.8,  51.4],\n",
       "       [  1. , 134.3,   4.9,   9.3],\n",
       "       [  1. ,  28.6,   1.5,  33. ],\n",
       "       [  1. , 217.7,  33.5,  59. ],\n",
       "       [  1. , 250.9,  36.5,  72.3],\n",
       "       [  1. , 107.4,  14. ,  10.9],\n",
       "       [  1. , 163.3,  31.6,  52.9],\n",
       "       [  1. , 197.6,   3.5,   5.9],\n",
       "       [  1. , 184.9,  21. ,  22. ],\n",
       "       [  1. , 289.7,  42.3,  51.2],\n",
       "       [  1. , 135.2,  41.7,  45.9],\n",
       "       [  1. , 222.4,   4.3,  49.8],\n",
       "       [  1. , 296.4,  36.3, 100.9],\n",
       "       [  1. , 280.2,  10.1,  21.4],\n",
       "       [  1. , 187.9,  17.2,  17.9],\n",
       "       [  1. , 238.2,  34.3,   5.3],\n",
       "       [  1. , 137.9,  46.4,  59. ],\n",
       "       [  1. ,  25. ,  11. ,  29.7],\n",
       "       [  1. ,  90.4,   0.3,  23.2],\n",
       "       [  1. ,  13.1,   0.4,  25.6],\n",
       "       [  1. , 255.4,  26.9,   5.5],\n",
       "       [  1. , 225.8,   8.2,  56.5],\n",
       "       [  1. , 241.7,  38. ,  23.2],\n",
       "       [  1. , 175.7,  15.4,   2.4],\n",
       "       [  1. , 209.6,  20.6,  10.7],\n",
       "       [  1. ,  78.2,  46.8,  34.5],\n",
       "       [  1. ,  75.1,  35. ,  52.7],\n",
       "       [  1. , 139.2,  14.3,  25.6],\n",
       "       [  1. ,  76.4,   0.8,  14.8],\n",
       "       [  1. , 125.7,  36.9,  79.2],\n",
       "       [  1. ,  19.4,  16. ,  22.3],\n",
       "       [  1. , 141.3,  26.8,  46.2],\n",
       "       [  1. ,  18.8,  21.7,  50.4],\n",
       "       [  1. , 224. ,   2.4,  15.6],\n",
       "       [  1. , 123.1,  34.6,  12.4],\n",
       "       [  1. , 229.5,  32.3,  74.2],\n",
       "       [  1. ,  87.2,  11.8,  25.9],\n",
       "       [  1. ,   7.8,  38.9,  50.6],\n",
       "       [  1. ,  80.2,   0. ,   9.2],\n",
       "       [  1. , 220.3,  49. ,   3.2],\n",
       "       [  1. ,  59.6,  12. ,  43.1],\n",
       "       [  1. ,   0.7,  39.6,   8.7],\n",
       "       [  1. , 265.2,   2.9,  43. ],\n",
       "       [  1. ,   8.4,  27.2,   2.1],\n",
       "       [  1. , 219.8,  33.5,  45.1],\n",
       "       [  1. ,  36.9,  38.6,  65.6],\n",
       "       [  1. ,  48.3,  47. ,   8.5],\n",
       "       [  1. ,  25.6,  39. ,   9.3],\n",
       "       [  1. , 273.7,  28.9,  59.7],\n",
       "       [  1. ,  43. ,  25.9,  20.5],\n",
       "       [  1. , 184.9,  43.9,   1.7],\n",
       "       [  1. ,  73.4,  17. ,  12.9],\n",
       "       [  1. , 193.7,  35.4,  75.6],\n",
       "       [  1. , 220.5,  33.2,  37.9],\n",
       "       [  1. , 104.6,   5.7,  34.4],\n",
       "       [  1. ,  96.2,  14.8,  38.9],\n",
       "       [  1. , 140.3,   1.9,   9. ],\n",
       "       [  1. , 240.1,   7.3,   8.7],\n",
       "       [  1. , 243.2,  49. ,  44.3],\n",
       "       [  1. ,  38. ,  40.3,  11.9],\n",
       "       [  1. ,  44.7,  25.8,  20.6],\n",
       "       [  1. , 280.7,  13.9,  37. ],\n",
       "       [  1. , 121. ,   8.4,  48.7],\n",
       "       [  1. , 197.6,  23.3,  14.2],\n",
       "       [  1. , 171.3,  39.7,  37.7],\n",
       "       [  1. , 187.8,  21.1,   9.5],\n",
       "       [  1. ,   4.1,  11.6,   5.7],\n",
       "       [  1. ,  93.9,  43.5,  50.5],\n",
       "       [  1. , 149.8,   1.3,  24.3],\n",
       "       [  1. ,  11.7,  36.9,  45.2],\n",
       "       [  1. , 131.7,  18.4,  34.6],\n",
       "       [  1. , 172.5,  18.1,  30.7],\n",
       "       [  1. ,  85.7,  35.8,  49.3],\n",
       "       [  1. , 188.4,  18.1,  25.6],\n",
       "       [  1. , 163.5,  36.8,   7.4],\n",
       "       [  1. , 117.2,  14.7,   5.4],\n",
       "       [  1. , 234.5,   3.4,  84.8],\n",
       "       [  1. ,  17.9,  37.6,  21.6],\n",
       "       [  1. , 206.8,   5.2,  19.4],\n",
       "       [  1. , 215.4,  23.6,  57.6],\n",
       "       [  1. , 284.3,  10.6,   6.4],\n",
       "       [  1. ,  50. ,  11.6,  18.4],\n",
       "       [  1. , 164.5,  20.9,  47.4],\n",
       "       [  1. ,  19.6,  20.1,  17. ],\n",
       "       [  1. , 168.4,   7.1,  12.8],\n",
       "       [  1. , 222.4,   3.4,  13.1],\n",
       "       [  1. , 276.9,  48.9,  41.8],\n",
       "       [  1. , 248.4,  30.2,  20.3],\n",
       "       [  1. , 170.2,   7.8,  35.2],\n",
       "       [  1. , 276.7,   2.3,  23.7],\n",
       "       [  1. , 165.6,  10. ,  17.6],\n",
       "       [  1. , 156.6,   2.6,   8.3],\n",
       "       [  1. , 218.5,   5.4,  27.4],\n",
       "       [  1. ,  56.2,   5.7,  29.7],\n",
       "       [  1. , 287.6,  43. ,  71.8],\n",
       "       [  1. , 253.8,  21.3,  30. ],\n",
       "       [  1. , 205. ,  45.1,  19.6],\n",
       "       [  1. , 139.5,   2.1,  26.6],\n",
       "       [  1. , 191.1,  28.7,  18.2],\n",
       "       [  1. , 286. ,  13.9,   3.7],\n",
       "       [  1. ,  18.7,  12.1,  23.4],\n",
       "       [  1. ,  39.5,  41.1,   5.8],\n",
       "       [  1. ,  75.5,  10.8,   6. ],\n",
       "       [  1. ,  17.2,   4.1,  31.6],\n",
       "       [  1. , 166.8,  42. ,   3.6],\n",
       "       [  1. , 149.7,  35.6,   6. ],\n",
       "       [  1. ,  38.2,   3.7,  13.8],\n",
       "       [  1. ,  94.2,   4.9,   8.1],\n",
       "       [  1. , 177. ,   9.3,   6.4],\n",
       "       [  1. , 283.6,  42. ,  66.2],\n",
       "       [  1. , 232.1,   8.6,   8.7]])"
      ]
     },
     "execution_count": 125,
     "metadata": {},
     "output_type": "execute_result"
    }
   ],
   "source": [
    "X2"
   ]
  },
  {
   "cell_type": "code",
   "execution_count": 126,
   "id": "a7a3bd74-0f56-4199-a327-278c3ec9919e",
   "metadata": {},
   "outputs": [],
   "source": [
    "ols = sm.OLS(y,X2)"
   ]
  },
  {
   "cell_type": "code",
   "execution_count": 127,
   "id": "e9c9f7ea-0b4c-4f54-922e-6d1222da5da5",
   "metadata": {},
   "outputs": [],
   "source": [
    "results = ols.fit()"
   ]
  },
  {
   "cell_type": "code",
   "execution_count": 128,
   "id": "130a4125-0e8c-4414-bb02-42897b6bc73a",
   "metadata": {},
   "outputs": [
    {
     "data": {
      "text/html": [
       "<table class=\"simpletable\">\n",
       "<caption>OLS Regression Results</caption>\n",
       "<tr>\n",
       "  <th>Dep. Variable:</th>            <td>y</td>        <th>  R-squared:         </th> <td>   0.897</td>\n",
       "</tr>\n",
       "<tr>\n",
       "  <th>Model:</th>                   <td>OLS</td>       <th>  Adj. R-squared:    </th> <td>   0.896</td>\n",
       "</tr>\n",
       "<tr>\n",
       "  <th>Method:</th>             <td>Least Squares</td>  <th>  F-statistic:       </th> <td>   570.3</td>\n",
       "</tr>\n",
       "<tr>\n",
       "  <th>Date:</th>             <td>Mon, 01 Sep 2025</td> <th>  Prob (F-statistic):</th> <td>1.58e-96</td>\n",
       "</tr>\n",
       "<tr>\n",
       "  <th>Time:</th>                 <td>14:10:59</td>     <th>  Log-Likelihood:    </th> <td> -386.18</td>\n",
       "</tr>\n",
       "<tr>\n",
       "  <th>No. Observations:</th>      <td>   200</td>      <th>  AIC:               </th> <td>   780.4</td>\n",
       "</tr>\n",
       "<tr>\n",
       "  <th>Df Residuals:</th>          <td>   196</td>      <th>  BIC:               </th> <td>   793.6</td>\n",
       "</tr>\n",
       "<tr>\n",
       "  <th>Df Model:</th>              <td>     3</td>      <th>                     </th>     <td> </td>   \n",
       "</tr>\n",
       "<tr>\n",
       "  <th>Covariance Type:</th>      <td>nonrobust</td>    <th>                     </th>     <td> </td>   \n",
       "</tr>\n",
       "</table>\n",
       "<table class=\"simpletable\">\n",
       "<tr>\n",
       "    <td></td>       <th>coef</th>     <th>std err</th>      <th>t</th>      <th>P>|t|</th>  <th>[0.025</th>    <th>0.975]</th>  \n",
       "</tr>\n",
       "<tr>\n",
       "  <th>const</th> <td>    2.9389</td> <td>    0.312</td> <td>    9.422</td> <td> 0.000</td> <td>    2.324</td> <td>    3.554</td>\n",
       "</tr>\n",
       "<tr>\n",
       "  <th>x1</th>    <td>    0.0458</td> <td>    0.001</td> <td>   32.809</td> <td> 0.000</td> <td>    0.043</td> <td>    0.049</td>\n",
       "</tr>\n",
       "<tr>\n",
       "  <th>x2</th>    <td>    0.1885</td> <td>    0.009</td> <td>   21.893</td> <td> 0.000</td> <td>    0.172</td> <td>    0.206</td>\n",
       "</tr>\n",
       "<tr>\n",
       "  <th>x3</th>    <td>   -0.0010</td> <td>    0.006</td> <td>   -0.177</td> <td> 0.860</td> <td>   -0.013</td> <td>    0.011</td>\n",
       "</tr>\n",
       "</table>\n",
       "<table class=\"simpletable\">\n",
       "<tr>\n",
       "  <th>Omnibus:</th>       <td>60.414</td> <th>  Durbin-Watson:     </th> <td>   2.084</td>\n",
       "</tr>\n",
       "<tr>\n",
       "  <th>Prob(Omnibus):</th> <td> 0.000</td> <th>  Jarque-Bera (JB):  </th> <td> 151.241</td>\n",
       "</tr>\n",
       "<tr>\n",
       "  <th>Skew:</th>          <td>-1.327</td> <th>  Prob(JB):          </th> <td>1.44e-33</td>\n",
       "</tr>\n",
       "<tr>\n",
       "  <th>Kurtosis:</th>      <td> 6.332</td> <th>  Cond. No.          </th> <td>    454.</td>\n",
       "</tr>\n",
       "</table><br/><br/>Notes:<br/>[1] Standard Errors assume that the covariance matrix of the errors is correctly specified."
      ],
      "text/latex": [
       "\\begin{center}\n",
       "\\begin{tabular}{lclc}\n",
       "\\toprule\n",
       "\\textbf{Dep. Variable:}    &        y         & \\textbf{  R-squared:         } &     0.897   \\\\\n",
       "\\textbf{Model:}            &       OLS        & \\textbf{  Adj. R-squared:    } &     0.896   \\\\\n",
       "\\textbf{Method:}           &  Least Squares   & \\textbf{  F-statistic:       } &     570.3   \\\\\n",
       "\\textbf{Date:}             & Mon, 01 Sep 2025 & \\textbf{  Prob (F-statistic):} &  1.58e-96   \\\\\n",
       "\\textbf{Time:}             &     14:10:59     & \\textbf{  Log-Likelihood:    } &   -386.18   \\\\\n",
       "\\textbf{No. Observations:} &         200      & \\textbf{  AIC:               } &     780.4   \\\\\n",
       "\\textbf{Df Residuals:}     &         196      & \\textbf{  BIC:               } &     793.6   \\\\\n",
       "\\textbf{Df Model:}         &           3      & \\textbf{                     } &             \\\\\n",
       "\\textbf{Covariance Type:}  &    nonrobust     & \\textbf{                     } &             \\\\\n",
       "\\bottomrule\n",
       "\\end{tabular}\n",
       "\\begin{tabular}{lcccccc}\n",
       "               & \\textbf{coef} & \\textbf{std err} & \\textbf{t} & \\textbf{P$> |$t$|$} & \\textbf{[0.025} & \\textbf{0.975]}  \\\\\n",
       "\\midrule\n",
       "\\textbf{const} &       2.9389  &        0.312     &     9.422  &         0.000        &        2.324    &        3.554     \\\\\n",
       "\\textbf{x1}    &       0.0458  &        0.001     &    32.809  &         0.000        &        0.043    &        0.049     \\\\\n",
       "\\textbf{x2}    &       0.1885  &        0.009     &    21.893  &         0.000        &        0.172    &        0.206     \\\\\n",
       "\\textbf{x3}    &      -0.0010  &        0.006     &    -0.177  &         0.860        &       -0.013    &        0.011     \\\\\n",
       "\\bottomrule\n",
       "\\end{tabular}\n",
       "\\begin{tabular}{lclc}\n",
       "\\textbf{Omnibus:}       & 60.414 & \\textbf{  Durbin-Watson:     } &    2.084  \\\\\n",
       "\\textbf{Prob(Omnibus):} &  0.000 & \\textbf{  Jarque-Bera (JB):  } &  151.241  \\\\\n",
       "\\textbf{Skew:}          & -1.327 & \\textbf{  Prob(JB):          } & 1.44e-33  \\\\\n",
       "\\textbf{Kurtosis:}      &  6.332 & \\textbf{  Cond. No.          } &     454.  \\\\\n",
       "\\bottomrule\n",
       "\\end{tabular}\n",
       "%\\caption{OLS Regression Results}\n",
       "\\end{center}\n",
       "\n",
       "Notes: \\newline\n",
       " [1] Standard Errors assume that the covariance matrix of the errors is correctly specified."
      ],
      "text/plain": [
       "<class 'statsmodels.iolib.summary.Summary'>\n",
       "\"\"\"\n",
       "                            OLS Regression Results                            \n",
       "==============================================================================\n",
       "Dep. Variable:                      y   R-squared:                       0.897\n",
       "Model:                            OLS   Adj. R-squared:                  0.896\n",
       "Method:                 Least Squares   F-statistic:                     570.3\n",
       "Date:                Mon, 01 Sep 2025   Prob (F-statistic):           1.58e-96\n",
       "Time:                        14:10:59   Log-Likelihood:                -386.18\n",
       "No. Observations:                 200   AIC:                             780.4\n",
       "Df Residuals:                     196   BIC:                             793.6\n",
       "Df Model:                           3                                         \n",
       "Covariance Type:            nonrobust                                         \n",
       "==============================================================================\n",
       "                 coef    std err          t      P>|t|      [0.025      0.975]\n",
       "------------------------------------------------------------------------------\n",
       "const          2.9389      0.312      9.422      0.000       2.324       3.554\n",
       "x1             0.0458      0.001     32.809      0.000       0.043       0.049\n",
       "x2             0.1885      0.009     21.893      0.000       0.172       0.206\n",
       "x3            -0.0010      0.006     -0.177      0.860      -0.013       0.011\n",
       "==============================================================================\n",
       "Omnibus:                       60.414   Durbin-Watson:                   2.084\n",
       "Prob(Omnibus):                  0.000   Jarque-Bera (JB):              151.241\n",
       "Skew:                          -1.327   Prob(JB):                     1.44e-33\n",
       "Kurtosis:                       6.332   Cond. No.                         454.\n",
       "==============================================================================\n",
       "\n",
       "Notes:\n",
       "[1] Standard Errors assume that the covariance matrix of the errors is correctly specified.\n",
       "\"\"\""
      ]
     },
     "execution_count": 128,
     "metadata": {},
     "output_type": "execute_result"
    }
   ],
   "source": [
    "results.summary()"
   ]
  },
  {
   "cell_type": "markdown",
   "id": "df0f403f-b246-4706-a4c6-5f17be224048",
   "metadata": {},
   "source": [
    "¿Qué diferencias puedes observar entre los *p-values* de una regresión múltiple y los encontrados en las regresiones simples? ¿Por qué crees que existen estas diferencias?"
   ]
  },
  {
   "cell_type": "markdown",
   "id": "3d7c481b-538b-48f7-89ad-ca12aa8339d0",
   "metadata": {},
   "source": [
    "En la regresion lineal multiple, el aumento es significativo mientras no tienen impacto en los otros valores, en esta se toman en cuentra que tanto las otras variables se afectan entre si. Tomas en cuenta a las otras variables.\n",
    "\n",
    "Mientras tanto, en la regresión lineal simple el p-value te muestra solamente que tanto se afecta a ella misma. Por eso los p-values cambian porque puede que una variable por si sola no tenga mucho que ver con las otras"
   ]
  },
  {
   "cell_type": "markdown",
   "id": "8a72b870-2174-4ea9-adac-260d6aa97067",
   "metadata": {},
   "source": [
    "## Addendum"
   ]
  },
  {
   "cell_type": "markdown",
   "id": "8dacc515-40ee-4ac8-a6f6-9e1a22b97313",
   "metadata": {},
   "source": [
    "Para calcular los *p-values* de los parámetros sin `statsmodels`:\n",
    "1. Calcular RSS\n",
    "2. Calcular RSE\n",
    "3. `var_beta = np.linalg.inv(X.T @ X) * rse**2` (X con columna de intercepto)\n",
    "4. `std_beta = np.sqrt(var_beta.diagonal())` El orden de los valores corresponde al orden de los factores en las columnas de la matriz $X$.\n",
    "5. Calcular *estadístico t*\n",
    "6. Calcular *p-value*"
   ]
  },
  {
   "cell_type": "code",
   "execution_count": 143,
   "id": "ec45b5bc-17dd-4f08-a2f2-d2e61bfb2495",
   "metadata": {},
   "outputs": [],
   "source": [
    "#TV * newspaper, radio*newspaper"
   ]
  },
  {
   "cell_type": "code",
   "execution_count": 135,
   "id": "4f6cde6d-f88d-42ee-861c-07c49f9f3322",
   "metadata": {},
   "outputs": [
    {
     "data": {
      "text/plain": [
       "array([[1.000000e+00, 8.697780e+03, 1.592292e+04, 2.615760e+03],\n",
       "       [1.000000e+00, 1.748850e+03, 2.006950e+03, 1.772430e+03],\n",
       "       [1.000000e+00, 7.894800e+02, 1.191960e+03, 3.180870e+03],\n",
       "       [1.000000e+00, 6.256950e+03, 8.862750e+03, 2.416050e+03],\n",
       "       [1.000000e+00, 1.952640e+03, 1.055872e+04, 6.307200e+02],\n",
       "       [1.000000e+00, 4.254300e+02, 6.525000e+02, 3.667500e+03],\n",
       "       [1.000000e+00, 1.886000e+03, 1.351250e+03, 7.708000e+02],\n",
       "       [1.000000e+00, 2.355920e+03, 1.394320e+03, 2.273600e+02],\n",
       "       [1.000000e+00, 1.806000e+01, 8.600000e+00, 2.100000e+00],\n",
       "       [1.000000e+00, 5.194800e+02, 4.235760e+03, 5.512000e+01],\n",
       "       [1.000000e+00, 3.833800e+02, 1.599620e+03, 1.403600e+02],\n",
       "       [1.000000e+00, 5.152800e+03, 8.588000e+02, 9.600000e+01],\n",
       "       [1.000000e+00, 8.353800e+02, 1.568420e+03, 2.313090e+03],\n",
       "       [1.000000e+00, 7.410000e+02, 7.020000e+02, 5.472000e+01],\n",
       "       [1.000000e+00, 6.714890e+03, 9.388600e+03, 1.513400e+03],\n",
       "       [1.000000e+00, 9.320580e+03, 1.033666e+04, 2.523330e+03],\n",
       "       [1.000000e+00, 2.481480e+03, 7.729200e+03, 4.172400e+03],\n",
       "       [1.000000e+00, 1.114344e+04, 1.570212e+04, 2.209680e+03],\n",
       "       [1.000000e+00, 1.418600e+03, 1.266360e+03, 3.751500e+02],\n",
       "       [1.000000e+00, 3.520470e+03, 2.813430e+03, 4.564900e+02],\n",
       "       [1.000000e+00, 6.049680e+03, 1.166256e+04, 1.479180e+03],\n",
       "       [1.000000e+00, 1.210740e+03, 5.578900e+03, 1.198500e+02],\n",
       "       [1.000000e+00, 2.098800e+02, 6.547200e+02, 7.886400e+02],\n",
       "       [1.000000e+00, 3.858270e+03, 5.981460e+03, 4.427800e+02],\n",
       "       [1.000000e+00, 7.849800e+02, 1.140090e+03, 2.305800e+02],\n",
       "       [1.000000e+00, 9.201500e+02, 5.126550e+03, 6.825000e+01],\n",
       "       [1.000000e+00, 4.186970e+03, 1.800540e+03, 3.691800e+02],\n",
       "       [1.000000e+00, 4.009670e+03, 5.498290e+03, 3.824300e+02],\n",
       "       [1.000000e+00, 6.742480e+03, 5.697520e+03, 6.205900e+02],\n",
       "       [1.000000e+00, 1.129600e+03, 2.880480e+03, 6.528000e+02],\n",
       "       [1.000000e+00, 8.289070e+03, 1.265328e+04, 1.222560e+03],\n",
       "       [1.000000e+00, 1.964460e+03, 4.357940e+03, 6.716400e+02],\n",
       "       [1.000000e+00, 1.458000e+02, 2.916000e+03, 4.500000e+01],\n",
       "       [1.000000e+00, 5.312000e+03, 7.968000e+01, 6.000000e+00],\n",
       "       [1.000000e+00, 1.339800e+02, 7.081800e+02, 1.036000e+01],\n",
       "       [1.000000e+00, 1.191870e+03, 2.470950e+03, 3.485000e+01],\n",
       "       [1.000000e+00, 1.169022e+04, 1.334500e+03, 2.190000e+02],\n",
       "       [1.000000e+00, 3.690180e+03, 3.413790e+03, 2.257580e+03],\n",
       "       [1.000000e+00, 1.150770e+03, 1.512810e+03, 9.371700e+02],\n",
       "       [1.000000e+00, 8.595600e+03, 7.296000e+03, 1.206400e+03],\n",
       "       [1.000000e+00, 4.515750e+03, 6.399000e+03, 7.046800e+02],\n",
       "       [1.000000e+00, 5.911800e+03, 6.849900e+03, 1.292580e+03],\n",
       "       [1.000000e+00, 8.132720e+03, 5.284800e+02, 4.986000e+01],\n",
       "       [1.000000e+00, 1.737960e+03, 5.462160e+03, 2.217600e+02],\n",
       "       [1.000000e+00, 6.450700e+02, 1.086830e+03, 1.112810e+03],\n",
       "       [1.000000e+00, 3.939750e+03, 5.515650e+03, 7.087500e+02],\n",
       "       [1.000000e+00, 8.880300e+02, 3.202290e+03, 3.534300e+02],\n",
       "       [1.000000e+00, 9.955850e+03, 4.438150e+03, 7.677500e+02],\n",
       "       [1.000000e+00, 3.589760e+03, 1.133728e+04, 7.884200e+02],\n",
       "       [1.000000e+00, 7.827300e+02, 2.461920e+03, 4.305600e+02],\n",
       "       [1.000000e+00, 6.193800e+02, 6.913080e+03, 1.072600e+02],\n",
       "       [1.000000e+00, 9.638400e+02, 3.614400e+02, 3.456000e+01],\n",
       "       [1.000000e+00, 9.023880e+03, 8.569440e+03, 1.651320e+03],\n",
       "       [1.000000e+00, 8.436120e+03, 1.071862e+04, 2.711940e+03],\n",
       "       [1.000000e+00, 7.565760e+03, 4.176930e+03, 4.579200e+02],\n",
       "       [1.000000e+00, 9.825660e+03, 1.193400e+04, 2.964000e+03],\n",
       "       [1.000000e+00, 2.051300e+02, 3.022200e+02, 1.163340e+03],\n",
       "       [1.000000e+00, 2.615040e+03, 2.260920e+03, 3.187200e+02],\n",
       "       [1.000000e+00, 1.045568e+04, 7.947160e+03, 1.869920e+03],\n",
       "       [1.000000e+00, 6.215650e+03, 1.959510e+03, 2.743500e+02],\n",
       "       [1.000000e+00, 1.070000e+02, 1.144900e+03, 4.280000e+01],\n",
       "       [1.000000e+00, 1.115751e+04, 1.429311e+04, 2.335690e+03],\n",
       "       [1.000000e+00, 3.709150e+03, 6.532890e+03, 4.231500e+02],\n",
       "       [1.000000e+00, 3.039920e+03, 8.626800e+02, 2.486400e+02],\n",
       "       [1.000000e+00, 5.611080e+03, 3.788790e+03, 1.236920e+03],\n",
       "       [1.000000e+00, 6.417000e+02, 6.210000e+01, 8.370000e+00],\n",
       "       [1.000000e+00, 7.749000e+02, 6.930000e+01, 5.412000e+01],\n",
       "       [1.000000e+00, 2.019850e+03, 1.420860e+03, 1.479000e+02],\n",
       "       [1.000000e+00, 6.528500e+03, 2.611400e+03, 3.025000e+02],\n",
       "       [1.000000e+00, 9.517520e+03, 5.896960e+03, 1.194080e+03],\n",
       "       [1.000000e+00, 6.092460e+03, 7.705170e+03, 1.184220e+03],\n",
       "       [1.000000e+00, 1.570140e+03, 3.480660e+03, 4.533100e+02],\n",
       "       [1.000000e+00, 8.844000e+02, 5.172400e+02, 6.369000e+02],\n",
       "       [1.000000e+00, 7.375800e+02, 4.050220e+03, 1.784100e+02],\n",
       "       [1.000000e+00, 5.249640e+03, 2.795540e+03, 3.222600e+02],\n",
       "       [1.000000e+00, 7.385300e+02, 1.510860e+03, 3.906780e+03],\n",
       "       [1.000000e+00, 4.400000e+01, 5.692500e+02, 3.312000e+01],\n",
       "       [1.000000e+00, 3.434250e+03, 1.711100e+03, 4.047000e+02],\n",
       "       [1.000000e+00, 1.614600e+02, 5.076000e+01, 2.810600e+02],\n",
       "       [1.000000e+00, 8.932000e+02, 2.679600e+03, 1.778700e+02],\n",
       "       [1.000000e+00, 2.039880e+03, 1.703720e+03, 5.954100e+02],\n",
       "       [1.000000e+00, 9.831800e+02, 8.848620e+03, 1.512900e+02],\n",
       "       [1.000000e+00, 1.528590e+03, 2.447250e+03, 6.597500e+02],\n",
       "       [1.000000e+00, 3.043800e+03, 2.435040e+03, 1.584200e+03],\n",
       "       [1.000000e+00, 9.180500e+03, 7.216300e+03, 1.453400e+03],\n",
       "       [1.000000e+00, 3.554880e+03, 1.269324e+04, 1.208880e+03],\n",
       "       [1.000000e+00, 2.098250e+03, 1.220800e+03, 4.400000e+02],\n",
       "       [1.000000e+00, 4.494420e+03, 6.996240e+03, 2.565920e+03],\n",
       "       [1.000000e+00, 2.251650e+03, 6.481220e+03, 1.871700e+03],\n",
       "       [1.000000e+00, 5.248440e+03, 5.643720e+03, 2.456920e+03],\n",
       "       [1.000000e+00, 6.580700e+02, 1.248990e+03, 4.557000e+01],\n",
       "       [1.000000e+00, 4.290000e+01, 9.438000e+02, 4.950000e+01],\n",
       "       [1.000000e+00, 7.292950e+03, 1.284430e+04, 1.976500e+03],\n",
       "       [1.000000e+00, 9.157850e+03, 1.814007e+04, 2.638950e+03],\n",
       "       [1.000000e+00, 1.503600e+03, 1.170660e+03, 1.526000e+02],\n",
       "       [1.000000e+00, 5.160280e+03, 8.638570e+03, 1.671640e+03],\n",
       "       [1.000000e+00, 6.916000e+02, 1.165840e+03, 2.065000e+01],\n",
       "       [1.000000e+00, 3.882900e+03, 4.067800e+03, 4.620000e+02],\n",
       "       [1.000000e+00, 1.225431e+04, 1.483264e+04, 2.165760e+03],\n",
       "       [1.000000e+00, 5.637840e+03, 6.205680e+03, 1.914030e+03],\n",
       "       [1.000000e+00, 9.563200e+02, 1.107552e+04, 2.141400e+02],\n",
       "       [1.000000e+00, 1.075932e+04, 2.990676e+04, 3.662670e+03],\n",
       "       [1.000000e+00, 2.830020e+03, 5.996280e+03, 2.161400e+02],\n",
       "       [1.000000e+00, 3.231880e+03, 3.363410e+03, 3.078800e+02],\n",
       "       [1.000000e+00, 8.170260e+03, 1.262460e+03, 1.817900e+02],\n",
       "       [1.000000e+00, 6.398560e+03, 8.136100e+03, 2.737600e+03],\n",
       "       [1.000000e+00, 2.750000e+02, 7.425000e+02, 3.267000e+02],\n",
       "       [1.000000e+00, 2.712000e+01, 2.097280e+03, 6.960000e+00],\n",
       "       [1.000000e+00, 5.240000e+00, 3.353600e+02, 1.024000e+01],\n",
       "       [1.000000e+00, 6.870260e+03, 1.404700e+03, 1.479500e+02],\n",
       "       [1.000000e+00, 1.851560e+03, 1.275770e+04, 4.633000e+02],\n",
       "       [1.000000e+00, 9.184600e+03, 5.607440e+03, 8.816000e+02],\n",
       "       [1.000000e+00, 2.705780e+03, 4.216800e+02, 3.696000e+01],\n",
       "       [1.000000e+00, 4.317760e+03, 2.242720e+03, 2.204200e+02],\n",
       "       [1.000000e+00, 3.659760e+03, 2.697900e+03, 1.614600e+03],\n",
       "       [1.000000e+00, 2.628500e+03, 3.957770e+03, 1.844500e+03],\n",
       "       [1.000000e+00, 1.990560e+03, 3.563520e+03, 3.660800e+02],\n",
       "       [1.000000e+00, 6.112000e+01, 1.130720e+03, 1.184000e+01],\n",
       "       [1.000000e+00, 4.638330e+03, 9.955440e+03, 2.922480e+03],\n",
       "       [1.000000e+00, 3.104000e+02, 4.326200e+02, 3.568000e+02],\n",
       "       [1.000000e+00, 3.786840e+03, 6.528060e+03, 1.238160e+03],\n",
       "       [1.000000e+00, 4.079600e+02, 9.475200e+02, 1.093680e+03],\n",
       "       [1.000000e+00, 5.376000e+02, 3.494400e+03, 3.744000e+01],\n",
       "       [1.000000e+00, 4.259260e+03, 1.526440e+03, 4.290400e+02],\n",
       "       [1.000000e+00, 7.412850e+03, 1.702890e+04, 2.396660e+03],\n",
       "       [1.000000e+00, 1.028960e+03, 2.258480e+03, 3.056200e+02],\n",
       "       [1.000000e+00, 3.034200e+02, 3.946800e+02, 1.968340e+03],\n",
       "       [1.000000e+00, 0.000000e+00, 7.378400e+02, 0.000000e+00],\n",
       "       [1.000000e+00, 1.079470e+04, 7.049600e+02, 1.568000e+02],\n",
       "       [1.000000e+00, 7.152000e+02, 2.568760e+03, 5.172000e+02],\n",
       "       [1.000000e+00, 2.772000e+01, 6.090000e+00, 3.445200e+02],\n",
       "       [1.000000e+00, 7.690800e+02, 1.140360e+04, 1.247000e+02],\n",
       "       [1.000000e+00, 2.284800e+02, 1.764000e+01, 5.712000e+01],\n",
       "       [1.000000e+00, 7.363300e+03, 9.912980e+03, 1.510850e+03],\n",
       "       [1.000000e+00, 1.424340e+03, 2.420640e+03, 2.532160e+03],\n",
       "       [1.000000e+00, 2.270100e+03, 4.105500e+02, 3.995000e+02],\n",
       "       [1.000000e+00, 9.984000e+02, 2.380800e+02, 3.627000e+02],\n",
       "       [1.000000e+00, 7.909930e+03, 1.633989e+04, 1.725330e+03],\n",
       "       [1.000000e+00, 1.113700e+03, 8.815000e+02, 5.309500e+02],\n",
       "       [1.000000e+00, 8.117110e+03, 3.143300e+02, 7.463000e+01],\n",
       "       [1.000000e+00, 1.247800e+03, 9.468600e+02, 2.193000e+02],\n",
       "       [1.000000e+00, 6.856980e+03, 1.464372e+04, 2.676240e+03],\n",
       "       [1.000000e+00, 7.320600e+03, 8.356950e+03, 1.258280e+03],\n",
       "       [1.000000e+00, 5.962200e+02, 3.598240e+03, 1.960800e+02],\n",
       "       [1.000000e+00, 1.423760e+03, 3.742180e+03, 5.757200e+02],\n",
       "       [1.000000e+00, 2.665700e+02, 1.262700e+03, 1.710000e+01],\n",
       "       [1.000000e+00, 1.752730e+03, 2.088870e+03, 6.351000e+01],\n",
       "       [1.000000e+00, 1.191680e+04, 1.077376e+04, 2.170700e+03],\n",
       "       [1.000000e+00, 1.531400e+03, 4.522000e+02, 4.795700e+02],\n",
       "       [1.000000e+00, 1.153260e+03, 9.208200e+02, 5.314800e+02],\n",
       "       [1.000000e+00, 3.901730e+03, 1.038590e+04, 5.143000e+02],\n",
       "       [1.000000e+00, 1.016400e+03, 5.892700e+03, 4.090800e+02],\n",
       "       [1.000000e+00, 4.604080e+03, 2.805920e+03, 3.308600e+02],\n",
       "       [1.000000e+00, 6.800610e+03, 6.458010e+03, 1.496690e+03],\n",
       "       [1.000000e+00, 3.962580e+03, 1.784100e+03, 2.004500e+02],\n",
       "       [1.000000e+00, 4.756000e+01, 2.337000e+01, 6.612000e+01],\n",
       "       [1.000000e+00, 4.084650e+03, 4.741950e+03, 2.196750e+03],\n",
       "       [1.000000e+00, 1.947400e+02, 3.640140e+03, 3.159000e+01],\n",
       "       [1.000000e+00, 4.317300e+02, 5.288400e+02, 1.667880e+03],\n",
       "       [1.000000e+00, 2.423280e+03, 4.556820e+03, 6.366400e+02],\n",
       "       [1.000000e+00, 3.122250e+03, 5.295750e+03, 5.556700e+02],\n",
       "       [1.000000e+00, 3.068060e+03, 4.225010e+03, 1.764940e+03],\n",
       "       [1.000000e+00, 3.410040e+03, 4.823040e+03, 4.633600e+02],\n",
       "       [1.000000e+00, 6.016800e+03, 1.209900e+03, 2.723200e+02],\n",
       "       [1.000000e+00, 1.722840e+03, 6.328800e+02, 7.938000e+01],\n",
       "       [1.000000e+00, 7.973000e+02, 1.988560e+04, 2.883200e+02],\n",
       "       [1.000000e+00, 6.730400e+02, 3.866400e+02, 8.121600e+02],\n",
       "       [1.000000e+00, 1.075360e+03, 4.011920e+03, 1.008800e+02],\n",
       "       [1.000000e+00, 5.083440e+03, 1.240704e+04, 1.359360e+03],\n",
       "       [1.000000e+00, 3.013580e+03, 1.819520e+03, 6.784000e+01],\n",
       "       [1.000000e+00, 5.800000e+02, 9.200000e+02, 2.134400e+02],\n",
       "       [1.000000e+00, 3.438050e+03, 7.797300e+03, 9.906600e+02],\n",
       "       [1.000000e+00, 3.939600e+02, 3.332000e+02, 3.417000e+02],\n",
       "       [1.000000e+00, 1.195640e+03, 2.155520e+03, 9.088000e+01],\n",
       "       [1.000000e+00, 7.561600e+02, 2.913440e+03, 4.454000e+01],\n",
       "       [1.000000e+00, 1.354041e+04, 1.157442e+04, 2.044020e+03],\n",
       "       [1.000000e+00, 7.501680e+03, 5.042520e+03, 6.130600e+02],\n",
       "       [1.000000e+00, 1.327560e+03, 5.991040e+03, 2.745600e+02],\n",
       "       [1.000000e+00, 6.364100e+02, 6.557790e+03, 5.451000e+01],\n",
       "       [1.000000e+00, 1.656000e+03, 2.914560e+03, 1.760000e+02],\n",
       "       [1.000000e+00, 4.071600e+02, 1.299780e+03, 2.158000e+01],\n",
       "       [1.000000e+00, 1.179900e+03, 5.986900e+03, 1.479600e+02],\n",
       "       [1.000000e+00, 3.203400e+02, 1.669140e+03, 1.692900e+02],\n",
       "       [1.000000e+00, 1.236680e+04, 2.064968e+04, 3.087400e+03],\n",
       "       [1.000000e+00, 5.405940e+03, 7.614000e+03, 6.390000e+02],\n",
       "       [1.000000e+00, 9.245500e+03, 4.018000e+03, 8.839600e+02],\n",
       "       [1.000000e+00, 2.929500e+02, 3.710700e+03, 5.586000e+01],\n",
       "       [1.000000e+00, 5.484570e+03, 3.478020e+03, 5.223400e+02],\n",
       "       [1.000000e+00, 3.975400e+03, 1.058200e+03, 5.143000e+01],\n",
       "       [1.000000e+00, 2.262700e+02, 4.375800e+02, 2.831400e+02],\n",
       "       [1.000000e+00, 1.623450e+03, 2.291000e+02, 2.383800e+02],\n",
       "       [1.000000e+00, 8.154000e+02, 4.530000e+02, 6.480000e+01],\n",
       "       [1.000000e+00, 7.052000e+01, 5.435200e+02, 1.295600e+02],\n",
       "       [1.000000e+00, 7.005600e+03, 6.004800e+02, 1.512000e+02],\n",
       "       [1.000000e+00, 5.329320e+03, 8.982000e+02, 2.136000e+02],\n",
       "       [1.000000e+00, 1.413400e+02, 5.271600e+02, 5.106000e+01],\n",
       "       [1.000000e+00, 4.615800e+02, 7.630200e+02, 3.969000e+01],\n",
       "       [1.000000e+00, 1.646100e+03, 1.132800e+03, 5.952000e+01],\n",
       "       [1.000000e+00, 1.191120e+04, 1.877432e+04, 2.780400e+03],\n",
       "       [1.000000e+00, 1.996060e+03, 2.019270e+03, 7.482000e+01]])"
      ]
     },
     "execution_count": 135,
     "metadata": {},
     "output_type": "execute_result"
    }
   ],
   "source": [
    "X3 = np.hstack([unos, (x_tv*x_radio), (x_tv*x_newspaper), (x_radio*x_newspaper)])\n",
    "X3"
   ]
  },
  {
   "cell_type": "code",
   "execution_count": 137,
   "id": "317a8b94-91a5-488f-8c9c-8f830c61a77e",
   "metadata": {},
   "outputs": [],
   "source": [
    "ols = sm.OLS(y,X3)"
   ]
  },
  {
   "cell_type": "code",
   "execution_count": 139,
   "id": "9ab73ea5-4c61-4a77-a596-708863d1ca20",
   "metadata": {},
   "outputs": [],
   "source": [
    "results = ols.fit()"
   ]
  },
  {
   "cell_type": "code",
   "execution_count": 141,
   "id": "ca597716-79ca-45b4-9629-5c9bddc125e8",
   "metadata": {},
   "outputs": [
    {
     "data": {
      "text/html": [
       "<table class=\"simpletable\">\n",
       "<caption>OLS Regression Results</caption>\n",
       "<tr>\n",
       "  <th>Dep. Variable:</th>            <td>y</td>        <th>  R-squared:         </th> <td>   0.941</td> \n",
       "</tr>\n",
       "<tr>\n",
       "  <th>Model:</th>                   <td>OLS</td>       <th>  Adj. R-squared:    </th> <td>   0.940</td> \n",
       "</tr>\n",
       "<tr>\n",
       "  <th>Method:</th>             <td>Least Squares</td>  <th>  F-statistic:       </th> <td>   1039.</td> \n",
       "</tr>\n",
       "<tr>\n",
       "  <th>Date:</th>             <td>Mon, 01 Sep 2025</td> <th>  Prob (F-statistic):</th> <td>4.80e-120</td>\n",
       "</tr>\n",
       "<tr>\n",
       "  <th>Time:</th>                 <td>14:13:07</td>     <th>  Log-Likelihood:    </th> <td> -330.90</td> \n",
       "</tr>\n",
       "<tr>\n",
       "  <th>No. Observations:</th>      <td>   200</td>      <th>  AIC:               </th> <td>   669.8</td> \n",
       "</tr>\n",
       "<tr>\n",
       "  <th>Df Residuals:</th>          <td>   196</td>      <th>  BIC:               </th> <td>   683.0</td> \n",
       "</tr>\n",
       "<tr>\n",
       "  <th>Df Model:</th>              <td>     3</td>      <th>                     </th>     <td> </td>    \n",
       "</tr>\n",
       "<tr>\n",
       "  <th>Covariance Type:</th>      <td>nonrobust</td>    <th>                     </th>     <td> </td>    \n",
       "</tr>\n",
       "</table>\n",
       "<table class=\"simpletable\">\n",
       "<tr>\n",
       "    <td></td>       <th>coef</th>     <th>std err</th>      <th>t</th>      <th>P>|t|</th>  <th>[0.025</th>    <th>0.975]</th>  \n",
       "</tr>\n",
       "<tr>\n",
       "  <th>const</th> <td>    8.8148</td> <td>    0.138</td> <td>   63.830</td> <td> 0.000</td> <td>    8.542</td> <td>    9.087</td>\n",
       "</tr>\n",
       "<tr>\n",
       "  <th>x1</th>    <td>    0.0015</td> <td> 3.43e-05</td> <td>   42.809</td> <td> 0.000</td> <td>    0.001</td> <td>    0.002</td>\n",
       "</tr>\n",
       "<tr>\n",
       "  <th>x2</th>    <td>    0.0001</td> <td> 2.53e-05</td> <td>    5.175</td> <td> 0.000</td> <td> 8.12e-05</td> <td>    0.000</td>\n",
       "</tr>\n",
       "<tr>\n",
       "  <th>x3</th>    <td>   -0.0006</td> <td>    0.000</td> <td>   -5.274</td> <td> 0.000</td> <td>   -0.001</td> <td>   -0.000</td>\n",
       "</tr>\n",
       "</table>\n",
       "<table class=\"simpletable\">\n",
       "<tr>\n",
       "  <th>Omnibus:</th>       <td>102.819</td> <th>  Durbin-Watson:     </th> <td>   2.420</td> \n",
       "</tr>\n",
       "<tr>\n",
       "  <th>Prob(Omnibus):</th> <td> 0.000</td>  <th>  Jarque-Bera (JB):  </th> <td> 475.530</td> \n",
       "</tr>\n",
       "<tr>\n",
       "  <th>Skew:</th>          <td>-2.031</td>  <th>  Prob(JB):          </th> <td>5.49e-104</td>\n",
       "</tr>\n",
       "<tr>\n",
       "  <th>Kurtosis:</th>      <td> 9.369</td>  <th>  Cond. No.          </th> <td>1.21e+04</td> \n",
       "</tr>\n",
       "</table><br/><br/>Notes:<br/>[1] Standard Errors assume that the covariance matrix of the errors is correctly specified.<br/>[2] The condition number is large, 1.21e+04. This might indicate that there are<br/>strong multicollinearity or other numerical problems."
      ],
      "text/latex": [
       "\\begin{center}\n",
       "\\begin{tabular}{lclc}\n",
       "\\toprule\n",
       "\\textbf{Dep. Variable:}    &        y         & \\textbf{  R-squared:         } &     0.941   \\\\\n",
       "\\textbf{Model:}            &       OLS        & \\textbf{  Adj. R-squared:    } &     0.940   \\\\\n",
       "\\textbf{Method:}           &  Least Squares   & \\textbf{  F-statistic:       } &     1039.   \\\\\n",
       "\\textbf{Date:}             & Mon, 01 Sep 2025 & \\textbf{  Prob (F-statistic):} & 4.80e-120   \\\\\n",
       "\\textbf{Time:}             &     14:13:07     & \\textbf{  Log-Likelihood:    } &   -330.90   \\\\\n",
       "\\textbf{No. Observations:} &         200      & \\textbf{  AIC:               } &     669.8   \\\\\n",
       "\\textbf{Df Residuals:}     &         196      & \\textbf{  BIC:               } &     683.0   \\\\\n",
       "\\textbf{Df Model:}         &           3      & \\textbf{                     } &             \\\\\n",
       "\\textbf{Covariance Type:}  &    nonrobust     & \\textbf{                     } &             \\\\\n",
       "\\bottomrule\n",
       "\\end{tabular}\n",
       "\\begin{tabular}{lcccccc}\n",
       "               & \\textbf{coef} & \\textbf{std err} & \\textbf{t} & \\textbf{P$> |$t$|$} & \\textbf{[0.025} & \\textbf{0.975]}  \\\\\n",
       "\\midrule\n",
       "\\textbf{const} &       8.8148  &        0.138     &    63.830  &         0.000        &        8.542    &        9.087     \\\\\n",
       "\\textbf{x1}    &       0.0015  &     3.43e-05     &    42.809  &         0.000        &        0.001    &        0.002     \\\\\n",
       "\\textbf{x2}    &       0.0001  &     2.53e-05     &     5.175  &         0.000        &     8.12e-05    &        0.000     \\\\\n",
       "\\textbf{x3}    &      -0.0006  &        0.000     &    -5.274  &         0.000        &       -0.001    &       -0.000     \\\\\n",
       "\\bottomrule\n",
       "\\end{tabular}\n",
       "\\begin{tabular}{lclc}\n",
       "\\textbf{Omnibus:}       & 102.819 & \\textbf{  Durbin-Watson:     } &     2.420  \\\\\n",
       "\\textbf{Prob(Omnibus):} &   0.000 & \\textbf{  Jarque-Bera (JB):  } &   475.530  \\\\\n",
       "\\textbf{Skew:}          &  -2.031 & \\textbf{  Prob(JB):          } & 5.49e-104  \\\\\n",
       "\\textbf{Kurtosis:}      &   9.369 & \\textbf{  Cond. No.          } &  1.21e+04  \\\\\n",
       "\\bottomrule\n",
       "\\end{tabular}\n",
       "%\\caption{OLS Regression Results}\n",
       "\\end{center}\n",
       "\n",
       "Notes: \\newline\n",
       " [1] Standard Errors assume that the covariance matrix of the errors is correctly specified. \\newline\n",
       " [2] The condition number is large, 1.21e+04. This might indicate that there are \\newline\n",
       " strong multicollinearity or other numerical problems."
      ],
      "text/plain": [
       "<class 'statsmodels.iolib.summary.Summary'>\n",
       "\"\"\"\n",
       "                            OLS Regression Results                            \n",
       "==============================================================================\n",
       "Dep. Variable:                      y   R-squared:                       0.941\n",
       "Model:                            OLS   Adj. R-squared:                  0.940\n",
       "Method:                 Least Squares   F-statistic:                     1039.\n",
       "Date:                Mon, 01 Sep 2025   Prob (F-statistic):          4.80e-120\n",
       "Time:                        14:13:07   Log-Likelihood:                -330.90\n",
       "No. Observations:                 200   AIC:                             669.8\n",
       "Df Residuals:                     196   BIC:                             683.0\n",
       "Df Model:                           3                                         \n",
       "Covariance Type:            nonrobust                                         \n",
       "==============================================================================\n",
       "                 coef    std err          t      P>|t|      [0.025      0.975]\n",
       "------------------------------------------------------------------------------\n",
       "const          8.8148      0.138     63.830      0.000       8.542       9.087\n",
       "x1             0.0015   3.43e-05     42.809      0.000       0.001       0.002\n",
       "x2             0.0001   2.53e-05      5.175      0.000    8.12e-05       0.000\n",
       "x3            -0.0006      0.000     -5.274      0.000      -0.001      -0.000\n",
       "==============================================================================\n",
       "Omnibus:                      102.819   Durbin-Watson:                   2.420\n",
       "Prob(Omnibus):                  0.000   Jarque-Bera (JB):              475.530\n",
       "Skew:                          -2.031   Prob(JB):                    5.49e-104\n",
       "Kurtosis:                       9.369   Cond. No.                     1.21e+04\n",
       "==============================================================================\n",
       "\n",
       "Notes:\n",
       "[1] Standard Errors assume that the covariance matrix of the errors is correctly specified.\n",
       "[2] The condition number is large, 1.21e+04. This might indicate that there are\n",
       "strong multicollinearity or other numerical problems.\n",
       "\"\"\""
      ]
     },
     "execution_count": 141,
     "metadata": {},
     "output_type": "execute_result"
    }
   ],
   "source": [
    "results.summary()"
   ]
  },
  {
   "cell_type": "markdown",
   "id": "3898858d-5dda-42ae-b458-b5e7fcd2df76",
   "metadata": {},
   "source": [
    "## Referencia\n",
    "\n",
    "James, G., Witten, D., Hastie, T., Tibshirani, R.,, Taylor, J. (2023). An Introduction to Statistical Learning with Applications in Python. Cham: Springer. ISBN: 978-3-031-38746-3"
   ]
  }
 ],
 "metadata": {
  "kernelspec": {
   "display_name": "Python 3 (ipykernel)",
   "language": "python",
   "name": "python3"
  },
  "language_info": {
   "codemirror_mode": {
    "name": "ipython",
    "version": 3
   },
   "file_extension": ".py",
   "mimetype": "text/x-python",
   "name": "python",
   "nbconvert_exporter": "python",
   "pygments_lexer": "ipython3",
   "version": "3.12.4"
  }
 },
 "nbformat": 4,
 "nbformat_minor": 5
}
