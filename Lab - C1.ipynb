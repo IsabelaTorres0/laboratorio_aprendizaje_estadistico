{
 "cells": [
  {
   "cell_type": "markdown",
   "id": "c191c972-2c85-4284-a555-7db618ba5b26",
   "metadata": {},
   "source": [
    "# Laboratorio de regresión logística"
   ]
  },
  {
   "cell_type": "markdown",
   "id": "e11c177c-1848-44b0-8c6b-b35537b5ae2f",
   "metadata": {},
   "source": [
    "|                |   |\n",
    ":----------------|---|\n",
    "| **Nombre**     |  Isabela Torres Septien Uribe |\n",
    "| **Fecha**      |  05/10/2025 |\n",
    "| **Expediente** |   730667| "
   ]
  },
  {
   "cell_type": "markdown",
   "id": "c4f75ddf-058d-4e10-8a53-bf1b4874e1fa",
   "metadata": {},
   "source": [
    "La regresión logística es una herramienta utilizada para predecir respuestas cualitativas. Al igual que la regresión lineal, es un método sencillo que sirve como un punto de partida para técnicas más avanzadas. Por ejemplo, lo que se conoce como *redes neuronales* o *red de perceptrones multicapa* no es más que una estructura de regresiones logísticas que se alimentan entre sí."
   ]
  },
  {
   "cell_type": "markdown",
   "id": "7aca8491-9d65-4f36-86c5-60b58282c56b",
   "metadata": {},
   "source": [
    "1. Descarga el archivo de créditos y carga los datos (Default.csv). Utiliza `pandas`."
   ]
  },
  {
   "cell_type": "code",
   "execution_count": 3,
   "id": "cf337cda-782d-41e3-9a27-15abe95121ad",
   "metadata": {},
   "outputs": [],
   "source": [
    "import pandas as pd\n",
    "import numpy as np\n",
    "import matplotlib.pyplot as plt"
   ]
  },
  {
   "cell_type": "code",
   "execution_count": 4,
   "id": "f9771c6b-1fcc-4413-9c75-f41fdd2cf892",
   "metadata": {},
   "outputs": [],
   "source": [
    "df = pd.read_csv(\"Default.csv\")"
   ]
  },
  {
   "cell_type": "markdown",
   "id": "65b9bbd4-2e26-44b3-8842-a992c7da7374",
   "metadata": {},
   "source": [
    "2. Utiliza el comando `obj.head()`, donde `obj` es el nombre que le diste a los datos del archivo."
   ]
  },
  {
   "cell_type": "code",
   "execution_count": 5,
   "id": "523807f3-b35f-45f8-bf81-a1dd5f63e7a6",
   "metadata": {},
   "outputs": [
    {
     "data": {
      "text/html": [
       "<div>\n",
       "<style scoped>\n",
       "    .dataframe tbody tr th:only-of-type {\n",
       "        vertical-align: middle;\n",
       "    }\n",
       "\n",
       "    .dataframe tbody tr th {\n",
       "        vertical-align: top;\n",
       "    }\n",
       "\n",
       "    .dataframe thead th {\n",
       "        text-align: right;\n",
       "    }\n",
       "</style>\n",
       "<table border=\"1\" class=\"dataframe\">\n",
       "  <thead>\n",
       "    <tr style=\"text-align: right;\">\n",
       "      <th></th>\n",
       "      <th>default</th>\n",
       "      <th>student</th>\n",
       "      <th>balance</th>\n",
       "      <th>income</th>\n",
       "    </tr>\n",
       "  </thead>\n",
       "  <tbody>\n",
       "    <tr>\n",
       "      <th>0</th>\n",
       "      <td>No</td>\n",
       "      <td>No</td>\n",
       "      <td>729.526495</td>\n",
       "      <td>44361.625074</td>\n",
       "    </tr>\n",
       "    <tr>\n",
       "      <th>1</th>\n",
       "      <td>No</td>\n",
       "      <td>Yes</td>\n",
       "      <td>817.180407</td>\n",
       "      <td>12106.134700</td>\n",
       "    </tr>\n",
       "    <tr>\n",
       "      <th>2</th>\n",
       "      <td>No</td>\n",
       "      <td>No</td>\n",
       "      <td>1073.549164</td>\n",
       "      <td>31767.138950</td>\n",
       "    </tr>\n",
       "    <tr>\n",
       "      <th>3</th>\n",
       "      <td>No</td>\n",
       "      <td>No</td>\n",
       "      <td>529.250605</td>\n",
       "      <td>35704.493940</td>\n",
       "    </tr>\n",
       "    <tr>\n",
       "      <th>4</th>\n",
       "      <td>No</td>\n",
       "      <td>No</td>\n",
       "      <td>785.655883</td>\n",
       "      <td>38463.495880</td>\n",
       "    </tr>\n",
       "  </tbody>\n",
       "</table>\n",
       "</div>"
      ],
      "text/plain": [
       "  default student      balance        income\n",
       "0      No      No   729.526495  44361.625074\n",
       "1      No     Yes   817.180407  12106.134700\n",
       "2      No      No  1073.549164  31767.138950\n",
       "3      No      No   529.250605  35704.493940\n",
       "4      No      No   785.655883  38463.495880"
      ]
     },
     "execution_count": 5,
     "metadata": {},
     "output_type": "execute_result"
    }
   ],
   "source": [
    "df.head()"
   ]
  },
  {
   "cell_type": "markdown",
   "id": "15c04d29-f53e-4abc-be36-84fcd4ec5f0d",
   "metadata": {},
   "source": [
    "El comando head arroja los primeras *n* líneas (por defecto 5) de los datos que están en el DataFrame.\n",
    "\n",
    "3. Utiliza el comando `obj.describe()`."
   ]
  },
  {
   "cell_type": "code",
   "execution_count": 6,
   "id": "d9500b33-6d04-4322-bebe-08fa02305429",
   "metadata": {},
   "outputs": [
    {
     "data": {
      "text/html": [
       "<div>\n",
       "<style scoped>\n",
       "    .dataframe tbody tr th:only-of-type {\n",
       "        vertical-align: middle;\n",
       "    }\n",
       "\n",
       "    .dataframe tbody tr th {\n",
       "        vertical-align: top;\n",
       "    }\n",
       "\n",
       "    .dataframe thead th {\n",
       "        text-align: right;\n",
       "    }\n",
       "</style>\n",
       "<table border=\"1\" class=\"dataframe\">\n",
       "  <thead>\n",
       "    <tr style=\"text-align: right;\">\n",
       "      <th></th>\n",
       "      <th>balance</th>\n",
       "      <th>income</th>\n",
       "    </tr>\n",
       "  </thead>\n",
       "  <tbody>\n",
       "    <tr>\n",
       "      <th>count</th>\n",
       "      <td>10000.000000</td>\n",
       "      <td>10000.000000</td>\n",
       "    </tr>\n",
       "    <tr>\n",
       "      <th>mean</th>\n",
       "      <td>835.374886</td>\n",
       "      <td>33516.981876</td>\n",
       "    </tr>\n",
       "    <tr>\n",
       "      <th>std</th>\n",
       "      <td>483.714985</td>\n",
       "      <td>13336.639563</td>\n",
       "    </tr>\n",
       "    <tr>\n",
       "      <th>min</th>\n",
       "      <td>0.000000</td>\n",
       "      <td>771.967729</td>\n",
       "    </tr>\n",
       "    <tr>\n",
       "      <th>25%</th>\n",
       "      <td>481.731105</td>\n",
       "      <td>21340.462903</td>\n",
       "    </tr>\n",
       "    <tr>\n",
       "      <th>50%</th>\n",
       "      <td>823.636973</td>\n",
       "      <td>34552.644802</td>\n",
       "    </tr>\n",
       "    <tr>\n",
       "      <th>75%</th>\n",
       "      <td>1166.308386</td>\n",
       "      <td>43807.729275</td>\n",
       "    </tr>\n",
       "    <tr>\n",
       "      <th>max</th>\n",
       "      <td>2654.322576</td>\n",
       "      <td>73554.233500</td>\n",
       "    </tr>\n",
       "  </tbody>\n",
       "</table>\n",
       "</div>"
      ],
      "text/plain": [
       "            balance        income\n",
       "count  10000.000000  10000.000000\n",
       "mean     835.374886  33516.981876\n",
       "std      483.714985  13336.639563\n",
       "min        0.000000    771.967729\n",
       "25%      481.731105  21340.462903\n",
       "50%      823.636973  34552.644802\n",
       "75%     1166.308386  43807.729275\n",
       "max     2654.322576  73554.233500"
      ]
     },
     "execution_count": 6,
     "metadata": {},
     "output_type": "execute_result"
    }
   ],
   "source": [
    "df.describe()"
   ]
  },
  {
   "cell_type": "code",
   "execution_count": 7,
   "id": "23bc5386",
   "metadata": {},
   "outputs": [
    {
     "name": "stdout",
     "output_type": "stream",
     "text": [
      "<class 'pandas.core.frame.DataFrame'>\n",
      "RangeIndex: 10000 entries, 0 to 9999\n",
      "Data columns (total 4 columns):\n",
      " #   Column   Non-Null Count  Dtype  \n",
      "---  ------   --------------  -----  \n",
      " 0   default  10000 non-null  object \n",
      " 1   student  10000 non-null  object \n",
      " 2   balance  10000 non-null  float64\n",
      " 3   income   10000 non-null  float64\n",
      "dtypes: float64(2), object(2)\n",
      "memory usage: 312.6+ KB\n"
     ]
    }
   ],
   "source": [
    "df.info()"
   ]
  },
  {
   "cell_type": "markdown",
   "id": "d0bddd85-1291-4b86-ac54-08579009eaad",
   "metadata": {},
   "source": [
    "El comando describe toma las columnas que tienen datos numéricos y saca datos estadísticos comunes:\n",
    "- *n*\n",
    "- media\n",
    "- desviación estándar\n",
    "- valor mínimo\n",
    "- primer cuartil\n",
    "- mediana\n",
    "- tercer cuartil\n",
    "- valor máximo\n",
    "\n",
    "3. Vistos estos datos, ¿qué columnas existen en el DataFrame? ¿Qué tipo de datos contienen?"
   ]
  },
  {
   "cell_type": "markdown",
   "id": "be36451d-c633-4ff5-8973-5aabb455e467",
   "metadata": {},
   "source": [
    "En mi dataframe existen 4 columnas que tienen las siguientes caracrteristicas  \n",
    "- default- tipo de datos, es un objeto variables de yes, No\n",
    "- student- tipo de datos, es un objeto Variables de yes, No\n",
    "- balance- tipo de datos, es una variable float64, de estos datos si se pueden calcular los datos estadisticos\n",
    "- income- tipo de datos, es una variable float64, de estos datos si se calculan los datos estadisticos "
   ]
  },
  {
   "cell_type": "markdown",
   "id": "d647ca4b-012f-4b9e-a062-6484f2fdb2c8",
   "metadata": {},
   "source": [
    "4. Configura el tipo de dato de las columnas `default` y `student` para cambiarlos a variables categóricas.\n",
    "\n",
    "`data[columna] = data[columna].astype(\"category\")`"
   ]
  },
  {
   "cell_type": "code",
   "execution_count": 8,
   "id": "1ca68e38-8821-4a7b-96de-20f4209a2c84",
   "metadata": {},
   "outputs": [],
   "source": [
    "df['default']  = df['default'].astype('category')\n",
    "df['student']  = df['student'].astype('category')"
   ]
  },
  {
   "cell_type": "code",
   "execution_count": 9,
   "id": "079e5d10-4a2a-470d-97b1-5b06f6b060ad",
   "metadata": {},
   "outputs": [
    {
     "name": "stdout",
     "output_type": "stream",
     "text": [
      "<class 'pandas.core.frame.DataFrame'>\n",
      "RangeIndex: 10000 entries, 0 to 9999\n",
      "Data columns (total 4 columns):\n",
      " #   Column   Non-Null Count  Dtype   \n",
      "---  ------   --------------  -----   \n",
      " 0   default  10000 non-null  category\n",
      " 1   student  10000 non-null  category\n",
      " 2   balance  10000 non-null  float64 \n",
      " 3   income   10000 non-null  float64 \n",
      "dtypes: category(2), float64(2)\n",
      "memory usage: 176.2 KB\n"
     ]
    }
   ],
   "source": [
    "df.info()"
   ]
  },
  {
   "cell_type": "markdown",
   "id": "ab653f15-e6c1-418f-8b78-4e4cb34c8380",
   "metadata": {},
   "source": [
    "Imagina que trabajas en un banco y que se te entregan estos datos. Tu objetivo es crear un modelo que ayude a predecir si una persona que solicita un crédito lo va a pagar. Exploremos los datos un poco más antes de crear un modelo.\n",
    "\n",
    "Veamos primero cómo es la distribución de los valores cuando una persona dejó de pagar y cuando siguió pagando. `Default` es el término utilizado para cuando una persona dejó de pagar.\n",
    "\n",
    "5. Crea una gráfica de caja para las columnas `income` y `balance`, con los datos agrupados con la columna `default`. Utiliza el comando `obj.boxplot(column=____, by=_____)`"
   ]
  },
  {
   "cell_type": "code",
   "execution_count": 10,
   "id": "546de528-d1b8-442b-9aec-e6be74bdbfbf",
   "metadata": {},
   "outputs": [
    {
     "data": {
      "text/plain": [
       "<Axes: title={'center': 'income'}, xlabel='default'>"
      ]
     },
     "execution_count": 10,
     "metadata": {},
     "output_type": "execute_result"
    },
    {
     "data": {
      "image/png": "[encoded data removed]",
      "text/plain": [
       "<Figure size 640x480 with 1 Axes>"
      ]
     },
     "metadata": {},
     "output_type": "display_data"
    }
   ],
   "source": [
    "df.boxplot(column = 'income', by='default')"
   ]
  },
  {
   "cell_type": "code",
   "execution_count": 11,
   "id": "4388e93e-be93-4db7-b0ce-1cd946432a07",
   "metadata": {},
   "outputs": [
    {
     "data": {
      "text/plain": [
       "<Axes: title={'center': 'balance'}, xlabel='default'>"
      ]
     },
     "execution_count": 11,
     "metadata": {},
     "output_type": "execute_result"
    },
    {
     "data": {
      "image/png": "[encoded data removed]",
      "text/plain": [
       "<Figure size 640x480 with 1 Axes>"
      ]
     },
     "metadata": {},
     "output_type": "display_data"
    }
   ],
   "source": [
    "df.boxplot(column = 'balance', by='default')"
   ]
  },
  {
   "cell_type": "markdown",
   "id": "ebb61978-5302-4b07-b20a-603b429f874b",
   "metadata": {},
   "source": [
    "6. Crea una gráfica de dispersión donde el eje *x* sea la columna `balance` y el eje *y* la columna `income`. Utiliza el comando `obj.plot.scatter(x, y, c=\"default\", colormap=\"PiYG_r\", alpha=0.5)`."
   ]
  },
  {
   "cell_type": "code",
   "execution_count": 12,
   "id": "ea5d596a-5dea-46d3-aa10-fb3e47a34a28",
   "metadata": {},
   "outputs": [
    {
     "data": {
      "text/plain": [
       "Text(0.5, 1.0, 'Balance vs Income colored by Default')"
      ]
     },
     "execution_count": 12,
     "metadata": {},
     "output_type": "execute_result"
    },
    {
     "data": {
      "image/png": "[encoded data removed]",
      "text/plain": [
       "<Figure size 640x480 with 2 Axes>"
      ]
     },
     "metadata": {},
     "output_type": "display_data"
    }
   ],
   "source": [
    "df.plot.scatter('balance', 'income', c=\"default\", colormap=\"PiYG_r\", alpha=0.5)\n",
    "plt.title('Balance vs Income colored by Default')"
   ]
  },
  {
   "cell_type": "markdown",
   "id": "49f3bb3e-5ba5-405f-9cfd-08a944f3a142",
   "metadata": {},
   "source": [
    "La regresión (lineal o logística) se usa para encontrar una línea que ajuste los datos para tomar una decisión. La línea que buscamos en regresión logística es aquella que nos ayude a separar las diferentes categorías. \n",
    "\n",
    "<img style=\"float: left; \" src=\"https://www.baeldung.com/wp-content/uploads/sites/4/2023/10/decision_boundary_curve.jpg\" width=\"400px\" />\n"
   ]
  },
  {
   "cell_type": "markdown",
   "id": "d04c4af0-ccb8-4174-b388-6260f4f206ed",
   "metadata": {},
   "source": [
    "## Regresión logística simple"
   ]
  },
  {
   "cell_type": "markdown",
   "id": "8479721f-877b-4c4f-abc1-1da69b8520eb",
   "metadata": {},
   "source": [
    "Creemos un modelo simple donde sólo utilizamos una de los factores para predecir una respuesta. Quiero conocer la probabilidad de que una persona deje de pagar su crédito dado el balance que tiene en su cuenta.\n",
    "\n",
    "$$ P(\\text{default}=\\text{Yes}|\\text{balance}) $$"
   ]
  },
  {
   "cell_type": "markdown",
   "id": "3cb24746-3fc3-444b-b7f4-0427a79eafc4",
   "metadata": {},
   "source": [
    "Por el momento la columna default no contiene valores numéricos, por lo que hay que transformar los datos. Como default es nuestra variable de respuesta (lo que queremos predecir) podemos nombrarla *y*.\n",
    "\n",
    "Ejecuta el código `y = obj[\"default\"] == \"Yes\"`. Extrae el factor `balance` en una variable *x*."
   ]
  },
  {
   "cell_type": "code",
   "execution_count": 13,
   "id": "c5f7d3df-a374-433a-bcf7-4c2e59cf2491",
   "metadata": {},
   "outputs": [],
   "source": [
    "y = df['default'] == 'Yes'"
   ]
  },
  {
   "cell_type": "code",
   "execution_count": 14,
   "id": "65959f38-4f3c-462a-a5c3-211306b3a035",
   "metadata": {},
   "outputs": [],
   "source": [
    "x = df['balance']"
   ]
  },
  {
   "cell_type": "markdown",
   "id": "979a233e-fb64-4051-8a1f-aa9143c2ad1e",
   "metadata": {},
   "source": [
    "Crea un gráfico de dispersión donde el eje *x* sea `balance` y el eje *y* sea `default` transformado."
   ]
  },
  {
   "cell_type": "code",
   "execution_count": 20,
   "id": "38601930-985f-41b8-95c0-64e269fdd4fd",
   "metadata": {},
   "outputs": [
    {
     "data": {
      "text/plain": [
       "<matplotlib.collections.PathCollection at 0x1d6d2125d90>"
      ]
     },
     "execution_count": 20,
     "metadata": {},
     "output_type": "execute_result"
    },
    {
     "data": {
      "image/png": "[encoded data removed]",
      "text/plain": [
       "<Figure size 640x480 with 1 Axes>"
      ]
     },
     "metadata": {},
     "output_type": "display_data"
    }
   ],
   "source": [
    "plt.scatter(x,y)"
   ]
  },
  {
   "cell_type": "markdown",
   "id": "4d2f52fe-f647-420a-bc8d-98854ce647eb",
   "metadata": {},
   "source": [
    "La línea que utilizaremos para predecir la probabilidad es:\n",
    "\n",
    "$$ p(x) = \\frac{1}{1 + e^{-(\\beta_0 + \\beta_1 x)}} $$\n",
    "\n",
    "Para nuestro ejemplo de pagos y balance:\n",
    "\n",
    "$$ P(\\text{default}=1|\\text{balance}) = \\frac{1}{1 + e^{-(\\beta_0 + \\beta_1  \\text{balance})}} $$"
   ]
  },
  {
   "cell_type": "markdown",
   "id": "867bbcf8-3287-4f69-b396-1bc891e3d4b4",
   "metadata": {},
   "source": [
    "Buscamos maximizar la probabilidad de que el modelo tome decisiones correctas. Es decir, que cuando `default` fue verdadero, que la predicción sea 100%, y que cuando `default` fue falso que la predicción sea 0%.\n",
    "\n",
    "$$ \\Pi_{i:y_i=1} p(x_i) \\Pi_{i':y_{i'}} (1-p(x_{i'})) $$"
   ]
  },
  {
   "cell_type": "markdown",
   "id": "2548f26c-4608-45f6-974c-76dd9ff9ce10",
   "metadata": {},
   "source": [
    "La función de costo ya simplificada es la siguiente:\n",
    "\n",
    "$$ J(\\vec{\\beta}) = -  \\sum_{i=1}^n{[y_i \\ln{(\\hat{p}(x_i))} + (1-y_i)\\ln{(1 - \\hat{p}(x_i))}]}$$"
   ]
  },
  {
   "cell_type": "markdown",
   "id": "cd13da5a-745c-42c9-b54d-eb0201038089",
   "metadata": {},
   "source": [
    "Utiliza la clase `LogisticRegression` del módulo `linear_model` de la librería `sklearn` para estimar los parámetros del modelo."
   ]
  },
  {
   "cell_type": "code",
   "execution_count": 22,
   "id": "e71dc168",
   "metadata": {},
   "outputs": [],
   "source": [
    "from sklearn.linear_model import LogisticRegression"
   ]
  },
  {
   "cell_type": "code",
   "execution_count": 24,
   "id": "1e27ce77-d143-40a8-8a85-7596ceb7ec07",
   "metadata": {},
   "outputs": [
    {
     "data": {
      "text/plain": [
       "(array([-10.65132824]), array([[0.00549892]]))"
      ]
     },
     "execution_count": 24,
     "metadata": {},
     "output_type": "execute_result"
    }
   ],
   "source": [
    "model = LogisticRegression()\n",
    "model.fit(x.values.reshape(-1,1), y)\n",
    "B0 = model.intercept_\n",
    "B1 = model.coef_\n",
    "B0, B1"
   ]
  },
  {
   "cell_type": "markdown",
   "id": "1df9414b-2a8e-42bd-a84b-633ba221dc12",
   "metadata": {},
   "source": [
    "Muchos aspectos de la regresión logística son similares a la regresión lineal. Podemos medir la precisión de nuestros estimados calculando sus errores estándar. El objetivo de calcular estos errores es asegurar que hay una relación estadísticamente significativa entre el factor y la variable de respuesta.\n",
    "\n",
    "Los errores estándar se obtienen con el siguiente procedimiento:\n",
    "\n",
    "1. Calcula las predicciones utilizando los $\\beta_0$ y $\\beta_1$ encontrados."
   ]
  },
  {
   "cell_type": "code",
   "execution_count": 31,
   "id": "4abdc74b",
   "metadata": {},
   "outputs": [
    {
     "name": "stdout",
     "output_type": "stream",
     "text": [
      "Collecting statsmodels\n",
      "  Downloading statsmodels-0.14.5-cp312-cp312-win_amd64.whl.metadata (9.8 kB)\n",
      "Requirement already satisfied: numpy<3,>=1.22.3 in c:\\users\\isabela\\appdata\\local\\programs\\python\\python312\\lib\\site-packages (from statsmodels) (2.3.3)\n",
      "Requirement already satisfied: scipy!=1.9.2,>=1.8 in c:\\users\\isabela\\appdata\\local\\programs\\python\\python312\\lib\\site-packages (from statsmodels) (1.16.2)\n",
      "Requirement already satisfied: pandas!=2.1.0,>=1.4 in c:\\users\\isabela\\appdata\\local\\programs\\python\\python312\\lib\\site-packages (from statsmodels) (2.3.2)\n",
      "Collecting patsy>=0.5.6 (from statsmodels)\n",
      "  Downloading patsy-1.0.1-py2.py3-none-any.whl.metadata (3.3 kB)\n",
      "Requirement already satisfied: packaging>=21.3 in c:\\users\\isabela\\appdata\\roaming\\python\\python312\\site-packages (from statsmodels) (25.0)\n",
      "Requirement already satisfied: python-dateutil>=2.8.2 in c:\\users\\isabela\\appdata\\roaming\\python\\python312\\site-packages (from pandas!=2.1.0,>=1.4->statsmodels) (2.9.0.post0)\n",
      "Requirement already satisfied: pytz>=2020.1 in c:\\users\\isabela\\appdata\\local\\programs\\python\\python312\\lib\\site-packages (from pandas!=2.1.0,>=1.4->statsmodels) (2025.2)\n",
      "Requirement already satisfied: tzdata>=2022.7 in c:\\users\\isabela\\appdata\\local\\programs\\python\\python312\\lib\\site-packages (from pandas!=2.1.0,>=1.4->statsmodels) (2025.2)\n",
      "Requirement already satisfied: six>=1.5 in c:\\users\\isabela\\appdata\\roaming\\python\\python312\\site-packages (from python-dateutil>=2.8.2->pandas!=2.1.0,>=1.4->statsmodels) (1.17.0)\n",
      "Downloading statsmodels-0.14.5-cp312-cp312-win_amd64.whl (9.6 MB)\n",
      "   ---------------------------------------- 0.0/9.6 MB ? eta -:--:--\n",
      "   ---------------------------------------- 0.0/9.6 MB ? eta -:--:--\n",
      "   ---------------------------------------- 0.0/9.6 MB 435.7 kB/s eta 0:00:22\n",
      "   ---------------------------------------- 0.1/9.6 MB 744.7 kB/s eta 0:00:13\n",
      "    --------------------------------------- 0.2/9.6 MB 1.3 MB/s eta 0:00:08\n",
      "   - -------------------------------------- 0.5/9.6 MB 2.1 MB/s eta 0:00:05\n",
      "   -- ------------------------------------- 0.6/9.6 MB 2.3 MB/s eta 0:00:04\n",
      "   ---- ----------------------------------- 1.1/9.6 MB 3.5 MB/s eta 0:00:03\n",
      "   -------- ------------------------------- 2.1/9.6 MB 5.9 MB/s eta 0:00:02\n",
      "   --------------- ------------------------ 3.6/9.6 MB 8.9 MB/s eta 0:00:01\n",
      "   --------------------- ------------------ 5.1/9.6 MB 11.1 MB/s eta 0:00:01\n",
      "   ---------------------------------- ----- 8.4/9.6 MB 16.7 MB/s eta 0:00:01\n",
      "   -------------------------------------- - 9.2/9.6 MB 17.8 MB/s eta 0:00:01\n",
      "   ---------------------------------------  9.6/9.6 MB 17.0 MB/s eta 0:00:01\n",
      "   ---------------------------------------- 9.6/9.6 MB 15.7 MB/s eta 0:00:00\n",
      "Downloading patsy-1.0.1-py2.py3-none-any.whl (232 kB)\n",
      "   ---------------------------------------- 0.0/232.9 kB ? eta -:--:--\n",
      "   ---------------------------------------- 232.9/232.9 kB 7.2 MB/s eta 0:00:00\n",
      "Installing collected packages: patsy, statsmodels\n",
      "Successfully installed patsy-1.0.1 statsmodels-0.14.5\n",
      "Note: you may need to restart the kernel to use updated packages.\n"
     ]
    },
    {
     "name": "stderr",
     "output_type": "stream",
     "text": [
      "\n",
      "[notice] A new release of pip is available: 24.0 -> 25.2\n",
      "[notice] To update, run: python.exe -m pip install --upgrade pip\n"
     ]
    }
   ],
   "source": [
    "%pip install statsmodels\n",
    "import statsmodels.api as sm"
   ]
  },
  {
   "cell_type": "code",
   "execution_count": 33,
   "id": "566c9c2e-4476-4ab7-a5c1-a72a27d46a6e",
   "metadata": {},
   "outputs": [
    {
     "name": "stdout",
     "output_type": "stream",
     "text": [
      "Optimization terminated successfully.\n",
      "         Current function value: 0.079823\n",
      "         Iterations 10\n"
     ]
    },
    {
     "data": {
      "text/html": [
       "<table class=\"simpletable\">\n",
       "<caption>Logit Regression Results</caption>\n",
       "<tr>\n",
       "  <th>Dep. Variable:</th>        <td>default</td>     <th>  No. Observations:  </th>   <td> 10000</td>  \n",
       "</tr>\n",
       "<tr>\n",
       "  <th>Model:</th>                 <td>Logit</td>      <th>  Df Residuals:      </th>   <td>  9998</td>  \n",
       "</tr>\n",
       "<tr>\n",
       "  <th>Method:</th>                 <td>MLE</td>       <th>  Df Model:          </th>   <td>     1</td>  \n",
       "</tr>\n",
       "<tr>\n",
       "  <th>Date:</th>            <td>Sun, 05 Oct 2025</td> <th>  Pseudo R-squ.:     </th>   <td>0.4534</td>  \n",
       "</tr>\n",
       "<tr>\n",
       "  <th>Time:</th>                <td>22:21:03</td>     <th>  Log-Likelihood:    </th>  <td> -798.23</td> \n",
       "</tr>\n",
       "<tr>\n",
       "  <th>converged:</th>             <td>True</td>       <th>  LL-Null:           </th>  <td> -1460.3</td> \n",
       "</tr>\n",
       "<tr>\n",
       "  <th>Covariance Type:</th>     <td>nonrobust</td>    <th>  LLR p-value:       </th> <td>6.233e-290</td>\n",
       "</tr>\n",
       "</table>\n",
       "<table class=\"simpletable\">\n",
       "<tr>\n",
       "     <td></td>        <th>coef</th>     <th>std err</th>      <th>z</th>      <th>P>|z|</th>  <th>[0.025</th>    <th>0.975]</th>  \n",
       "</tr>\n",
       "<tr>\n",
       "  <th>const</th>   <td>  -10.6513</td> <td>    0.361</td> <td>  -29.491</td> <td> 0.000</td> <td>  -11.359</td> <td>   -9.943</td>\n",
       "</tr>\n",
       "<tr>\n",
       "  <th>balance</th> <td>    0.0055</td> <td>    0.000</td> <td>   24.952</td> <td> 0.000</td> <td>    0.005</td> <td>    0.006</td>\n",
       "</tr>\n",
       "</table><br/><br/>Possibly complete quasi-separation: A fraction 0.13 of observations can be<br/>perfectly predicted. This might indicate that there is complete<br/>quasi-separation. In this case some parameters will not be identified."
      ],
      "text/latex": [
       "\\begin{center}\n",
       "\\begin{tabular}{lclc}\n",
       "\\toprule\n",
       "\\textbf{Dep. Variable:}   &     default      & \\textbf{  No. Observations:  } &    10000    \\\\\n",
       "\\textbf{Model:}           &      Logit       & \\textbf{  Df Residuals:      } &     9998    \\\\\n",
       "\\textbf{Method:}          &       MLE        & \\textbf{  Df Model:          } &        1    \\\\\n",
       "\\textbf{Date:}            & Sun, 05 Oct 2025 & \\textbf{  Pseudo R-squ.:     } &   0.4534    \\\\\n",
       "\\textbf{Time:}            &     22:21:03     & \\textbf{  Log-Likelihood:    } &   -798.23   \\\\\n",
       "\\textbf{converged:}       &       True       & \\textbf{  LL-Null:           } &   -1460.3   \\\\\n",
       "\\textbf{Covariance Type:} &    nonrobust     & \\textbf{  LLR p-value:       } & 6.233e-290  \\\\\n",
       "\\bottomrule\n",
       "\\end{tabular}\n",
       "\\begin{tabular}{lcccccc}\n",
       "                 & \\textbf{coef} & \\textbf{std err} & \\textbf{z} & \\textbf{P$> |$z$|$} & \\textbf{[0.025} & \\textbf{0.975]}  \\\\\n",
       "\\midrule\n",
       "\\textbf{const}   &     -10.6513  &        0.361     &   -29.491  &         0.000        &      -11.359    &       -9.943     \\\\\n",
       "\\textbf{balance} &       0.0055  &        0.000     &    24.952  &         0.000        &        0.005    &        0.006     \\\\\n",
       "\\bottomrule\n",
       "\\end{tabular}\n",
       "%\\caption{Logit Regression Results}\n",
       "\\end{center}\n",
       "\n",
       "Possibly complete quasi-separation: A fraction 0.13 of observations can be \\newline\n",
       " perfectly predicted. This might indicate that there is complete \\newline\n",
       " quasi-separation. In this case some parameters will not be identified."
      ],
      "text/plain": [
       "<class 'statsmodels.iolib.summary.Summary'>\n",
       "\"\"\"\n",
       "                           Logit Regression Results                           \n",
       "==============================================================================\n",
       "Dep. Variable:                default   No. Observations:                10000\n",
       "Model:                          Logit   Df Residuals:                     9998\n",
       "Method:                           MLE   Df Model:                            1\n",
       "Date:                Sun, 05 Oct 2025   Pseudo R-squ.:                  0.4534\n",
       "Time:                        22:21:03   Log-Likelihood:                -798.23\n",
       "converged:                       True   LL-Null:                       -1460.3\n",
       "Covariance Type:            nonrobust   LLR p-value:                6.233e-290\n",
       "==============================================================================\n",
       "                 coef    std err          z      P>|z|      [0.025      0.975]\n",
       "------------------------------------------------------------------------------\n",
       "const        -10.6513      0.361    -29.491      0.000     -11.359      -9.943\n",
       "balance        0.0055      0.000     24.952      0.000       0.005       0.006\n",
       "==============================================================================\n",
       "\n",
       "Possibly complete quasi-separation: A fraction 0.13 of observations can be\n",
       "perfectly predicted. This might indicate that there is complete\n",
       "quasi-separation. In this case some parameters will not be identified.\n",
       "\"\"\""
      ]
     },
     "execution_count": 33,
     "metadata": {},
     "output_type": "execute_result"
    }
   ],
   "source": [
    "import statsmodels.api as sm\n",
    "\n",
    "\n",
    "x_const = sm.add_constant(x)\n",
    "model = sm.Logit(y, x_const).fit()\n",
    "model.summary()\n",
    "\n"
   ]
  },
  {
   "cell_type": "markdown",
   "id": "7c9fd491-1e87-4b54-ad24-ae972ff499cb",
   "metadata": {},
   "source": [
    "2. Idealmente la probabilidad debería ser 100% o 0%. Si alguna predicción no fue absoluta significa que hay incertidumbre. Calcula $p(1-p)$ para todas tus predicciones."
   ]
  },
  {
   "cell_type": "code",
   "execution_count": 37,
   "id": "2ec63991-e6cd-48b9-afe1-0e6f2c25578b",
   "metadata": {},
   "outputs": [
    {
     "data": {
      "text/plain": [
       "0       0.001304\n",
       "1       0.002108\n",
       "2       0.008521\n",
       "3       0.000434\n",
       "4       0.001774\n",
       "          ...   \n",
       "9995    0.001182\n",
       "9996    0.001524\n",
       "9997    0.002460\n",
       "9998    0.103127\n",
       "9999    0.000071\n",
       "Length: 10000, dtype: float64"
      ]
     },
     "execution_count": 37,
     "metadata": {},
     "output_type": "execute_result"
    }
   ],
   "source": [
    "p_hat = model.predict(x_const)\n",
    "p = p_hat*(1-p_hat)\n",
    "p"
   ]
  },
  {
   "cell_type": "markdown",
   "id": "f3897eae-d856-4cc9-9224-4988784a2531",
   "metadata": {},
   "source": [
    "3. Crea una matriz vacía y llena la diagonal con las probabilidades encontradas.\n",
    "\n",
    "`V = np.diagflat(*p(1-p)*)`"
   ]
  },
  {
   "cell_type": "code",
   "execution_count": null,
   "id": "b0414d6b-f881-4ee7-b406-9be9972aa4d5",
   "metadata": {},
   "outputs": [
    {
     "data": {
      "text/plain": [
       "array([[1.30397487e-03, 0.00000000e+00, 0.00000000e+00, ...,\n",
       "        0.00000000e+00, 0.00000000e+00, 0.00000000e+00],\n",
       "       [0.00000000e+00, 2.10813185e-03, 0.00000000e+00, ...,\n",
       "        0.00000000e+00, 0.00000000e+00, 0.00000000e+00],\n",
       "       [0.00000000e+00, 0.00000000e+00, 8.52087095e-03, ...,\n",
       "        0.00000000e+00, 0.00000000e+00, 0.00000000e+00],\n",
       "       ...,\n",
       "       [0.00000000e+00, 0.00000000e+00, 0.00000000e+00, ...,\n",
       "        2.46042929e-03, 0.00000000e+00, 0.00000000e+00],\n",
       "       [0.00000000e+00, 0.00000000e+00, 0.00000000e+00, ...,\n",
       "        0.00000000e+00, 1.03126806e-01, 0.00000000e+00],\n",
       "       [0.00000000e+00, 0.00000000e+00, 0.00000000e+00, ...,\n",
       "        0.00000000e+00, 0.00000000e+00, 7.14423928e-05]],\n",
       "      shape=(10000, 10000))"
      ]
     },
     "execution_count": 40,
     "metadata": {},
     "output_type": "execute_result"
    }
   ],
   "source": [
    "V = np.diagflat(p)\n",
    "V"
   ]
  },
  {
   "cell_type": "markdown",
   "id": "f8e905e4-9d02-4077-aa3e-e8f2da17491c",
   "metadata": {},
   "source": [
    "4. Calcula la matriz de covarianza. (Dado que X es la matriz que contiene todos los factores)\n",
    "\n",
    "`cov = np.linalg.inv(X.T @ V @ X)`"
   ]
  },
  {
   "cell_type": "code",
   "execution_count": null,
   "id": "6eb4d973-362b-470c-8f50-6ea4a5fb2c71",
   "metadata": {},
   "outputs": [
    {
     "data": {
      "text/plain": [
       "array([[ 1.30442848e-01, -7.81757783e-05],\n",
       "       [-7.81757783e-05,  4.85656859e-08]])"
      ]
     },
     "execution_count": 41,
     "metadata": {},
     "output_type": "execute_result"
    }
   ],
   "source": [
    "cov = np.linalg.inv(x_const.T @ V @ x_const)\n",
    "cov"
   ]
  },
  {
   "cell_type": "markdown",
   "id": "8a0ebe10-5f57-4f33-98d0-cc62259273ac",
   "metadata": {},
   "source": [
    "5. Los valores en la diagonal de la matriz de covarianza corresponden a la varianza de los factores. Utiliza los valores de la diagonal para calcular el error estándar.\n",
    "\n",
    "`se = np.sqrt(np.diag(cov))`"
   ]
  },
  {
   "cell_type": "code",
   "execution_count": null,
   "id": "99119840-b3b2-4d99-8250-ff777b67cf19",
   "metadata": {},
   "outputs": [
    {
     "data": {
      "text/plain": [
       "array([3.61168725e-01, 2.20376237e-04])"
      ]
     },
     "execution_count": 42,
     "metadata": {},
     "output_type": "execute_result"
    }
   ],
   "source": [
    "se = np.sqrt(np.diag(cov))\n",
    "se"
   ]
  },
  {
   "cell_type": "markdown",
   "id": "850e3bf5-a888-4985-936c-6655f0109b02",
   "metadata": {},
   "source": [
    "Ahora, revisemos si los estimados de nuestros coeficientes demuestran que hay una relación significativa entre los factores y la respuesta.\n",
    "\n",
    "Calculamos el estadístico *z*\n",
    "\n",
    "$$ z_j = \\frac{\\hat{\\beta_j}}{\\text{SE}(\\hat{\\beta_j})} $$"
   ]
  },
  {
   "cell_type": "code",
   "execution_count": 43,
   "id": "a49cdb9a-6ad8-4ccf-a408-c13c024d4096",
   "metadata": {},
   "outputs": [],
   "source": [
    "betas = model.params.values"
   ]
  },
  {
   "cell_type": "code",
   "execution_count": 44,
   "id": "1779d07a-583b-4124-b920-7d5b2c0dc089",
   "metadata": {},
   "outputs": [
    {
     "data": {
      "text/plain": [
       "array([-29.49128725,  24.95240415])"
      ]
     },
     "execution_count": 44,
     "metadata": {},
     "output_type": "execute_result"
    }
   ],
   "source": [
    "Z = betas / se\n",
    "Z"
   ]
  },
  {
   "cell_type": "markdown",
   "id": "d4b57cc6-6a33-4554-ba5f-1d1570986f00",
   "metadata": {},
   "source": [
    "Utilizamos el estadístico *z* para encontrar el *p-value*.\n",
    "\n",
    "`from scipy.stats import norm`\n",
    "\n",
    "`p_value = 2 * (1 - norm.cdf(abs(z_statistic)))`"
   ]
  },
  {
   "cell_type": "code",
   "execution_count": 45,
   "id": "911a0689",
   "metadata": {},
   "outputs": [],
   "source": [
    "from scipy.stats import norm"
   ]
  },
  {
   "cell_type": "code",
   "execution_count": 48,
   "id": "b95028ec-9c4b-48d3-95bb-7210202d9902",
   "metadata": {},
   "outputs": [
    {
     "data": {
      "text/plain": [
       "array([0., 0.])"
      ]
     },
     "execution_count": 48,
     "metadata": {},
     "output_type": "execute_result"
    }
   ],
   "source": [
    "p_values = 2*(1 - norm.cdf(abs(Z)))\n",
    "p_values"
   ]
  },
  {
   "cell_type": "markdown",
   "id": "a465d7b1-1f78-4ae9-84a6-2b766c737e86",
   "metadata": {},
   "source": [
    "¿Es significativa la relación de los factores con la variable de respuesta?"
   ]
  },
  {
   "cell_type": "markdown",
   "id": "24252820-f896-4cda-9ff9-14b1c4e73cc1",
   "metadata": {
    "jp-MarkdownHeadingCollapsed": true
   },
   "source": [
    "Se puede decir que la relacion del factor balance si tiene una relación directa con mi y ya que, el p_values es muy bajo por lo tanto esta variable si es significativa"
   ]
  },
  {
   "cell_type": "markdown",
   "id": "d436f218-93ab-4319-98b7-f9b2ea222efd",
   "metadata": {},
   "source": [
    "Repite el procedimiento con el factor `student`. \n",
    "1. Transforma el factor de {\"Yes\", \"No\"} a {1, 0}.\n",
    "2. Estima los coeficientes. \n",
    "3. Calcula el error estándar de tus estimaciones.\n",
    "   1. Usa tu modelo para encontrar $\\hat{p}(X)$\n",
    "   2. Calcula el error $p(1-p)$\n",
    "   3. Calcula la matriz de covarianza\n",
    "   4. Extrae el error estándar\n",
    "5. Argumenta si los factores son significativos utilizando el *p-value*.\n",
    "   1. Utiliza el error estándar para calcular el estadístico *z*\n",
    "   2. Calcula el *p-value*\n",
    "   3. ¿Son significativos?\n"
   ]
  },
  {
   "cell_type": "code",
   "execution_count": 52,
   "id": "73a2c768-6032-4c63-8d41-611c11e1fed5",
   "metadata": {},
   "outputs": [],
   "source": [
    "\n",
    "#1. Transformar el factor de yes con student con valores binarios\n",
    "X = (df['student'] == 'Yes').astype(int)\n",
    "y = (df['default'] == 'Yes').astype(int)"
   ]
  },
  {
   "cell_type": "code",
   "execution_count": 53,
   "id": "ef7cd598-ac3f-464b-91e3-f43d54040933",
   "metadata": {},
   "outputs": [
    {
     "data": {
      "text/plain": [
       "(array([-10.65132824]), array([[0.00549892]]))"
      ]
     },
     "execution_count": 53,
     "metadata": {},
     "output_type": "execute_result"
    }
   ],
   "source": [
    "#Estimar los coeficientes de la regresión logística\n",
    "model = LogisticRegression()\n",
    "model.fit(x.values.reshape(-1,1), y)\n",
    "B0 = model.intercept_\n",
    "B1 = model.coef_\n",
    "B0, B1"
   ]
  },
  {
   "cell_type": "code",
   "execution_count": 54,
   "id": "22862547-7f77-4aaa-82a8-e2474f22461b",
   "metadata": {},
   "outputs": [
    {
     "name": "stdout",
     "output_type": "stream",
     "text": [
      "Optimization terminated successfully.\n",
      "         Current function value: 0.145434\n",
      "         Iterations 7\n"
     ]
    },
    {
     "data": {
      "text/html": [
       "<table class=\"simpletable\">\n",
       "<caption>Logit Regression Results</caption>\n",
       "<tr>\n",
       "  <th>Dep. Variable:</th>        <td>default</td>     <th>  No. Observations:  </th>  <td> 10000</td>  \n",
       "</tr>\n",
       "<tr>\n",
       "  <th>Model:</th>                 <td>Logit</td>      <th>  Df Residuals:      </th>  <td>  9998</td>  \n",
       "</tr>\n",
       "<tr>\n",
       "  <th>Method:</th>                 <td>MLE</td>       <th>  Df Model:          </th>  <td>     1</td>  \n",
       "</tr>\n",
       "<tr>\n",
       "  <th>Date:</th>            <td>Sun, 05 Oct 2025</td> <th>  Pseudo R-squ.:     </th> <td>0.004097</td> \n",
       "</tr>\n",
       "<tr>\n",
       "  <th>Time:</th>                <td>22:42:43</td>     <th>  Log-Likelihood:    </th> <td> -1454.3</td> \n",
       "</tr>\n",
       "<tr>\n",
       "  <th>converged:</th>             <td>True</td>       <th>  LL-Null:           </th> <td> -1460.3</td> \n",
       "</tr>\n",
       "<tr>\n",
       "  <th>Covariance Type:</th>     <td>nonrobust</td>    <th>  LLR p-value:       </th> <td>0.0005416</td>\n",
       "</tr>\n",
       "</table>\n",
       "<table class=\"simpletable\">\n",
       "<tr>\n",
       "     <td></td>        <th>coef</th>     <th>std err</th>      <th>z</th>      <th>P>|z|</th>  <th>[0.025</th>    <th>0.975]</th>  \n",
       "</tr>\n",
       "<tr>\n",
       "  <th>const</th>   <td>   -3.5041</td> <td>    0.071</td> <td>  -49.554</td> <td> 0.000</td> <td>   -3.643</td> <td>   -3.366</td>\n",
       "</tr>\n",
       "<tr>\n",
       "  <th>student</th> <td>    0.4049</td> <td>    0.115</td> <td>    3.520</td> <td> 0.000</td> <td>    0.179</td> <td>    0.630</td>\n",
       "</tr>\n",
       "</table>"
      ],
      "text/latex": [
       "\\begin{center}\n",
       "\\begin{tabular}{lclc}\n",
       "\\toprule\n",
       "\\textbf{Dep. Variable:}   &     default      & \\textbf{  No. Observations:  } &    10000    \\\\\n",
       "\\textbf{Model:}           &      Logit       & \\textbf{  Df Residuals:      } &     9998    \\\\\n",
       "\\textbf{Method:}          &       MLE        & \\textbf{  Df Model:          } &        1    \\\\\n",
       "\\textbf{Date:}            & Sun, 05 Oct 2025 & \\textbf{  Pseudo R-squ.:     } &  0.004097   \\\\\n",
       "\\textbf{Time:}            &     22:42:43     & \\textbf{  Log-Likelihood:    } &   -1454.3   \\\\\n",
       "\\textbf{converged:}       &       True       & \\textbf{  LL-Null:           } &   -1460.3   \\\\\n",
       "\\textbf{Covariance Type:} &    nonrobust     & \\textbf{  LLR p-value:       } & 0.0005416   \\\\\n",
       "\\bottomrule\n",
       "\\end{tabular}\n",
       "\\begin{tabular}{lcccccc}\n",
       "                 & \\textbf{coef} & \\textbf{std err} & \\textbf{z} & \\textbf{P$> |$z$|$} & \\textbf{[0.025} & \\textbf{0.975]}  \\\\\n",
       "\\midrule\n",
       "\\textbf{const}   &      -3.5041  &        0.071     &   -49.554  &         0.000        &       -3.643    &       -3.366     \\\\\n",
       "\\textbf{student} &       0.4049  &        0.115     &     3.520  &         0.000        &        0.179    &        0.630     \\\\\n",
       "\\bottomrule\n",
       "\\end{tabular}\n",
       "%\\caption{Logit Regression Results}\n",
       "\\end{center}"
      ],
      "text/plain": [
       "<class 'statsmodels.iolib.summary.Summary'>\n",
       "\"\"\"\n",
       "                           Logit Regression Results                           \n",
       "==============================================================================\n",
       "Dep. Variable:                default   No. Observations:                10000\n",
       "Model:                          Logit   Df Residuals:                     9998\n",
       "Method:                           MLE   Df Model:                            1\n",
       "Date:                Sun, 05 Oct 2025   Pseudo R-squ.:                0.004097\n",
       "Time:                        22:42:43   Log-Likelihood:                -1454.3\n",
       "converged:                       True   LL-Null:                       -1460.3\n",
       "Covariance Type:            nonrobust   LLR p-value:                 0.0005416\n",
       "==============================================================================\n",
       "                 coef    std err          z      P>|z|      [0.025      0.975]\n",
       "------------------------------------------------------------------------------\n",
       "const         -3.5041      0.071    -49.554      0.000      -3.643      -3.366\n",
       "student        0.4049      0.115      3.520      0.000       0.179       0.630\n",
       "==============================================================================\n",
       "\"\"\""
      ]
     },
     "execution_count": 54,
     "metadata": {},
     "output_type": "execute_result"
    }
   ],
   "source": [
    "#Calcular el error estandar de tus estimaciones\n",
    "import statsmodels.api as sm\n",
    "\n",
    "x_const = sm.add_constant(X)\n",
    "model = sm.Logit(y, x_const).fit()\n",
    "model.summary()"
   ]
  },
  {
   "cell_type": "code",
   "execution_count": null,
   "id": "d3eea979",
   "metadata": {},
   "outputs": [
    {
     "data": {
      "text/plain": [
       "0       0.028343\n",
       "1       0.041278\n",
       "2       0.028343\n",
       "3       0.028343\n",
       "4       0.028343\n",
       "          ...   \n",
       "9995    0.028343\n",
       "9996    0.028343\n",
       "9997    0.028343\n",
       "9998    0.028343\n",
       "9999    0.041278\n",
       "Length: 10000, dtype: float64"
      ]
     },
     "execution_count": 55,
     "metadata": {},
     "output_type": "execute_result"
    }
   ],
   "source": [
    "#Encontrar p_hat(X), Calcula el error $p(1-p)$\n",
    "\n",
    "p_hat = model.predict(x_const)\n",
    "p = p_hat*(1-p_hat)\n",
    "p\n"
   ]
  },
  {
   "cell_type": "code",
   "execution_count": 59,
   "id": "15104acd",
   "metadata": {},
   "outputs": [
    {
     "data": {
      "text/plain": [
       "array([[ 0.00500035, -0.00500035],\n",
       "       [-0.00500035,  0.01322936]])"
      ]
     },
     "execution_count": 59,
     "metadata": {},
     "output_type": "execute_result"
    }
   ],
   "source": [
    "#Calcula la matriz de covarianza\n",
    "V = np.diagflat(p)\n",
    "cov = np.linalg.inv(x_const.T @ V @ x_const)\n",
    "cov"
   ]
  },
  {
   "cell_type": "code",
   "execution_count": 60,
   "id": "944d15eb",
   "metadata": {},
   "outputs": [
    {
     "data": {
      "text/plain": [
       "array([0.07071318, 0.11501894])"
      ]
     },
     "execution_count": 60,
     "metadata": {},
     "output_type": "execute_result"
    }
   ],
   "source": [
    "#Calcula el error estándar\n",
    "se = np.sqrt(np.diag(cov))\n",
    "se"
   ]
  },
  {
   "cell_type": "code",
   "execution_count": 61,
   "id": "9260f667",
   "metadata": {},
   "outputs": [
    {
     "data": {
      "text/plain": [
       "array([-49.55409422,   3.52017732])"
      ]
     },
     "execution_count": 61,
     "metadata": {},
     "output_type": "execute_result"
    }
   ],
   "source": [
    "#Utiliza el error estándar para calcular el estadístico *z*\n",
    "\n",
    "z = model.params.values / se\n",
    "z"
   ]
  },
  {
   "cell_type": "code",
   "execution_count": 62,
   "id": "4e087d1d",
   "metadata": {},
   "outputs": [
    {
     "data": {
      "text/plain": [
       "array([0.        , 0.00043126])"
      ]
     },
     "execution_count": 62,
     "metadata": {},
     "output_type": "execute_result"
    }
   ],
   "source": [
    "#Calcula el *p-value*\n",
    "p_values = 2*(1 - norm.cdf(abs(z)))\n",
    "p_values"
   ]
  },
  {
   "cell_type": "markdown",
   "id": "bdc3064d",
   "metadata": {},
   "source": [
    "Los siguientes valore siguen siendo muy significativos ya que tiene los p_values muy bajor por lo tanto los seguimos usando en nuestra regresión logistica"
   ]
  },
  {
   "cell_type": "markdown",
   "id": "78e212e9-c505-4db4-8e7a-e533f11d1286",
   "metadata": {},
   "source": [
    "## Regresión logística múltiple"
   ]
  },
  {
   "cell_type": "markdown",
   "id": "9ac8c6c2-5e15-4684-9bd9-c31854d75fe1",
   "metadata": {},
   "source": [
    "Considera ahora el caso de múltiples factores. Intentemos predecir si la persona dejará de pagar su crédito utilizando toda la información que tenemos disponible. I.e.\n",
    "\n",
    "$$ P(\\text{default}=1|\\text{balance}, \\text{income}, \\text{student}) = \\frac{1}{1 + e^{-(\\beta_0 + \\beta_1  \\text{balance} + \\beta_2 \\text{income} + \\beta_3 \\text{student})}} $$"
   ]
  },
  {
   "cell_type": "markdown",
   "id": "9ae17c0f-e754-4287-bc34-f04396100460",
   "metadata": {},
   "source": [
    "1. Utiliza `LogisticRegression` para estimar los coeficientes.\n",
    "2. Calcula el error estándar de tus estimaciones.\n",
    "3. Argumenta si los factores son significativos utilizando el *p-value*. "
   ]
  },
  {
   "cell_type": "code",
   "execution_count": null,
   "id": "e7e36334-79c4-43c8-9006-da1ddf534dd6",
   "metadata": {},
   "outputs": [],
   "source": [
    "from sklearn.linear_model import LogisticRegression"
   ]
  },
  {
   "cell_type": "code",
   "execution_count": 65,
   "id": "f6a299ea-0986-4c6a-8522-86247552b77f",
   "metadata": {},
   "outputs": [],
   "source": [
    "X = df[['balance', 'income']].copy()\n",
    "X['student'] = (df['student'] == 'Yes').astype(int)\n",
    "y = (df['default'] == 'Yes').astype(int)"
   ]
  },
  {
   "cell_type": "code",
   "execution_count": null,
   "id": "82eb6567",
   "metadata": {},
   "outputs": [
    {
     "data": {
      "text/plain": [
       "(array([-10.9018074]),\n",
       " array([[ 5.73061148e-03,  3.96161035e-06, -6.12573129e-01]]))"
      ]
     },
     "execution_count": 68,
     "metadata": {},
     "output_type": "execute_result"
    }
   ],
   "source": [
    "model = LogisticRegression()\n",
    "model.fit(X, y)\n",
    "B0 = model.intercept_\n",
    "B1 = model.coef_\n",
    "B0, B1"
   ]
  },
  {
   "cell_type": "code",
   "execution_count": 69,
   "id": "d49d4ed6-3732-4630-8445-8ae48f4135e1",
   "metadata": {},
   "outputs": [
    {
     "name": "stdout",
     "output_type": "stream",
     "text": [
      "Optimization terminated successfully.\n",
      "         Current function value: 0.078577\n",
      "         Iterations 10\n"
     ]
    },
    {
     "data": {
      "text/html": [
       "<table class=\"simpletable\">\n",
       "<caption>Logit Regression Results</caption>\n",
       "<tr>\n",
       "  <th>Dep. Variable:</th>        <td>default</td>     <th>  No. Observations:  </th>   <td> 10000</td>  \n",
       "</tr>\n",
       "<tr>\n",
       "  <th>Model:</th>                 <td>Logit</td>      <th>  Df Residuals:      </th>   <td>  9996</td>  \n",
       "</tr>\n",
       "<tr>\n",
       "  <th>Method:</th>                 <td>MLE</td>       <th>  Df Model:          </th>   <td>     3</td>  \n",
       "</tr>\n",
       "<tr>\n",
       "  <th>Date:</th>            <td>Sun, 05 Oct 2025</td> <th>  Pseudo R-squ.:     </th>   <td>0.4619</td>  \n",
       "</tr>\n",
       "<tr>\n",
       "  <th>Time:</th>                <td>22:56:44</td>     <th>  Log-Likelihood:    </th>  <td> -785.77</td> \n",
       "</tr>\n",
       "<tr>\n",
       "  <th>converged:</th>             <td>True</td>       <th>  LL-Null:           </th>  <td> -1460.3</td> \n",
       "</tr>\n",
       "<tr>\n",
       "  <th>Covariance Type:</th>     <td>nonrobust</td>    <th>  LLR p-value:       </th> <td>3.257e-292</td>\n",
       "</tr>\n",
       "</table>\n",
       "<table class=\"simpletable\">\n",
       "<tr>\n",
       "     <td></td>        <th>coef</th>     <th>std err</th>      <th>z</th>      <th>P>|z|</th>  <th>[0.025</th>    <th>0.975]</th>  \n",
       "</tr>\n",
       "<tr>\n",
       "  <th>const</th>   <td>  -10.8690</td> <td>    0.492</td> <td>  -22.079</td> <td> 0.000</td> <td>  -11.834</td> <td>   -9.904</td>\n",
       "</tr>\n",
       "<tr>\n",
       "  <th>balance</th> <td>    0.0057</td> <td>    0.000</td> <td>   24.737</td> <td> 0.000</td> <td>    0.005</td> <td>    0.006</td>\n",
       "</tr>\n",
       "<tr>\n",
       "  <th>income</th>  <td> 3.033e-06</td> <td>  8.2e-06</td> <td>    0.370</td> <td> 0.712</td> <td> -1.3e-05</td> <td> 1.91e-05</td>\n",
       "</tr>\n",
       "<tr>\n",
       "  <th>student</th> <td>   -0.6468</td> <td>    0.236</td> <td>   -2.738</td> <td> 0.006</td> <td>   -1.110</td> <td>   -0.184</td>\n",
       "</tr>\n",
       "</table><br/><br/>Possibly complete quasi-separation: A fraction 0.15 of observations can be<br/>perfectly predicted. This might indicate that there is complete<br/>quasi-separation. In this case some parameters will not be identified."
      ],
      "text/latex": [
       "\\begin{center}\n",
       "\\begin{tabular}{lclc}\n",
       "\\toprule\n",
       "\\textbf{Dep. Variable:}   &     default      & \\textbf{  No. Observations:  } &    10000    \\\\\n",
       "\\textbf{Model:}           &      Logit       & \\textbf{  Df Residuals:      } &     9996    \\\\\n",
       "\\textbf{Method:}          &       MLE        & \\textbf{  Df Model:          } &        3    \\\\\n",
       "\\textbf{Date:}            & Sun, 05 Oct 2025 & \\textbf{  Pseudo R-squ.:     } &   0.4619    \\\\\n",
       "\\textbf{Time:}            &     22:56:44     & \\textbf{  Log-Likelihood:    } &   -785.77   \\\\\n",
       "\\textbf{converged:}       &       True       & \\textbf{  LL-Null:           } &   -1460.3   \\\\\n",
       "\\textbf{Covariance Type:} &    nonrobust     & \\textbf{  LLR p-value:       } & 3.257e-292  \\\\\n",
       "\\bottomrule\n",
       "\\end{tabular}\n",
       "\\begin{tabular}{lcccccc}\n",
       "                 & \\textbf{coef} & \\textbf{std err} & \\textbf{z} & \\textbf{P$> |$z$|$} & \\textbf{[0.025} & \\textbf{0.975]}  \\\\\n",
       "\\midrule\n",
       "\\textbf{const}   &     -10.8690  &        0.492     &   -22.079  &         0.000        &      -11.834    &       -9.904     \\\\\n",
       "\\textbf{balance} &       0.0057  &        0.000     &    24.737  &         0.000        &        0.005    &        0.006     \\\\\n",
       "\\textbf{income}  &    3.033e-06  &      8.2e-06     &     0.370  &         0.712        &     -1.3e-05    &     1.91e-05     \\\\\n",
       "\\textbf{student} &      -0.6468  &        0.236     &    -2.738  &         0.006        &       -1.110    &       -0.184     \\\\\n",
       "\\bottomrule\n",
       "\\end{tabular}\n",
       "%\\caption{Logit Regression Results}\n",
       "\\end{center}\n",
       "\n",
       "Possibly complete quasi-separation: A fraction 0.15 of observations can be \\newline\n",
       " perfectly predicted. This might indicate that there is complete \\newline\n",
       " quasi-separation. In this case some parameters will not be identified."
      ],
      "text/plain": [
       "<class 'statsmodels.iolib.summary.Summary'>\n",
       "\"\"\"\n",
       "                           Logit Regression Results                           \n",
       "==============================================================================\n",
       "Dep. Variable:                default   No. Observations:                10000\n",
       "Model:                          Logit   Df Residuals:                     9996\n",
       "Method:                           MLE   Df Model:                            3\n",
       "Date:                Sun, 05 Oct 2025   Pseudo R-squ.:                  0.4619\n",
       "Time:                        22:56:44   Log-Likelihood:                -785.77\n",
       "converged:                       True   LL-Null:                       -1460.3\n",
       "Covariance Type:            nonrobust   LLR p-value:                3.257e-292\n",
       "==============================================================================\n",
       "                 coef    std err          z      P>|z|      [0.025      0.975]\n",
       "------------------------------------------------------------------------------\n",
       "const        -10.8690      0.492    -22.079      0.000     -11.834      -9.904\n",
       "balance        0.0057      0.000     24.737      0.000       0.005       0.006\n",
       "income      3.033e-06    8.2e-06      0.370      0.712    -1.3e-05    1.91e-05\n",
       "student       -0.6468      0.236     -2.738      0.006      -1.110      -0.184\n",
       "==============================================================================\n",
       "\n",
       "Possibly complete quasi-separation: A fraction 0.15 of observations can be\n",
       "perfectly predicted. This might indicate that there is complete\n",
       "quasi-separation. In this case some parameters will not be identified.\n",
       "\"\"\""
      ]
     },
     "execution_count": 69,
     "metadata": {},
     "output_type": "execute_result"
    }
   ],
   "source": [
    "#Calcular el error estandar de las estimaciones\n",
    "import statsmodels.api as sm\n",
    "x_const = sm.add_constant(X)\n",
    "model = sm.Logit(y, x_const).fit()\n",
    "model.summary()"
   ]
  },
  {
   "cell_type": "markdown",
   "id": "a25f0445",
   "metadata": {},
   "source": [
    "**Argumenta si los factores son significativos usando p_value**  \n",
    "La grán mayoría de los modelos son significativos sin embargo el income es el único modelo que no es significativo porque mi p_value, es de 0.712. Volviendolo irrelevante"
   ]
  },
  {
   "cell_type": "markdown",
   "id": "c251eb97-5c7e-470b-b95b-c04a6f8831ff",
   "metadata": {},
   "source": [
    "¿Cómo sabemos qué tan bueno es el modelo? Hay cuatro posibles casos para un problema de clasificación simple:\n",
    "- Era sí y se predijo sí. (Verdadero positivo **TP**)\n",
    "- Era sí y se predijo no. (Falso negativo **FN**)\n",
    "- Era no y se predijo sí. (Falso positivo **FP**)\n",
    "- Era no y se predijo no. (Verdadero negativo **TN**)\n",
    "\n",
    "De esos cuatro casos hay dos donde el modelo es correcto y dos donde el modelo no es correcto."
   ]
  },
  {
   "cell_type": "markdown",
   "id": "c30ff1dd-5ed3-4ec2-8f21-1b11b34db645",
   "metadata": {},
   "source": [
    "![](https://miro.medium.com/v2/resize:fit:720/format:webp/1*IuymDnZpRlkat0qejE26Nw.png)"
   ]
  },
  {
   "cell_type": "markdown",
   "id": "6510780d-6b24-41dc-a755-41daf62396ac",
   "metadata": {},
   "source": [
    "1. Menciona dos ejemplos donde consideres que un falso positivo sea un peor resultado que un falso negativo."
   ]
  },
  {
   "cell_type": "markdown",
   "id": "9f870dc7-ae32-464f-a22d-d3b073c894ec",
   "metadata": {},
   "source": [
    "Cuando tienes una deuda y te marca que ya la pagaste pero en realidad no la haz pagado por lo tanto, te genera intereses ya que, en realidad sigues debiendo dinero"
   ]
  },
  {
   "cell_type": "markdown",
   "id": "db97be2c-cd7d-4c44-9459-28286d261904",
   "metadata": {},
   "source": [
    "Cuando estas desarrollando un medicamento y ya te dice tu prueba que es apto para el público pero en realidad todavia no es apto para el publico por lo que hay efectos adversos"
   ]
  },
  {
   "cell_type": "markdown",
   "id": "5f464a8f",
   "metadata": {},
   "source": [
    "Cuando estas limpiando un rio contaminado y haces una prueba y te dice que ya es apto para el público nadar y en realidad no lo es por lo tanto, se enferman los que se meten a nadar"
   ]
  },
  {
   "cell_type": "markdown",
   "id": "994601c2-a7ff-4406-9235-d9b6bb5054bd",
   "metadata": {},
   "source": [
    "2. Menciona dos ejemplos donde consideres que un falso negativo sea un peor resultado que un falso positivo."
   ]
  },
  {
   "cell_type": "markdown",
   "id": "91e4ec0d-9d8e-4aba-a590-14f02cf68a47",
   "metadata": {},
   "source": [
    "Uno de los ejemplos de este caso sería en la medicina en el cual se quiere ver si tienes una enfermedad o no ya que el paciente está enfermo, y al momento de realizar la prueba de x enfrendad te da un falso negativo cuando en realidad si tenias la enfermedad x"
   ]
  },
  {
   "cell_type": "markdown",
   "id": "3202b95e-cb0d-4891-b07e-5981e67eab3f",
   "metadata": {},
   "source": [
    "Estas desarrollando un pesticida y quieres ver si no contamina el medio ambiente y te aparece que es negativo, la gente lo usa sin saber que estas contaminando el subsuelo y se envenena lo cosecha por culpa de ese pesticida por ese elemento contaminante"
   ]
  },
  {
   "cell_type": "markdown",
   "id": "ea6276ff-dad9-4caf-a6ed-a23a60ac7ada",
   "metadata": {},
   "source": [
    "## Referencia\n",
    "\n",
    "James, G., Witten, D., Hastie, T., Tibshirani, R.,, Taylor, J. (2023). An Introduction to Statistical Learning with Applications in Python. Cham: Springer. ISBN: 978-3-031-38746-3"
   ]
  }
 ],
 "metadata": {
  "kernelspec": {
   "display_name": "Python 3",
   "language": "python",
   "name": "python3"
  },
  "language_info": {
   "codemirror_mode": {
    "name": "ipython",
    "version": 3
   },
   "file_extension": ".py",
   "mimetype": "text/x-python",
   "name": "python",
   "nbconvert_exporter": "python",
   "pygments_lexer": "ipython3",
   "version": "3.12.4"
  }
 },
 "nbformat": 4,
 "nbformat_minor": 5
}
