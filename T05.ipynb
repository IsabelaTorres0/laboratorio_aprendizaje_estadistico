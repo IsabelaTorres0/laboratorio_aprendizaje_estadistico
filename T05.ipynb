{
 "cells": [
  {
   "cell_type": "markdown",
   "id": "d718e1f3-a75d-4f45-90de-6b91b62819de",
   "metadata": {},
   "source": [
    "# T05 - Motor Trend Car Road Tests"
   ]
  },
  {
   "cell_type": "markdown",
   "id": "0c7eda1c-6263-4c0f-ae1d-070fac3df51c",
   "metadata": {},
   "source": [
    "//                |   |\n",
    ":----------------|---|\n",
    "| **Nombre**     |  Isabela Torres-Septien Uribe |\n",
    "| **Fecha**      |  18/09/2025\n",
    "| **Expediente** |   730667 |"
   ]
  },
  {
   "cell_type": "markdown",
   "id": "84be65e5-2654-43bf-a81d-95be232a530e",
   "metadata": {},
   "source": [
    "## 1.1 Realiza una regresión tomando 'mpg' como salida y eliminando la columna 'model'. Considera todos los demás factores como numéricos/ordinales.\r\n",
    "\n",
    "- \r\n",
    "Calcula el R2 e interpreta los signos de los bet\n",
    "- .\r\n",
    "Realiza un train-test-split donde se use el 40% de los datos para entren\n",
    "- r. Calcula el R2 de entrenamiento y de prb-\n",
    "- a.\r\n",
    "Añade regularización L2 con un hiperparámetro lambda decidido por ti. Cambia este valor y compara con varios distintos los R2 de entrenamiento y de prueba."
   ]
  },
  {
   "cell_type": "code",
   "execution_count": 171,
   "id": "8aa04a0e-394a-4f21-a846-ce880de308d0",
   "metadata": {},
   "outputs": [],
   "source": [
    "import pandas as pd\n",
    "import numpy as np\n",
    "import matplotlib.pyplot as plt\n",
    "from sklearn.linear_model import LinearRegression, Ridge\n",
    "from sklearn.metrics import r2_score\n",
    "from scipy import stats\n",
    "from sklearn.preprocessing import StandardScaler\n",
    "from sklearn.metrics import mean_squared_error\n",
    "from sklearn.model_selection import train_test_split\n",
    "import statsmodels.api as sm\n"
   ]
  },
  {
   "cell_type": "code",
   "execution_count": 172,
   "id": "46f877d9-76ba-49a8-921a-825619140cdf",
   "metadata": {},
   "outputs": [
    {
     "data": {
      "text/html": [
       "<div>\n",
       "<style scoped>\n",
       "    .dataframe tbody tr th:only-of-type {\n",
       "        vertical-align: middle;\n",
       "    }\n",
       "\n",
       "    .dataframe tbody tr th {\n",
       "        vertical-align: top;\n",
       "    }\n",
       "\n",
       "    .dataframe thead th {\n",
       "        text-align: right;\n",
       "    }\n",
       "</style>\n",
       "<table border=\"1\" class=\"dataframe\">\n",
       "  <thead>\n",
       "    <tr style=\"text-align: right;\">\n",
       "      <th></th>\n",
       "      <th>mpg</th>\n",
       "      <th>cyl</th>\n",
       "      <th>disp</th>\n",
       "      <th>hp</th>\n",
       "      <th>drat</th>\n",
       "      <th>wt</th>\n",
       "      <th>qsec</th>\n",
       "      <th>vs</th>\n",
       "      <th>am</th>\n",
       "      <th>gear</th>\n",
       "      <th>carb</th>\n",
       "    </tr>\n",
       "  </thead>\n",
       "  <tbody>\n",
       "    <tr>\n",
       "      <th>0</th>\n",
       "      <td>21.0</td>\n",
       "      <td>6</td>\n",
       "      <td>160.0</td>\n",
       "      <td>110</td>\n",
       "      <td>3.90</td>\n",
       "      <td>2.620</td>\n",
       "      <td>16.46</td>\n",
       "      <td>0</td>\n",
       "      <td>1</td>\n",
       "      <td>4</td>\n",
       "      <td>4</td>\n",
       "    </tr>\n",
       "    <tr>\n",
       "      <th>1</th>\n",
       "      <td>21.0</td>\n",
       "      <td>6</td>\n",
       "      <td>160.0</td>\n",
       "      <td>110</td>\n",
       "      <td>3.90</td>\n",
       "      <td>2.875</td>\n",
       "      <td>17.02</td>\n",
       "      <td>0</td>\n",
       "      <td>1</td>\n",
       "      <td>4</td>\n",
       "      <td>4</td>\n",
       "    </tr>\n",
       "    <tr>\n",
       "      <th>2</th>\n",
       "      <td>22.8</td>\n",
       "      <td>4</td>\n",
       "      <td>108.0</td>\n",
       "      <td>93</td>\n",
       "      <td>3.85</td>\n",
       "      <td>2.320</td>\n",
       "      <td>18.61</td>\n",
       "      <td>1</td>\n",
       "      <td>1</td>\n",
       "      <td>4</td>\n",
       "      <td>1</td>\n",
       "    </tr>\n",
       "    <tr>\n",
       "      <th>3</th>\n",
       "      <td>21.4</td>\n",
       "      <td>6</td>\n",
       "      <td>258.0</td>\n",
       "      <td>110</td>\n",
       "      <td>3.08</td>\n",
       "      <td>3.215</td>\n",
       "      <td>19.44</td>\n",
       "      <td>1</td>\n",
       "      <td>0</td>\n",
       "      <td>3</td>\n",
       "      <td>1</td>\n",
       "    </tr>\n",
       "    <tr>\n",
       "      <th>4</th>\n",
       "      <td>18.7</td>\n",
       "      <td>8</td>\n",
       "      <td>360.0</td>\n",
       "      <td>175</td>\n",
       "      <td>3.15</td>\n",
       "      <td>3.440</td>\n",
       "      <td>17.02</td>\n",
       "      <td>0</td>\n",
       "      <td>0</td>\n",
       "      <td>3</td>\n",
       "      <td>2</td>\n",
       "    </tr>\n",
       "  </tbody>\n",
       "</table>\n",
       "</div>"
      ],
      "text/plain": [
       "    mpg  cyl   disp   hp  drat     wt   qsec  vs  am  gear  carb\n",
       "0  21.0    6  160.0  110  3.90  2.620  16.46   0   1     4     4\n",
       "1  21.0    6  160.0  110  3.90  2.875  17.02   0   1     4     4\n",
       "2  22.8    4  108.0   93  3.85  2.320  18.61   1   1     4     1\n",
       "3  21.4    6  258.0  110  3.08  3.215  19.44   1   0     3     1\n",
       "4  18.7    8  360.0  175  3.15  3.440  17.02   0   0     3     2"
      ]
     },
     "execution_count": 172,
     "metadata": {},
     "output_type": "execute_result"
    }
   ],
   "source": [
    "#Exportar datos\n",
    "df = pd.read_excel(\"Motor Trend Car Road Tests.xlsx\")\n",
    "data = df.drop(columns = ['model'])\n",
    "data.head()"
   ]
  },
  {
   "cell_type": "code",
   "execution_count": 173,
   "id": "2cd84e6e-4744-44b9-8a4a-57c102051e94",
   "metadata": {},
   "outputs": [],
   "source": [
    "X = data.drop(columns = ['mpg'])\n",
    "y = data['mpg']"
   ]
  },
  {
   "cell_type": "code",
   "execution_count": 174,
   "id": "3b4ecd63-27a2-4541-b604-2efd06126ef4",
   "metadata": {},
   "outputs": [
    {
     "data": {
      "text/plain": [
       "(12.303374155996304,\n",
       " array([-0.11144048,  0.01333524, -0.02148212,  0.78711097, -3.71530393,\n",
       "         0.82104075,  0.31776281,  2.52022689,  0.65541302, -0.19941925]))"
      ]
     },
     "execution_count": 174,
     "metadata": {},
     "output_type": "execute_result"
    }
   ],
   "source": [
    "X = data.drop(columns = ['mpg'])\n",
    "y = data['mpg']\n",
    "\n",
    "#Calcula el R2 e interpreta los signos de los betas.\n",
    "lr = LinearRegression()\n",
    "lr.fit(X, y)\n",
    "\n",
    "b0 = lr.intercept_\n",
    "b1 = lr.coef_\n",
    "\n",
    "b0,b1\n"
   ]
  },
  {
   "cell_type": "code",
   "execution_count": 175,
   "id": "a0bd157b-451f-469f-9a96-0bdba5cd20ae",
   "metadata": {},
   "outputs": [
    {
     "data": {
      "text/plain": [
       "0.8690157644777647"
      ]
     },
     "execution_count": 175,
     "metadata": {},
     "output_type": "execute_result"
    }
   ],
   "source": [
    "y_pred = lr.predict(X)\n",
    "#Evaluación del modelo\n",
    "RL_1_1 = r2_score(y, y_pred)\n",
    "RL_1_1\n"
   ]
  },
  {
   "cell_type": "markdown",
   "id": "e3771e71-30d5-4875-87e9-a5cbfc062e82",
   "metadata": {},
   "source": [
    "**Realiza un train-test-split donde se use el 40% de los datos para entrenar. Calcula el R2 de entrenamiento y de prueba.**"
   ]
  },
  {
   "cell_type": "code",
   "execution_count": 177,
   "id": "53ccb401-6919-475d-89bc-6e57d6605ef4",
   "metadata": {},
   "outputs": [
    {
     "data": {
      "text/plain": [
       "(16.53766082999232,\n",
       " array([-1.62402755e-01,  2.33307764e-03, -1.49348560e-02,  9.24631319e-01,\n",
       "        -2.46114602e+00,  4.92587517e-01,  3.74651744e-01,  2.30837578e+00,\n",
       "         6.85715851e-01, -5.75791252e-01]))"
      ]
     },
     "execution_count": 177,
     "metadata": {},
     "output_type": "execute_result"
    }
   ],
   "source": [
    "x_train, x_test, y_train, y_test = train_test_split(X, y, train_size=0.4, random_state=137)\n",
    "\n",
    "scaler = StandardScaler()\n",
    "X_scaled = scaler.fit_transform(X)\n",
    "\n",
    "\n",
    "ridge = Ridge(alpha=1.0, fit_intercept=True)\n",
    "ridge.fit(X_scaled, y)\n",
    "\n",
    "coef1_1 = ridge.coef_ / scaler.scale_\n",
    "r_intercept1_1 = ridge.intercept_ - np.dot(scaler.mean_, coef1_1)\n",
    "r_intercept1_1, coef1_1"
   ]
  },
  {
   "cell_type": "markdown",
   "id": "bdf16da1-9e76-40ff-a403-991c86deed31",
   "metadata": {},
   "source": [
    "Interpreta  \n"
   ]
  },
  {
   "cell_type": "markdown",
   "id": "add4f2f9-798b-4113-8984-d4b8e90fb319",
   "metadata": {},
   "source": [
    "## 1.2 Repite el ejercicio anterior usando 'qsec' como salida."
   ]
  },
  {
   "cell_type": "code",
   "execution_count": 180,
   "id": "1584e067-4656-484a-8f63-675e35419069",
   "metadata": {},
   "outputs": [
    {
     "data": {
      "text/plain": [
       "(17.77617692970129,\n",
       " array([ 0.06904768, -0.36267823, -0.00750084, -0.00156255, -0.1310636 ,\n",
       "         1.49633224,  0.97003474, -0.90118641, -0.20128511, -0.27359751]))"
      ]
     },
     "execution_count": 180,
     "metadata": {},
     "output_type": "execute_result"
    }
   ],
   "source": [
    "X1_2 = data.drop(columns = ['qsec'])\n",
    "y1_2 = data['qsec']\n",
    "\n",
    "#Calcula el R2 e interpreta los signos de los betas.\n",
    "lr = LinearRegression()\n",
    "lr.fit(X1_2, y1_2)\n",
    "\n",
    "b0_1_2 = lr.intercept_\n",
    "b1_1_2 = lr.coef_\n",
    "\n",
    "b0_1_2,b1_1_2"
   ]
  },
  {
   "cell_type": "code",
   "execution_count": 181,
   "id": "6ff6ccb8-4655-4b4e-b7b3-4053248b07b9",
   "metadata": {},
   "outputs": [
    {
     "data": {
      "text/plain": [
       "0.8746925777093999"
      ]
     },
     "execution_count": 181,
     "metadata": {},
     "output_type": "execute_result"
    }
   ],
   "source": [
    "y_pred = lr.predict(X1_2)\n",
    "#Evaluación del modelo\n",
    "RL_1_2 = r2_score(y1_2, y_pred)\n",
    "RL_1_2"
   ]
  },
  {
   "cell_type": "code",
   "execution_count": 182,
   "id": "bec500fb-52d1-4b1f-860f-31dd8c2af5e6",
   "metadata": {},
   "outputs": [
    {
     "data": {
      "text/plain": [
       "(19.285160637836686,\n",
       " array([ 0.04642889, -0.370557  , -0.00378503, -0.00505486, -0.15819341,\n",
       "         1.03384982,  1.13550633, -0.89999179, -0.24549404, -0.15811703]))"
      ]
     },
     "execution_count": 182,
     "metadata": {},
     "output_type": "execute_result"
    }
   ],
   "source": [
    "x_train, x_test, y_train, y_test = train_test_split(X1_2, y1_2, train_size=0.4, random_state=137)\n",
    "\n",
    "scaler = StandardScaler()\n",
    "X_scaled = scaler.fit_transform(X1_2)\n",
    "\n",
    "\n",
    "ridge = Ridge(alpha=1.0, fit_intercept=True)\n",
    "ridge.fit(X_scaled, y1_2)\n",
    "\n",
    "coef1_2 = ridge.coef_ / scaler.scale_\n",
    "r_intercept1_2 = ridge.intercept_ - np.dot(scaler.mean_, coef1_2)\n",
    "r_intercept1_2, coef1_2"
   ]
  },
  {
   "cell_type": "markdown",
   "id": "8e259f1d-dec9-4541-8b2f-166ee1fcc397",
   "metadata": {},
   "source": [
    "Interpreta  \n"
   ]
  },
  {
   "cell_type": "markdown",
   "id": "5f020f43-a061-4295-83ae-f384d1614a15",
   "metadata": {},
   "source": [
    "2.1 Realiza una regresión tomando 'mpg' como salida y eliminando la columna 'model'. Crea columnas dummies para los factores 'cyl', 'gear' y 'carb'."
   ]
  },
  {
   "cell_type": "code",
   "execution_count": 185,
   "id": "76eb7b02-4c81-4fb0-95f0-cf5156a4d4e7",
   "metadata": {},
   "outputs": [
    {
     "data": {
      "text/plain": [
       "(12.303374155996304,\n",
       " array([-0.11144048,  0.01333524, -0.02148212,  0.78711097, -3.71530393,\n",
       "         0.82104075,  0.31776281,  2.52022689,  0.65541302, -0.19941925]))"
      ]
     },
     "execution_count": 185,
     "metadata": {},
     "output_type": "execute_result"
    }
   ],
   "source": [
    "data2 = pd.get_dummies(df, columns=[\"cyl\", \"gear\", \"carb\"], drop_first=True)\n",
    "data2 = df.drop(columns = ['model'])\n",
    "\n",
    "X2_1 = data2.drop(columns = ['mpg'])\n",
    "y2_1 = data2['mpg']\n",
    "\n",
    "#Calcula el R2 e interpreta los signos de los betas.\n",
    "lr = LinearRegression()\n",
    "lr.fit(X2_1, y2_1)\n",
    "\n",
    "b0_2_1 = lr.intercept_\n",
    "b1_2_1 = lr.coef_\n",
    "\n",
    "b0_2_1,b1_2_1"
   ]
  },
  {
   "cell_type": "code",
   "execution_count": 186,
   "id": "fd3deccb-c543-4461-ae7d-43c84cf51dbc",
   "metadata": {},
   "outputs": [
    {
     "data": {
      "text/plain": [
       "0.8690157644777647"
      ]
     },
     "execution_count": 186,
     "metadata": {},
     "output_type": "execute_result"
    }
   ],
   "source": [
    "y_pred2 = lr.predict(X2_1)\n",
    "#Evaluación del modelo\n",
    "RL_2_1 = r2_score(y2_1, y_pred2)\n",
    "RL_2_1"
   ]
  },
  {
   "cell_type": "code",
   "execution_count": 187,
   "id": "585b6dec-d2d8-4db6-abd4-edc98e7da569",
   "metadata": {},
   "outputs": [
    {
     "data": {
      "text/plain": [
       "(16.53766082999232,\n",
       " array([-1.62402755e-01,  2.33307764e-03, -1.49348560e-02,  9.24631319e-01,\n",
       "        -2.46114602e+00,  4.92587517e-01,  3.74651744e-01,  2.30837578e+00,\n",
       "         6.85715851e-01, -5.75791252e-01]))"
      ]
     },
     "execution_count": 187,
     "metadata": {},
     "output_type": "execute_result"
    }
   ],
   "source": [
    "x_train, x_test, y_train, y_test = train_test_split(X2_1, y2_1, train_size=0.4, random_state=137)\n",
    "\n",
    "scaler = StandardScaler()\n",
    "X_scaled = scaler.fit_transform(X2_1)\n",
    "\n",
    "\n",
    "ridge = Ridge(alpha=1.0, fit_intercept=True)\n",
    "ridge.fit(X_scaled, y2_1)\n",
    "\n",
    "coef2_1 = ridge.coef_ / scaler.scale_\n",
    "r_intercept2_1 = ridge.intercept_ - np.dot(scaler.mean_, coef2_1)\n",
    "r_intercept2_1, coef2_1"
   ]
  },
  {
   "cell_type": "markdown",
   "id": "6f645af9-cabc-4a09-bffe-9a3b8a29bd5e",
   "metadata": {},
   "source": [
    "Interpreta  \n"
   ]
  },
  {
   "cell_type": "markdown",
   "id": "5667c0cf-07f4-4d57-8498-3293cc26fabe",
   "metadata": {},
   "source": [
    "2.2 Repite el ejercicio anterior usando 'qsec' como salida."
   ]
  },
  {
   "cell_type": "code",
   "execution_count": 190,
   "id": "61782292-3512-4418-bf60-9cd70356fc21",
   "metadata": {},
   "outputs": [
    {
     "data": {
      "text/plain": [
       "(17.77617692970129,\n",
       " array([ 0.06904768, -0.36267823, -0.00750084, -0.00156255, -0.1310636 ,\n",
       "         1.49633224,  0.97003474, -0.90118641, -0.20128511, -0.27359751]))"
      ]
     },
     "execution_count": 190,
     "metadata": {},
     "output_type": "execute_result"
    }
   ],
   "source": [
    "X2_2 = data2.drop(columns = ['qsec'])\n",
    "y2_2 = data2['qsec']\n",
    "\n",
    "#Calcula el R2 e interpreta los signos de los betas.\n",
    "lr = LinearRegression()\n",
    "lr.fit(X2_2, y2_2)\n",
    "\n",
    "b02_2 = lr.intercept_\n",
    "b12_2 = lr.coef_\n",
    "\n",
    "b02_2,b12_2"
   ]
  },
  {
   "cell_type": "code",
   "execution_count": 191,
   "id": "d5f9371a-b63b-4132-95d6-8d6356bc1a31",
   "metadata": {},
   "outputs": [
    {
     "data": {
      "text/plain": [
       "0.8746925777093999"
      ]
     },
     "execution_count": 191,
     "metadata": {},
     "output_type": "execute_result"
    }
   ],
   "source": [
    "y_pred2 = lr.predict(X2_2)\n",
    "#Evaluación del modelo\n",
    "RL_2_2 = r2_score(y2_2, y_pred2)\n",
    "RL_2_2"
   ]
  },
  {
   "cell_type": "code",
   "execution_count": 192,
   "id": "fb1d8212-47df-4906-a463-c3821bf60bd2",
   "metadata": {},
   "outputs": [
    {
     "data": {
      "text/plain": [
       "(19.285160637836686,\n",
       " array([ 0.04642889, -0.370557  , -0.00378503, -0.00505486, -0.15819341,\n",
       "         1.03384982,  1.13550633, -0.89999179, -0.24549404, -0.15811703]))"
      ]
     },
     "execution_count": 192,
     "metadata": {},
     "output_type": "execute_result"
    }
   ],
   "source": [
    "x_train, x_test, y_train, y_test = train_test_split(X2_2, y2_2, train_size=0.4, random_state=137)\n",
    "\n",
    "scaler = StandardScaler()\n",
    "X_scaled = scaler.fit_transform(X2_2)\n",
    "\n",
    "\n",
    "ridge = Ridge(alpha=1.0, fit_intercept=True)\n",
    "ridge.fit(X_scaled, y2_2)\n",
    "\n",
    "coef2_2 = ridge.coef_ / scaler.scale_\n",
    "r_intercept2_2 = ridge.intercept_ - np.dot(scaler.mean_, coef2_2)\n",
    "r_intercept2_2, coef2_2"
   ]
  },
  {
   "cell_type": "markdown",
   "id": "0da3a86c-1605-46aa-aeeb-f58a52ca3ec1",
   "metadata": {},
   "source": [
    "Interpret  \n"
   ]
  },
  {
   "cell_type": "markdown",
   "id": "056cefd8-2295-4662-bc0f-0244b38ff3b2",
   "metadata": {},
   "source": [
    "## 3.1 Compara los R2 de los ejercicios 1.1 & 2.1."
   ]
  },
  {
   "cell_type": "code",
   "execution_count": 195,
   "id": "93a39ce7-31ae-4d01-8046-3532320f3f2d",
   "metadata": {},
   "outputs": [
    {
     "name": "stdout",
     "output_type": "stream",
     "text": [
      "La regresión lineal de ridge 1.1:  0.8690157644777647 La regresión lineal de ridge:  0.8690157644777647\n"
     ]
    }
   ],
   "source": [
    "print(\"La regresión lineal de ridge 1.1: \", RL_1_1, \"La regresión lineal de ridge: \", RL_2_1)"
   ]
  },
  {
   "cell_type": "code",
   "execution_count": 196,
   "id": "e18e8867-f1b2-4328-bd81-a16309ffc25d",
   "metadata": {},
   "outputs": [
    {
     "data": {
      "text/plain": [
       "(16.53766082999232,\n",
       " array([-1.62402755e-01,  2.33307764e-03, -1.49348560e-02,  9.24631319e-01,\n",
       "        -2.46114602e+00,  4.92587517e-01,  3.74651744e-01,  2.30837578e+00,\n",
       "         6.85715851e-01, -5.75791252e-01]))"
      ]
     },
     "execution_count": 196,
     "metadata": {},
     "output_type": "execute_result"
    }
   ],
   "source": [
    "r_intercept1_1, coef1_1,"
   ]
  },
  {
   "cell_type": "code",
   "execution_count": 197,
   "id": "26ec7653-c967-4ca7-9ece-92919d5aea67",
   "metadata": {},
   "outputs": [
    {
     "data": {
      "text/plain": [
       "(16.53766082999232,\n",
       " array([-1.62402755e-01,  2.33307764e-03, -1.49348560e-02,  9.24631319e-01,\n",
       "        -2.46114602e+00,  4.92587517e-01,  3.74651744e-01,  2.30837578e+00,\n",
       "         6.85715851e-01, -5.75791252e-01]))"
      ]
     },
     "execution_count": 197,
     "metadata": {},
     "output_type": "execute_result"
    }
   ],
   "source": [
    "r_intercept2_1, coef2_1,"
   ]
  },
  {
   "cell_type": "markdown",
   "id": "3e95f3cd-14f0-43ae-89f8-563e18c78086",
   "metadata": {},
   "source": [
    "EN el siguiente vemos los mismos resultados, esto a mi parecer no está correcto ya que en la segunda variable quitamos valores que son dummies y que en la primera regresíon se marcaban como irrelevantes"
   ]
  },
  {
   "cell_type": "markdown",
   "id": "b02b744d-6da0-4c63-8a27-7b3b57e59405",
   "metadata": {},
   "source": [
    "## 3.2 Compara los R2 de los ejercicios 1.2 & 2.2."
   ]
  },
  {
   "cell_type": "code",
   "execution_count": 200,
   "id": "e99ea704-229f-4ebb-867e-13d8eef5956b",
   "metadata": {},
   "outputs": [
    {
     "name": "stdout",
     "output_type": "stream",
     "text": [
      "La regresión lineal de ridge 1.1:  0.8746925777093999 La regresión lineal de ridge:  0.8746925777093999\n"
     ]
    }
   ],
   "source": [
    "print(\"La regresión lineal de ridge 1.1: \", RL_1_2, \"La regresión lineal de ridge: \", RL_2_2)"
   ]
  },
  {
   "cell_type": "code",
   "execution_count": 201,
   "id": "eaaf8684-ef37-40d5-bc35-8f3520c8252f",
   "metadata": {},
   "outputs": [
    {
     "data": {
      "text/plain": [
       "(19.285160637836686,\n",
       " array([ 0.04642889, -0.370557  , -0.00378503, -0.00505486, -0.15819341,\n",
       "         1.03384982,  1.13550633, -0.89999179, -0.24549404, -0.15811703]))"
      ]
     },
     "execution_count": 201,
     "metadata": {},
     "output_type": "execute_result"
    }
   ],
   "source": [
    "r_intercept1_2, coef1_2,"
   ]
  },
  {
   "cell_type": "code",
   "execution_count": 202,
   "id": "e8cdf071-d30e-412b-8ae5-2c1fd9a59619",
   "metadata": {},
   "outputs": [
    {
     "data": {
      "text/plain": [
       "(19.285160637836686,\n",
       " array([ 0.04642889, -0.370557  , -0.00378503, -0.00505486, -0.15819341,\n",
       "         1.03384982,  1.13550633, -0.89999179, -0.24549404, -0.15811703]))"
      ]
     },
     "execution_count": 202,
     "metadata": {},
     "output_type": "execute_result"
    }
   ],
   "source": [
    "r_intercept2_2, coef2_2"
   ]
  },
  {
   "cell_type": "markdown",
   "id": "b8f41ce1-865a-495d-974b-7e781181befb",
   "metadata": {},
   "source": [
    "El mismo fenomeno está encontrado en la segunda regresión en la cual a pesar de usar qsec como nuestra y nos marcan las mismas variables, por lo que la prueba puede no ser precisa."
   ]
  },
  {
   "cell_type": "markdown",
   "id": "789f2129-9812-4680-ad11-787a2853461e",
   "metadata": {},
   "source": [
    "En CONCLUSIÓN a pesar de tener valores fuera de lo comun la regresión lineal nos ayudó a darnos cuenta de las variables que más adelante definiriamos como dummies, además de tener una gran diferencia entre nuestro R2 con MPG y con QSEC. Sin embargo, creo que aun así es mejor usar una regresión lineal con dummier. además de confirmar de que MPG  tiene mejores resultados ya que, al ser ligeramente menor es más preciso"
   ]
  },
  {
   "cell_type": "code",
   "execution_count": null,
   "id": "02c30e88-a1d3-48f7-b7f4-838e7c891f3d",
   "metadata": {},
   "outputs": [],
   "source": []
  }
 ],
 "metadata": {
  "kernelspec": {
   "display_name": "Python 3 (ipykernel)",
   "language": "python",
   "name": "python3"
  },
  "language_info": {
   "codemirror_mode": {
    "name": "ipython",
    "version": 3
   },
   "file_extension": ".py",
   "mimetype": "text/x-python",
   "name": "python",
   "nbconvert_exporter": "python",
   "pygments_lexer": "ipython3",
   "version": "3.12.4"
  }
 },
 "nbformat": 4,
 "nbformat_minor": 5
}
